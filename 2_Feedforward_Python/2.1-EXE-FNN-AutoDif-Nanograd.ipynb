{
 "cells": [
  {
   "cell_type": "markdown",
   "metadata": {
    "id": "HAva8TnYFtFu"
   },
   "source": [
    "# Contents and why we need this lab\n",
    "\n",
    "This lab is about implementing neural networks yourself before we start using other frameworks that hide some of the computation from you. It builds on the first lab, where you derived the equations for neural network forward and backward propagation and gradient descent parameter updates. \n",
    "\n",
    "All the frameworks for deep learning you will meet from now on use automatic differentiation (autodiff), so you do not have to code the backward step yourself. In this version of this lab, you will develop your own autodif implementation. We also have an optional [version](https://github.com/DeepLearningDTU/02456-deep-learning-with-PyTorch/blob/master/2_Feedforward_Python/2.2-FNN-NumPy.ipynb) of this lab where you have to code the backward pass explicitly in Numpy."
   ]
  },
  {
   "cell_type": "markdown",
   "metadata": {
    "id": "sCa7HzwpFtFy"
   },
   "source": [
    "# External sources of information\n",
    "\n",
    "1. Jupyter notebook. You can find more information about Jupyter notebooks [here](https://jupyter.org/). It will come as part of the [Anaconda](https://www.anaconda.com/) Python installation. \n",
    "2. [NumPy](https://numpy.org/). Part of Anaconda distribution.  If you already know how to program, most things about Python and NumPy can be found with Google searches.\n",
    "3. [Nanograd](https://github.com/rasmusbergpalm/nanograd) is a minimalistic version of autodiff developed by Rasmus Berg Palm that we use for our framework.\n"
   ]
  },
  {
   "cell_type": "markdown",
   "metadata": {
    "id": "1SjiIp-TFtF0"
   },
   "source": [
    "# This notebook will follow the next steps:\n",
    "\n",
    "1. Nanograd automatic differentiation framework\n",
    "2. Finite difference method\n",
    "3. Data generation\n",
    "4. Defining and initializing the network\n",
    "5. Forward pass\n",
    "6. Training loop \n",
    "7. Testing your model\n",
    "8. Further extensions"
   ]
  },
  {
   "cell_type": "markdown",
   "metadata": {
    "id": "OyXeAA-HuT7s"
   },
   "source": [
    "# Nanograd automatic differention framework"
   ]
  },
  {
   "cell_type": "markdown",
   "metadata": {
    "id": "k6UWKCLKubgA"
   },
   "source": [
    "The [Nanograd](https://github.com/rasmusbergpalm/nanograd) framework defines a class Var which both holds a value and gradient value that we can use to store the intermediate values when we apply the chain rule of differentiation."
   ]
  },
  {
   "cell_type": "code",
   "execution_count": 56,
   "metadata": {
    "id": "Jd4CoEBNzNWS"
   },
   "outputs": [],
   "source": [
    "# Copy and pasted from https://github.com/rasmusbergpalm/nanograd/blob/3a1bf9e9e724da813bfccf91a6f309abdade9f39/nanograd.py\n",
    "import math\n",
    "from math import exp, log, tanh\n",
    "\n",
    "class Var:\n",
    "    \"\"\"\n",
    "    A variable which holds a float and enables gradient computations.\n",
    "    \"\"\"\n",
    "\n",
    "    def __init__(self, val: float, grad_fn=lambda: []):\n",
    "        assert type(val) == float\n",
    "        self.v = val\n",
    "        self.grad_fn = grad_fn\n",
    "        self.grad = 0.0\n",
    "\n",
    "    def backprop(self, bp):\n",
    "        self.grad += bp\n",
    "        for input, grad in self.grad_fn():\n",
    "            input.backprop(grad * bp)\n",
    "\n",
    "    def backward(self):\n",
    "        self.backprop(1.0)\n",
    "\n",
    "    def __add__(self: 'Var', other: 'Var') -> 'Var':\n",
    "        return Var(self.v + other.v, lambda: [(self, 1.0), (other, 1.0)])\n",
    "\n",
    "    def __mul__(self: 'Var', other: 'Var') -> 'Var':\n",
    "        return Var(self.v * other.v, lambda: [(self, other.v), (other, self.v)])\n",
    "\n",
    "    def __pow__(self, power):\n",
    "        assert type(power) in {float, int}, \"power must be float or int\"\n",
    "        return Var(self.v ** power, lambda: [(self, power * self.v ** (power - 1))])\n",
    "\n",
    "    def __neg__(self: 'Var') -> 'Var':\n",
    "        return Var(-1.0) * self\n",
    "\n",
    "    def __sub__(self: 'Var', other: 'Var') -> 'Var':\n",
    "        return self + (-other)\n",
    "\n",
    "    def __truediv__(self: 'Var', other: 'Var') -> 'Var':\n",
    "        return self * other ** -1\n",
    "\n",
    "    def __repr__(self):\n",
    "        return \"Var(v=%.4f, grad=%.4f)\" % (self.v, self.grad)\n",
    "\n",
    "    def relu(self):\n",
    "        return Var(self.v if self.v > 0.0 else 0.0, lambda: [(self, 1.0 if self.v > 0.0 else 0.0)])\n",
    "    \n",
    "    def ident(self):\n",
    "        return self\n",
    "    \n",
    "    def tanh(self):\n",
    "        return Var(math.tanh(self.v),lambda: [(self, 1 - math.tanh(self.v)**2 )])\n",
    "    \n",
    "    def sigm(self):\n",
    "        d = 1/(math.exp(-self.v)+1)\n",
    "\n",
    "        return Var(d, lambda:[(d*(1-d))])\n",
    "    \n",
    "    def exp(self):\n",
    "        return Var(exp(self.v), lambda: [(self, exp(self.v))])\n",
    "    \n",
    "    def log(self):\n",
    "        return Var(log(self.v), lambda: [(self, self.v ** -1)])"
   ]
  },
  {
   "cell_type": "markdown",
   "metadata": {
    "id": "yDX67D6jzcte"
   },
   "source": [
    "A few examples illustrate how we can use this:"
   ]
  },
  {
   "cell_type": "code",
   "execution_count": 57,
   "metadata": {
    "colab": {
     "base_uri": "https://localhost:8080/"
    },
    "id": "xk6PeLc3zwPT",
    "outputId": "47e431b2-07ba-4cb1-ea21-997769641c67"
   },
   "outputs": [
    {
     "name": "stdout",
     "output_type": "stream",
     "text": [
      "Var(v=3.0000, grad=5.0000)\n",
      "Var(v=5.0000, grad=3.0000)\n",
      "Var(v=15.0000, grad=1.0000)\n"
     ]
    }
   ],
   "source": [
    "a = Var(3.0)\n",
    "b = Var(5.0)\n",
    "f = a * b\n",
    "\n",
    "f.backward()\n",
    "\n",
    "for v in [a, b, f]:\n",
    "    print(v)"
   ]
  },
  {
   "cell_type": "code",
   "execution_count": 58,
   "metadata": {
    "colab": {
     "base_uri": "https://localhost:8080/"
    },
    "id": "JmKhYgsY0g_o",
    "outputId": "06c1b1df-c33c-40d3-922a-624612a591c7"
   },
   "outputs": [
    {
     "name": "stdout",
     "output_type": "stream",
     "text": [
      "Var(v=3.0000, grad=14.0000)\n",
      "Var(v=5.0000, grad=3.0000)\n",
      "Var(v=15.0000, grad=1.0000)\n",
      "Var(v=9.0000, grad=3.0000)\n",
      "Var(v=27.0000, grad=1.0000)\n",
      "Var(v=42.0000, grad=1.0000)\n"
     ]
    }
   ],
   "source": [
    "a = Var(3.0)\n",
    "b = Var(5.0)\n",
    "c = a * b\n",
    "d = Var(9.0)\n",
    "e = a * d\n",
    "f = c + e\n",
    "\n",
    "f.backward()\n",
    "\n",
    "for v in [a, b, c, d, e, f]:\n",
    "    print(v)"
   ]
  },
  {
   "cell_type": "markdown",
   "metadata": {
    "id": "Fe3B6uEH140p"
   },
   "source": [
    "## Exercise a) What is being calculated?\n",
    "\n",
    "Explain briefly the output of the code? What is the expression we differentiate and with respect to what variables?\n",
    "\n",
    "Its being calculated: d*a + a*b = 42, as well as the value of the gradient in each node\n",
    "\n",
    "The expression being differentiated is f in respect to a,b and d\n",
    "\n",
    "\n",
    "\n",
    "\n"
   ]
  },
  {
   "cell_type": "markdown",
   "metadata": {
    "id": "q8_Q0t2I3Ruj"
   },
   "source": [
    "## Exercise b) How does the backward function work?\n",
    "\n",
    "You need to understand how the backward function calculates the gradients. We can use the two examples above to help with that.\n",
    "\n",
    "Go through the following four steps and answer the questions on the way:\n",
    "\n",
    "1. We represent the two expressions as graphs as shown below. Fill in the missing expressions for the different derivatives.\n",
    "\n",
    "2. In the remainder consider the first expression. Make a schematic of the data structure which is generated when we define the expression for f. \n",
    "\n",
    "3. Then execute the backward function by hand to convince yourself that it indeed calculates the gradients with respect to the variables. \n",
    "df/df = 1\n",
    "\n",
    "df/da = df/df * df/da = 1*b \n",
    "\n",
    "df/db = df/df * df/db = 1*a \n",
    "\n",
    "4. Write down the sequence of calls to backprop.\n",
    "\n",
    "Initialization of df/da and df/db =0\n",
    "\n",
    "Initialize df/df= 1\n",
    "\n",
    "Update gradiets of a and b"
   ]
  },
  {
   "cell_type": "code",
   "execution_count": 59,
   "metadata": {
    "id": "idGr71jYXl26"
   },
   "outputs": [],
   "source": [
    "# import logging\n",
    "import graphviz\n",
    "\n",
    "#logging.basicConfig(format='[%(levelname)s@%(name)s] %(message)s', level=logging.DEBUG)\n",
    "\n",
    "#graphviz.__version__, graphviz.version()"
   ]
  },
  {
   "cell_type": "code",
   "execution_count": 60,
   "metadata": {
    "colab": {
     "base_uri": "https://localhost:8080/",
     "height": 152
    },
    "id": "KPe30Q2QXzeG",
    "outputId": "7fa002cd-a018-4dbb-ddf1-28ed5e99ee19"
   },
   "outputs": [
    {
     "data": {
      "image/svg+xml": [
       "<?xml version=\"1.0\" encoding=\"UTF-8\" standalone=\"no\"?>\n",
       "<!DOCTYPE svg PUBLIC \"-//W3C//DTD SVG 1.1//EN\"\n",
       " \"http://www.w3.org/Graphics/SVG/1.1/DTD/svg11.dtd\">\n",
       "<!-- Generated by graphviz version 2.43.0 (0)\n",
       " -->\n",
       "<!-- Title: first expression Pages: 1 -->\n",
       "<svg width=\"174pt\" height=\"98pt\"\n",
       " viewBox=\"0.00 0.00 174.00 98.00\" xmlns=\"http://www.w3.org/2000/svg\" xmlns:xlink=\"http://www.w3.org/1999/xlink\">\n",
       "<g id=\"graph0\" class=\"graph\" transform=\"scale(1 1) rotate(0) translate(4 94)\">\n",
       "<title>first expression</title>\n",
       "<polygon fill=\"white\" stroke=\"transparent\" points=\"-4,4 -4,-94 170,-94 170,4 -4,4\"/>\n",
       "<!-- a -->\n",
       "<g id=\"node1\" class=\"node\">\n",
       "<title>a</title>\n",
       "<ellipse fill=\"none\" stroke=\"black\" cx=\"18\" cy=\"-72\" rx=\"18\" ry=\"18\"/>\n",
       "<text text-anchor=\"middle\" x=\"18\" y=\"-68.3\" font-family=\"Times,serif\" font-size=\"14.00\">a</text>\n",
       "</g>\n",
       "<!-- f -->\n",
       "<g id=\"node2\" class=\"node\">\n",
       "<title>f</title>\n",
       "<ellipse fill=\"none\" stroke=\"black\" cx=\"148\" cy=\"-45\" rx=\"18\" ry=\"18\"/>\n",
       "<text text-anchor=\"middle\" x=\"148\" y=\"-41.3\" font-family=\"Times,serif\" font-size=\"14.00\">f</text>\n",
       "</g>\n",
       "<!-- a&#45;&gt;f -->\n",
       "<g id=\"edge1\" class=\"edge\">\n",
       "<title>a&#45;&gt;f</title>\n",
       "<path fill=\"none\" stroke=\"black\" d=\"M35.73,-68.47C57.2,-63.94 94.69,-56.03 120.16,-50.66\"/>\n",
       "<polygon fill=\"black\" stroke=\"black\" points=\"121.2,-54.02 130.26,-48.53 119.76,-47.17 121.2,-54.02\"/>\n",
       "<text text-anchor=\"middle\" x=\"83\" y=\"-67.8\" font-family=\"Times,serif\" font-size=\"14.00\">df/da=b</text>\n",
       "</g>\n",
       "<!-- b -->\n",
       "<g id=\"node3\" class=\"node\">\n",
       "<title>b</title>\n",
       "<ellipse fill=\"none\" stroke=\"black\" cx=\"18\" cy=\"-18\" rx=\"18\" ry=\"18\"/>\n",
       "<text text-anchor=\"middle\" x=\"18\" y=\"-14.3\" font-family=\"Times,serif\" font-size=\"14.00\">b</text>\n",
       "</g>\n",
       "<!-- b&#45;&gt;f -->\n",
       "<g id=\"edge2\" class=\"edge\">\n",
       "<title>b&#45;&gt;f</title>\n",
       "<path fill=\"none\" stroke=\"black\" d=\"M35.98,-19.86C54.75,-22.11 85.82,-26.45 112,-33 115.02,-33.76 118.15,-34.65 121.24,-35.62\"/>\n",
       "<polygon fill=\"black\" stroke=\"black\" points=\"120.2,-38.96 130.79,-38.8 122.41,-32.32 120.2,-38.96\"/>\n",
       "<text text-anchor=\"middle\" x=\"83\" y=\"-36.8\" font-family=\"Times,serif\" font-size=\"14.00\">df/db=a</text>\n",
       "</g>\n",
       "</g>\n",
       "</svg>\n"
      ],
      "text/plain": [
       "<graphviz.graphs.Digraph at 0x7f649d079300>"
      ]
     },
     "execution_count": 60,
     "metadata": {},
     "output_type": "execute_result"
    }
   ],
   "source": [
    "e1 = graphviz.Digraph('first expression', filename='fsm.gv')\n",
    "\n",
    "e1.attr(rankdir='LR', size='8,5')\n",
    "\n",
    "e1.attr('node', shape='circle')\n",
    "e1.edge('a', 'f', label='df/da=b')\n",
    "e1.edge('b', 'f', label='df/db=a')\n",
    "\n",
    "e1"
   ]
  },
  {
   "cell_type": "code",
   "execution_count": 61,
   "metadata": {
    "colab": {
     "base_uri": "https://localhost:8080/",
     "height": 232
    },
    "id": "0nittR-mZFeX",
    "outputId": "fa3656a3-732c-4abe-8084-98a492b0d6be"
   },
   "outputs": [
    {
     "data": {
      "image/svg+xml": [
       "<?xml version=\"1.0\" encoding=\"UTF-8\" standalone=\"no\"?>\n",
       "<!DOCTYPE svg PUBLIC \"-//W3C//DTD SVG 1.1//EN\"\n",
       " \"http://www.w3.org/Graphics/SVG/1.1/DTD/svg11.dtd\">\n",
       "<!-- Generated by graphviz version 2.43.0 (0)\n",
       " -->\n",
       "<!-- Title: second expression Pages: 1 -->\n",
       "<svg width=\"305pt\" height=\"158pt\"\n",
       " viewBox=\"0.00 0.00 305.00 158.00\" xmlns=\"http://www.w3.org/2000/svg\" xmlns:xlink=\"http://www.w3.org/1999/xlink\">\n",
       "<g id=\"graph0\" class=\"graph\" transform=\"scale(1 1) rotate(0) translate(4 154)\">\n",
       "<title>second expression</title>\n",
       "<polygon fill=\"white\" stroke=\"transparent\" points=\"-4,4 -4,-154 301,-154 301,4 -4,4\"/>\n",
       "<!-- a -->\n",
       "<g id=\"node1\" class=\"node\">\n",
       "<title>a</title>\n",
       "<ellipse fill=\"none\" stroke=\"black\" cx=\"18\" cy=\"-75\" rx=\"18\" ry=\"18\"/>\n",
       "<text text-anchor=\"middle\" x=\"18\" y=\"-71.3\" font-family=\"Times,serif\" font-size=\"14.00\">a</text>\n",
       "</g>\n",
       "<!-- c -->\n",
       "<g id=\"node2\" class=\"node\">\n",
       "<title>c</title>\n",
       "<ellipse fill=\"none\" stroke=\"black\" cx=\"151\" cy=\"-102\" rx=\"18\" ry=\"18\"/>\n",
       "<text text-anchor=\"middle\" x=\"151\" y=\"-98.3\" font-family=\"Times,serif\" font-size=\"14.00\">c</text>\n",
       "</g>\n",
       "<!-- a&#45;&gt;c -->\n",
       "<g id=\"edge1\" class=\"edge\">\n",
       "<title>a&#45;&gt;c</title>\n",
       "<path fill=\"none\" stroke=\"black\" d=\"M35.86,-78.47C57.97,-83.03 97.01,-91.08 123.19,-96.48\"/>\n",
       "<polygon fill=\"black\" stroke=\"black\" points=\"122.71,-99.95 133.21,-98.54 124.12,-93.09 122.71,-99.95\"/>\n",
       "<text text-anchor=\"middle\" x=\"84.5\" y=\"-97.8\" font-family=\"Times,serif\" font-size=\"14.00\">dc/da=b</text>\n",
       "</g>\n",
       "<!-- e -->\n",
       "<g id=\"node4\" class=\"node\">\n",
       "<title>e</title>\n",
       "<ellipse fill=\"none\" stroke=\"black\" cx=\"151\" cy=\"-48\" rx=\"18\" ry=\"18\"/>\n",
       "<text text-anchor=\"middle\" x=\"151\" y=\"-44.3\" font-family=\"Times,serif\" font-size=\"14.00\">e</text>\n",
       "</g>\n",
       "<!-- a&#45;&gt;e -->\n",
       "<g id=\"edge3\" class=\"edge\">\n",
       "<title>a&#45;&gt;e</title>\n",
       "<path fill=\"none\" stroke=\"black\" d=\"M35.2,-68.78C41.06,-66.71 47.76,-64.54 54,-63 76.93,-57.32 103.51,-53.37 122.88,-50.95\"/>\n",
       "<polygon fill=\"black\" stroke=\"black\" points=\"123.31,-54.42 132.83,-49.76 122.48,-47.47 123.31,-54.42\"/>\n",
       "<text text-anchor=\"middle\" x=\"84.5\" y=\"-66.8\" font-family=\"Times,serif\" font-size=\"14.00\">de/da=d</text>\n",
       "</g>\n",
       "<!-- f -->\n",
       "<g id=\"node6\" class=\"node\">\n",
       "<title>f</title>\n",
       "<ellipse fill=\"none\" stroke=\"black\" cx=\"279\" cy=\"-75\" rx=\"18\" ry=\"18\"/>\n",
       "<text text-anchor=\"middle\" x=\"279\" y=\"-71.3\" font-family=\"Times,serif\" font-size=\"14.00\">f</text>\n",
       "</g>\n",
       "<!-- c&#45;&gt;f -->\n",
       "<g id=\"edge5\" class=\"edge\">\n",
       "<title>c&#45;&gt;f</title>\n",
       "<path fill=\"none\" stroke=\"black\" d=\"M168.73,-98.41C189.82,-93.9 226.32,-86.07 251.28,-80.72\"/>\n",
       "<polygon fill=\"black\" stroke=\"black\" points=\"252.15,-84.12 261.2,-78.6 250.69,-77.27 252.15,-84.12\"/>\n",
       "<text text-anchor=\"middle\" x=\"215\" y=\"-97.8\" font-family=\"Times,serif\" font-size=\"14.00\">df/dc=e</text>\n",
       "</g>\n",
       "<!-- b -->\n",
       "<g id=\"node3\" class=\"node\">\n",
       "<title>b</title>\n",
       "<ellipse fill=\"none\" stroke=\"black\" cx=\"18\" cy=\"-132\" rx=\"18\" ry=\"18\"/>\n",
       "<text text-anchor=\"middle\" x=\"18\" y=\"-128.3\" font-family=\"Times,serif\" font-size=\"14.00\">b</text>\n",
       "</g>\n",
       "<!-- b&#45;&gt;c -->\n",
       "<g id=\"edge2\" class=\"edge\">\n",
       "<title>b&#45;&gt;c</title>\n",
       "<path fill=\"none\" stroke=\"black\" d=\"M35.86,-128.14C57.97,-123.08 97.01,-114.14 123.19,-108.14\"/>\n",
       "<polygon fill=\"black\" stroke=\"black\" points=\"124.24,-111.49 133.21,-105.85 122.68,-104.67 124.24,-111.49\"/>\n",
       "<text text-anchor=\"middle\" x=\"84.5\" y=\"-126.8\" font-family=\"Times,serif\" font-size=\"14.00\">dc/db=a</text>\n",
       "</g>\n",
       "<!-- e&#45;&gt;f -->\n",
       "<g id=\"edge6\" class=\"edge\">\n",
       "<title>e&#45;&gt;f</title>\n",
       "<path fill=\"none\" stroke=\"black\" d=\"M168.94,-49.93C187.35,-52.23 217.54,-56.58 243,-63 246.02,-63.76 249.15,-64.66 252.24,-65.63\"/>\n",
       "<polygon fill=\"black\" stroke=\"black\" points=\"251.19,-68.97 261.79,-68.81 253.41,-62.33 251.19,-68.97\"/>\n",
       "<text text-anchor=\"middle\" x=\"215\" y=\"-66.8\" font-family=\"Times,serif\" font-size=\"14.00\">df/de=c</text>\n",
       "</g>\n",
       "<!-- d -->\n",
       "<g id=\"node5\" class=\"node\">\n",
       "<title>d</title>\n",
       "<ellipse fill=\"none\" stroke=\"black\" cx=\"18\" cy=\"-18\" rx=\"18\" ry=\"18\"/>\n",
       "<text text-anchor=\"middle\" x=\"18\" y=\"-14.3\" font-family=\"Times,serif\" font-size=\"14.00\">d</text>\n",
       "</g>\n",
       "<!-- d&#45;&gt;e -->\n",
       "<g id=\"edge4\" class=\"edge\">\n",
       "<title>d&#45;&gt;e</title>\n",
       "<path fill=\"none\" stroke=\"black\" d=\"M36.27,-19.39C55.71,-21.25 88.09,-25.26 115,-33 118.41,-33.98 121.92,-35.21 125.35,-36.54\"/>\n",
       "<polygon fill=\"black\" stroke=\"black\" points=\"124.05,-39.78 134.62,-40.42 126.76,-33.33 124.05,-39.78\"/>\n",
       "<text text-anchor=\"middle\" x=\"84.5\" y=\"-36.8\" font-family=\"Times,serif\" font-size=\"14.00\">de/dd=a</text>\n",
       "</g>\n",
       "</g>\n",
       "</svg>\n"
      ],
      "text/plain": [
       "<graphviz.graphs.Digraph at 0x7f649d079ff0>"
      ]
     },
     "execution_count": 61,
     "metadata": {},
     "output_type": "execute_result"
    }
   ],
   "source": [
    "e2 = graphviz.Digraph('second expression', filename='fsm.gv')\n",
    "\n",
    "e2.attr(rankdir='LR', size='8,5')\n",
    "\n",
    "e2.attr('node', shape='circle')\n",
    "e2.edge('a', 'c', label='dc/da=b')\n",
    "e2.edge('b', 'c', label='dc/db=a')\n",
    "e2.edge('a', 'e', label='de/da=d')\n",
    "e2.edge('d', 'e', label='de/dd=a')\n",
    "e2.edge('c', 'f', label='df/dc=e')\n",
    "e2.edge('e', 'f', label='df/de=c')\n",
    "\n",
    "e2"
   ]
  },
  {
   "cell_type": "markdown",
   "metadata": {
    "id": "A5oi21W4gpeM"
   },
   "source": [
    "## Exercise c) What happens if we run backward again?\n",
    "\n",
    "Try to execute the code below. Explain what happens.\n",
    "\n",
    "S: It backpropagates the gradients reupdating the gradients in each node"
   ]
  },
  {
   "cell_type": "code",
   "execution_count": 62,
   "metadata": {
    "colab": {
     "base_uri": "https://localhost:8080/"
    },
    "id": "DCtpJyr-gyX1",
    "outputId": "d014bcfa-c9ae-49c3-d268-91cc6ca94ea5"
   },
   "outputs": [
    {
     "name": "stdout",
     "output_type": "stream",
     "text": [
      "Var(v=3.0000, grad=28.0000)\n",
      "Var(v=5.0000, grad=6.0000)\n",
      "Var(v=15.0000, grad=2.0000)\n",
      "Var(v=9.0000, grad=6.0000)\n",
      "Var(v=27.0000, grad=2.0000)\n",
      "Var(v=42.0000, grad=2.0000)\n"
     ]
    }
   ],
   "source": [
    "f.backward()\n",
    "\n",
    "for v in [a, b, c, d, e, f]:\n",
    "    print(v)"
   ]
  },
  {
   "cell_type": "markdown",
   "metadata": {
    "id": "e8bPVq2VhsP-"
   },
   "source": [
    "## Exercise d) Zero gradient\n",
    "\n",
    "We can zero the gradient by backpropagating a -1.0 as is shown in the example below. (If you have run backward multiple time then you also have to run the cell below an equal amount of times.) Explain what is going on.\n",
    "\n",
    "S: The gradient of each node is calculated with  grad += grad * bp.\n",
    "\n",
    "If bp is -1 the accumulation will lead to 0"
   ]
  },
  {
   "cell_type": "code",
   "execution_count": 63,
   "metadata": {
    "colab": {
     "base_uri": "https://localhost:8080/"
    },
    "id": "OnyPDQx9lJe0",
    "outputId": "7a125fdc-60c4-4340-a580-8b82aea5b0db"
   },
   "outputs": [
    {
     "name": "stdout",
     "output_type": "stream",
     "text": [
      "Var(v=2.0000, grad=0.0000)\n",
      "Var(v=5.0000, grad=6.0000)\n",
      "Var(v=15.0000, grad=2.0000)\n",
      "Var(v=9.0000, grad=6.0000)\n",
      "Var(v=27.0000, grad=2.0000)\n",
      "Var(v=42.0000, grad=2.0000)\n",
      "Var(v=2.0000, grad=0.0000)\n",
      "Var(v=5.0000, grad=3.0000)\n",
      "Var(v=15.0000, grad=1.0000)\n",
      "Var(v=9.0000, grad=3.0000)\n",
      "Var(v=27.0000, grad=1.0000)\n",
      "Var(v=42.0000, grad=1.0000)\n"
     ]
    }
   ],
   "source": [
    "a = Var(2.0)\n",
    "\n",
    "for v in [a, b, c, d, e, f]:\n",
    "    print(v)\n",
    "\n",
    "f.backprop(-1.0)\n",
    "\n",
    "for v in [a, b, c, d, e, f]:\n",
    "    print(v)"
   ]
  },
  {
   "cell_type": "markdown",
   "metadata": {
    "id": "U4057_ljNvWB"
   },
   "source": [
    "## Exercise e) Test correctness of derivatives with the finite difference method\n",
    "\n",
    "Write a small function that uses [the finite difference method](https://en.wikipedia.org/wiki/Finite_difference_method) to numerically test that backpropation implementation is working. In short we will use\n",
    "$$\n",
    "\\frac{\\partial f(a)}{\\partial a} \\approx \\frac{f(a+da)-f(a)}{da}\n",
    "$$\n",
    "for $da \\ll 1$.\n",
    "\n",
    "As an example, we could approximate the derivative of the function $f(a)=a^2$ in e.g. the value $a=4$ using the finite difference method. This amounts to inserting the relevant values and approximating the gradient $f'(4)$ with the fraction above. \n"
   ]
  },
  {
   "cell_type": "code",
   "execution_count": 64,
   "metadata": {
    "colab": {
     "base_uri": "https://localhost:8080/"
    },
    "id": "9TGil92lSXDN",
    "outputId": "7ef5489b-b525-4132-ab08-0b1109c07f4d"
   },
   "outputs": [
    {
     "name": "stdout",
     "output_type": "stream",
     "text": [
      "Var(v=3.0000, grad=5.0000)\n",
      "Var(v=5.0000, grad=3.0000)\n",
      "Var(v=15.0000, grad=1.0000)\n"
     ]
    }
   ],
   "source": [
    "# f function - try to change the code to test other types of functions as well (such as different polynomials etc.)\n",
    "def f_function(a):\n",
    "  a = Var(a)\n",
    "  b = Var(5.0)\n",
    "  f = a * b\n",
    "  f.backward()\n",
    "  return a,b,f\n",
    "\n",
    "for v in f_function(3.0):\n",
    "  print(v)\n",
    "\n",
    "# Insert your finite difference code here\n",
    "def finite_difference(a=3, da=1e-10):\n",
    "    \"\"\"\n",
    "    This function compute the finite difference between\n",
    "    \n",
    "    Input:\n",
    "    da:          The finite difference                           (float)\n",
    "    \n",
    "    Output:\n",
    "    finite_difference: numerical approximation to the derivative (float) \n",
    "    \"\"\"\n",
    "    _,_, fa_da = f_function(a+da)           # <- Insert correct expression\n",
    "    _,_, fa = f_function(a)               # <- Insert correct expression\n",
    "\n",
    "    fa_da_v = fa_da.v\n",
    "    fa_v = fa.v\n",
    "\n",
    "    finite_difference1 = (fa_da_v - fa_v) / da\n",
    "    \n",
    "    return finite_difference\n"
   ]
  },
  {
   "cell_type": "markdown",
   "metadata": {
    "id": "6pZar5RKaUkg"
   },
   "source": [
    "# Create an artificial dataset to play with\n",
    "\n",
    "We create a non-linear 1d regression task. The generator supports various noise levels and it creates train, validation and test sets. You can modify it yourself if you want more or less challenging tasks."
   ]
  },
  {
   "cell_type": "code",
   "execution_count": 65,
   "metadata": {
    "id": "Y6yfMAQ8aduj"
   },
   "outputs": [],
   "source": [
    "import numpy as np\n",
    "import matplotlib.pyplot as plt\n",
    "\n",
    "np.random.seed(42)"
   ]
  },
  {
   "cell_type": "code",
   "execution_count": 66,
   "metadata": {
    "id": "4YabfD43ajNh"
   },
   "outputs": [],
   "source": [
    "def data_generator(noise=0.1, n_samples=300, D1=True):\n",
    "    # Create covariates and response variable\n",
    "    if D1:\n",
    "        X = np.linspace(-3, 3, num=n_samples).reshape(-1,1) # 1-D\n",
    "        np.random.shuffle(X)\n",
    "        y = np.random.normal((0.5*np.sin(X[:,0]*3) + X[:,0]), noise) # 1-D with trend\n",
    "    else:\n",
    "        X = np.random.multivariate_normal(np.zeros(3), noise*np.eye(3), size = n_samples) # 3-D\n",
    "        np.random.shuffle(X)    \n",
    "        y = np.sin(X[:,0]) - 5*(X[:,1]**2) + 0.5*X[:,2] # 3-D\n",
    "\n",
    "    # Stack them together vertically to split data set\n",
    "    data_set = np.vstack((X.T,y)).T\n",
    "    \n",
    "    train, validation, test = np.split(data_set, [int(0.35*n_samples), int(0.7*n_samples)], axis=0)\n",
    "    \n",
    "    # Standardization of the data, remember we do the standardization with the training set mean and standard deviation\n",
    "    train_mu = np.mean(train, axis=0)\n",
    "    train_sigma = np.std(train, axis=0)\n",
    "    \n",
    "    train = (train-train_mu)/train_sigma\n",
    "    validation = (validation-train_mu)/train_sigma\n",
    "    test = (test-train_mu)/train_sigma\n",
    "    \n",
    "    x_train, x_validation, x_test = train[:,:-1], validation[:,:-1], test[:,:-1]\n",
    "    y_train, y_validation, y_test = train[:,-1], validation[:,-1], test[:,-1]\n",
    "\n",
    "    return x_train, y_train,  x_validation, y_validation, x_test, y_test"
   ]
  },
  {
   "cell_type": "code",
   "execution_count": 67,
   "metadata": {
    "id": "u1oDngHLapIz"
   },
   "outputs": [],
   "source": [
    "D1 = True\n",
    "x_train, y_train,  x_validation, y_validation, x_test, y_test = data_generator(noise=0.5, D1=D1)"
   ]
  },
  {
   "cell_type": "code",
   "execution_count": 68,
   "metadata": {
    "colab": {
     "base_uri": "https://localhost:8080/",
     "height": 265
    },
    "id": "Ysfa3FsBavlm",
    "outputId": "399e5382-ae7d-48f6-9774-7ea4c73e7d95"
   },
   "outputs": [
    {
     "data": {
      "image/png": "[encoded data removed]",
      "text/plain": [
       "<Figure size 640x480 with 1 Axes>"
      ]
     },
     "metadata": {},
     "output_type": "display_data"
    }
   ],
   "source": [
    "if D1:\n",
    "    plt.scatter(x_train[:,0], y_train);\n",
    "    plt.scatter(x_validation[:,0], y_validation);\n",
    "    plt.scatter(x_test[:,0], y_test);\n",
    "else:\n",
    "    plt.scatter(x_train[:,1], y_train);\n",
    "    plt.scatter(x_validation[:,1], y_validation);\n",
    "    plt.scatter(x_test[:,1], y_test);\n",
    "plt.show()"
   ]
  },
  {
   "cell_type": "code",
   "execution_count": 69,
   "metadata": {
    "id": "zac2HHNlgbpm"
   },
   "outputs": [],
   "source": [
    "# convert from nparray to Var\n",
    "def nparray_to_Var(x):\n",
    "  if x.ndim==1:\n",
    "    y = [[Var(float(x[i]))] for i in range(x.shape[0])] # always work with list of list\n",
    "  else:\n",
    "    y = [[Var(float(x[i,j])) for j in range(x.shape[1])] for i in range(x.shape[0])]\n",
    "  return y\n",
    "   \n",
    "x_train = nparray_to_Var(x_train)\n",
    "y_train = nparray_to_Var(y_train)\n",
    "x_validation = nparray_to_Var(x_validation)\n",
    "y_validation = nparray_to_Var(y_validation)\n",
    "x_test = nparray_to_Var(x_test)\n",
    "y_test = nparray_to_Var(y_test)\n"
   ]
  },
  {
   "cell_type": "markdown",
   "metadata": {
    "id": "VbjrqcpVFtGe"
   },
   "source": [
    "# Defining and initializing the network\n",
    "\n",
    "The steps to create a feed forward neural network are the following:\n",
    "\n",
    "1. **Number of hidden layer and hidden units**. We have to define the number of hidden units in each layer. The number of features in X and the output dimensionality (the size of Y) are given but the numbers in between are set by the researcher. Remember that for each unit in each layer beside in the input has a bias term.\n",
    "2. **Activation functions** for each hidden layer. Each hidden layer in your list must have an activation function (it can also be the linear activation which is equivalent to identity function). The power of neural networks comes from non-linear activation functions that learn representations (features) from the data allowing us to learn from it. \n",
    "3. **Parameter initialization**. We will initialize the weights to have random values. This is done in practice by drawing pseudo random numbers from a Gaussian or uniform distribution. It turns out that for deeper models we have to be careful about how we scale the random numbers. This will be the topic of the exercise below. For now we will just use unit variance Gaussians.  \n",
    "\n",
    "In order to make life easier for ourselves we define a DenseLayer class that takes care of initialization and the forward pass. We can also extend it later with print and advanced initialization capabilities. For the latter we have introduced a Initializer class.\n",
    "\n",
    "Note that we use Sequence in the code below. A Sequence is an ordered list. This means the order we insert and access items are the same."
   ]
  },
  {
   "cell_type": "code",
   "execution_count": 70,
   "metadata": {
    "id": "ij_ieRsAt7Xt"
   },
   "outputs": [],
   "source": [
    "class Initializer:\n",
    "\n",
    "  def init_weights(self, n_in, n_out):\n",
    "    raise NotImplementedError\n",
    "\n",
    "  def init_bias(self, n_out):\n",
    "    raise NotImplementedError"
   ]
  },
  {
   "cell_type": "code",
   "execution_count": 71,
   "metadata": {
    "id": "eb18N5phuIha"
   },
   "outputs": [],
   "source": [
    "import random\n",
    "\n",
    "class NormalInitializer(Initializer):\n",
    "\n",
    "  def __init__(self, mean=0, std=0.1):\n",
    "    self.mean = mean\n",
    "    self.std = std\n",
    "\n",
    "  def init_weights(self, n_in, n_out):\n",
    "    return [[Var(random.gauss(self.mean, self.std)) for _ in range(n_out)] for _ in range(n_in)]\n",
    "\n",
    "  def init_bias(self, n_out):\n",
    "    return [Var(0.0) for _ in range(n_out)]\n",
    "\n",
    "class ConstantInitializer(Initializer):\n",
    "\n",
    "  def __init__(self, weight=1.0, bias=0.0):\n",
    "    self.weight = weight\n",
    "    self.bias = bias\n",
    "\n",
    "  def init_weights(self, n_in, n_out):\n",
    "    return [[Var(self.weight) for _ in range(n_out)] for _ in range(n_in)]\n",
    "\n",
    "  def init_bias(self, n_out):\n",
    "    return [Var(self.bias) for _ in range(n_out)]"
   ]
  },
  {
   "cell_type": "code",
   "execution_count": 72,
   "metadata": {
    "id": "jOLYGnZKuM6W"
   },
   "outputs": [],
   "source": [
    "from typing import Sequence\n",
    "\n",
    "class DenseLayer:\n",
    "    def __init__(self, n_in: int, n_out: int, act_fn, initializer = NormalInitializer()):\n",
    "        self.weights = initializer.init_weights(n_in, n_out)\n",
    "        self.bias = initializer.init_bias(n_out)\n",
    "        self.act_fn = act_fn\n",
    "\n",
    "    def __repr__(self):\n",
    "        return 'Weights: ' + repr(self.weights) + ' Biases: ' + repr(self.bias)\n",
    "\n",
    "    def parameters(self) -> Sequence[Var]:\n",
    "      params = []\n",
    "      for r in self.weights:\n",
    "        params += r\n",
    "\n",
    "      return params + self.bias\n",
    "\n",
    "    def forward(self, single_input: Sequence[Var]) -> Sequence[Var]:\n",
    "        # self.weights is a matrix with dimension n_in x n_out. We check that the dimensionality of the input\n",
    "        # to the current layer matches the number of nodes in the current layer\n",
    "        assert len(self.weights) == len(single_input), \"weights and single_input must match in first dimension\"\n",
    "        weights = self.weights\n",
    "        out = []\n",
    "        # For some given data point single_input, we now want to calculate the resulting value in each node in the current layer\n",
    "        # We therefore loop over the (number of) nodes in the current layer:\n",
    "        for j in range(len(weights[0])):\n",
    "            # Initialize the node value depending on its corresponding parameters.\n",
    "            node = self.bias[j] # <- Insert code\n",
    "            # We now finish the linear transformation corresponding to the parameters of the currently considered node.\n",
    "            for i in range(len(single_input)):\n",
    "                node += single_input[i] * weights[i][j]  # <- Insert code\n",
    "            node = self.act_fn(node)\n",
    "            out.append(node)\n",
    "\n",
    "        return out\n",
    "\n",
    "    def print_parameters(self, layer_num):\n",
    "      print(f\"Parameters for Layer {layer_num}:\")\n",
    "      print(\"Weights:\")\n",
    "      for row in self.weights:\n",
    "        for weight in row:\n",
    "          print(weight)\n",
    "      print(\"Bias:\")\n",
    "      for bias in self.bias:\n",
    "        print(bias)\n",
    "\n",
    "    def print_network_parameters(network):\n",
    "      for idx, layer in enumerate(network):\n",
    "        layer.print_parameters(idx+1)\n",
    "        print(\"-\" * 50)"
   ]
  },
  {
   "cell_type": "markdown",
   "metadata": {
    "id": "jpIZPBpNI0pO"
   },
   "source": [
    "## Exercise f) Add more activation functions\n",
    "\n",
    "To have a full definition of the neural network, we must define an activation function for every layer. Several activation functions have been proposed and have different characteristics. In the Var class we have already defined the rectified linear init (relu). \n",
    " \n",
    "Implement the following activation functions in the Var class:\n",
    "\n",
    "* Identity: $$\\mathrm{identity}(x) = x$$\n",
    "* Hyperbolic tangent: $$\\tanh(x)$$\n",
    "* Sigmoid (or logistic function): $$\\mathrm{sigmoid}(x) = \\frac{1}{1.0 + \\exp(-x ) }$$  Hint: $\\mathrm{sigmoid}'(x)= \\mathrm{sigmoid}(x)(1-\\mathrm{sigmoid}(x))$.  \n",
    "\n",
    "Hint: You can seek inspiration in the relu method in the Var class."
   ]
  },
  {
   "cell_type": "markdown",
   "metadata": {
    "id": "p_8n_SKnIW2F"
   },
   "source": [
    "## Exercise g) Complete the forward pass\n",
    "\n",
    "In the code below we initialize a 1-5-1 network and pass the training set through it. *The forward method in DenseLayer is **not** complete*. It just outputs zeros right now. The method forward should perform an [affine transformation](https://en.wikipedia.org/wiki/Affine_transformation) on the input followed by an application of the activation function."
   ]
  },
  {
   "cell_type": "code",
   "execution_count": 73,
   "metadata": {
    "colab": {
     "base_uri": "https://localhost:8080/",
     "height": 337
    },
    "id": "xDEjtePxE7Mv",
    "outputId": "753406cd-d8a1-4282-ce03-25ad959b0e11"
   },
   "outputs": [
    {
     "name": "stdout",
     "output_type": "stream",
     "text": [
      "[[Var(v=-0.0023, grad=0.0000)], [Var(v=-0.0046, grad=0.0000)], [Var(v=-0.0004, grad=0.0000)], [Var(v=-0.0187, grad=0.0000)], [Var(v=-0.0034, grad=0.0000)], [Var(v=-0.0032, grad=0.0000)], [Var(v=-0.0021, grad=0.0000)], [Var(v=-0.0045, grad=0.0000)], [Var(v=-0.0192, grad=0.0000)], [Var(v=-0.0013, grad=0.0000)], [Var(v=-0.0036, grad=0.0000)], [Var(v=-0.0119, grad=0.0000)], [Var(v=-0.0029, grad=0.0000)], [Var(v=-0.0136, grad=0.0000)], [Var(v=-0.0015, grad=0.0000)], [Var(v=-0.0030, grad=0.0000)], [Var(v=-0.0055, grad=0.0000)], [Var(v=-0.0026, grad=0.0000)], [Var(v=-0.0003, grad=0.0000)], [Var(v=-0.0009, grad=0.0000)], [Var(v=-0.0089, grad=0.0000)], [Var(v=-0.0039, grad=0.0000)], [Var(v=-0.0040, grad=0.0000)], [Var(v=-0.0041, grad=0.0000)], [Var(v=-0.0052, grad=0.0000)], [Var(v=-0.0140, grad=0.0000)], [Var(v=-0.0052, grad=0.0000)], [Var(v=-0.0057, grad=0.0000)], [Var(v=-0.0006, grad=0.0000)], [Var(v=-0.0036, grad=0.0000)], [Var(v=-0.0175, grad=0.0000)], [Var(v=-0.0009, grad=0.0000)], [Var(v=-0.0153, grad=0.0000)], [Var(v=-0.0165, grad=0.0000)], [Var(v=-0.0028, grad=0.0000)], [Var(v=-0.0031, grad=0.0000)], [Var(v=-0.0190, grad=0.0000)], [Var(v=-0.0072, grad=0.0000)], [Var(v=-0.0134, grad=0.0000)], [Var(v=-0.0096, grad=0.0000)], [Var(v=-0.0068, grad=0.0000)], [Var(v=-0.0092, grad=0.0000)], [Var(v=-0.0054, grad=0.0000)], [Var(v=-0.0114, grad=0.0000)], [Var(v=-0.0090, grad=0.0000)], [Var(v=-0.0110, grad=0.0000)], [Var(v=-0.0035, grad=0.0000)], [Var(v=-0.0033, grad=0.0000)], [Var(v=-0.0042, grad=0.0000)], [Var(v=-0.0033, grad=0.0000)], [Var(v=-0.0015, grad=0.0000)], [Var(v=-0.0001, grad=0.0000)], [Var(v=-0.0036, grad=0.0000)], [Var(v=-0.0093, grad=0.0000)], [Var(v=-0.0058, grad=0.0000)], [Var(v=-0.0051, grad=0.0000)], [Var(v=-0.0062, grad=0.0000)], [Var(v=-0.0069, grad=0.0000)], [Var(v=-0.0019, grad=0.0000)], [Var(v=-0.0164, grad=0.0000)], [Var(v=-0.0034, grad=0.0000)], [Var(v=-0.0116, grad=0.0000)], [Var(v=-0.0191, grad=0.0000)], [Var(v=-0.0016, grad=0.0000)], [Var(v=-0.0012, grad=0.0000)], [Var(v=-0.0157, grad=0.0000)], [Var(v=-0.0168, grad=0.0000)], [Var(v=-0.0043, grad=0.0000)], [Var(v=-0.0120, grad=0.0000)], [Var(v=-0.0017, grad=0.0000)], [Var(v=-0.0046, grad=0.0000)], [Var(v=-0.0021, grad=0.0000)], [Var(v=-0.0033, grad=0.0000)], [Var(v=-0.0019, grad=0.0000)], [Var(v=-0.0016, grad=0.0000)], [Var(v=-0.0052, grad=0.0000)], [Var(v=-0.0083, grad=0.0000)], [Var(v=-0.0080, grad=0.0000)], [Var(v=-0.0106, grad=0.0000)], [Var(v=-0.0055, grad=0.0000)], [Var(v=-0.0008, grad=0.0000)], [Var(v=-0.0005, grad=0.0000)], [Var(v=-0.0173, grad=0.0000)], [Var(v=-0.0024, grad=0.0000)], [Var(v=-0.0087, grad=0.0000)], [Var(v=-0.0038, grad=0.0000)], [Var(v=-0.0032, grad=0.0000)], [Var(v=-0.0097, grad=0.0000)], [Var(v=-0.0178, grad=0.0000)], [Var(v=-0.0185, grad=0.0000)], [Var(v=-0.0020, grad=0.0000)], [Var(v=-0.0056, grad=0.0000)], [Var(v=-0.0103, grad=0.0000)], [Var(v=-0.0031, grad=0.0000)], [Var(v=-0.0147, grad=0.0000)], [Var(v=-0.0177, grad=0.0000)], [Var(v=-0.0014, grad=0.0000)], [Var(v=-0.0002, grad=0.0000)], [Var(v=-0.0049, grad=0.0000)], [Var(v=-0.0104, grad=0.0000)], [Var(v=-0.0032, grad=0.0000)], [Var(v=-0.0102, grad=0.0000)], [Var(v=-0.0155, grad=0.0000)], [Var(v=-0.0016, grad=0.0000)], [Var(v=-0.0046, grad=0.0000)]]\n"
     ]
    }
   ],
   "source": [
    "NN = [\n",
    "    DenseLayer(1, 5, lambda x: x.relu()),\n",
    "    DenseLayer(5, 1, lambda x: x.ident())\n",
    "]\n",
    "\n",
    "def forward(input, network):\n",
    "\n",
    "  def forward_single(x, network):\n",
    "    for layer in network:\n",
    "        x = layer.forward(x)\n",
    "    return x\n",
    "\n",
    "  output = [ forward_single(input[n], network) for n in range(len(input))]\n",
    "  return output\n",
    "\n",
    "print(forward(x_train, NN))\n"
   ]
  },
  {
   "cell_type": "markdown",
   "metadata": {
    "id": "oLrGJytZFtGm"
   },
   "source": [
    "## Exercise h) Print all network parameters\n",
    "\n",
    "Make a function that prints all the parameters of the network (weights and biases) with information about in which layer the appear. In the object oriented spirit you should introduce a method in the DenseLayer class to print the parameters of a layer. Hint: You can take inspiration from the corresponding method in Var. "
   ]
  },
  {
   "cell_type": "code",
   "execution_count": 74,
   "metadata": {
    "id": "iac-VwYGFtGm"
   },
   "outputs": [
    {
     "name": "stdout",
     "output_type": "stream",
     "text": [
      "Parameters for Layer 1:\n",
      "Weights:\n",
      "Var(v=-0.1244, grad=0.0000)\n",
      "Var(v=-0.1764, grad=0.0000)\n",
      "Var(v=0.0378, grad=0.0000)\n",
      "Var(v=0.0461, grad=0.0000)\n",
      "Var(v=-0.0916, grad=0.0000)\n",
      "Bias:\n",
      "Var(v=0.0000, grad=0.0000)\n",
      "Var(v=0.0000, grad=0.0000)\n",
      "Var(v=0.0000, grad=0.0000)\n",
      "Var(v=0.0000, grad=0.0000)\n",
      "Var(v=0.0000, grad=0.0000)\n",
      "--------------------------------------------------\n",
      "Parameters for Layer 2:\n",
      "Weights:\n",
      "Var(v=0.0544, grad=0.0000)\n",
      "Var(v=-0.1351, grad=0.0000)\n",
      "Var(v=-0.1820, grad=0.0000)\n",
      "Var(v=0.0800, grad=0.0000)\n",
      "Var(v=0.0522, grad=0.0000)\n",
      "Bias:\n",
      "Var(v=0.0000, grad=0.0000)\n",
      "--------------------------------------------------\n"
     ]
    }
   ],
   "source": [
    "# Insert code here and in the DenseLayer class\n",
    "\n",
    "def print_parameters(self, layer_num):\n",
    "  print(f\"Parameters for Layer {layer_num}:\")\n",
    "  print(\"Weights:\")\n",
    "  for row in self.weights:\n",
    "    for weight in row:\n",
    "      print(weight)\n",
    "  for bias in self.bias:\n",
    "    print(bias)\n",
    "\n",
    "def print_network_parameters(network):\n",
    "  for idx, layer in enumerate(network):\n",
    "    layer.print_parameters(idx+1)\n",
    "    print(\"-\" * 50)\n",
    "\n",
    "print_network_parameters(NN)"
   ]
  },
  {
   "cell_type": "markdown",
   "metadata": {
    "id": "_79HOAXrFtHK"
   },
   "source": [
    "## Visualization\n",
    "\n",
    "Now that we have defined our activation functions we can visualize them to see what they look like:"
   ]
  },
  {
   "cell_type": "code",
   "execution_count": 75,
   "metadata": {
    "id": "1FcylHqLTl-Z"
   },
   "outputs": [
    {
     "data": {
      "text/plain": [
       "[<matplotlib.lines.Line2D at 0x7f649d0be4d0>]"
      ]
     },
     "execution_count": 75,
     "metadata": {},
     "output_type": "execute_result"
    },
    {
     "data": {
      "image/png": "[encoded data removed]",
      "text/plain": [
       "<Figure size 640x480 with 1 Axes>"
      ]
     },
     "metadata": {},
     "output_type": "display_data"
    }
   ],
   "source": [
    "x = np.linspace(-6, 6, 100)\n",
    "\n",
    "# convert from Var to ndarray  \n",
    "def Var_to_nparray(x):\n",
    "  y = np.zeros((len(x),len(x[0])))\n",
    "  for i in range(len(x)):\n",
    "    for j in range(len(x[0])):\n",
    "      y[i,j] = x[i][j].v\n",
    "  return y\n",
    "\n",
    "# define 1-1 network with weight = 1 and relu activation \n",
    "NN = [ DenseLayer(1, 1, lambda x: x.relu(), initializer = ConstantInitializer(1.0)) ] \n",
    "y = Var_to_nparray(forward(nparray_to_Var(x), NN))\n",
    "\n",
    "#y = Var_to_nparray(relu(nparray_to_Var(x)))\n",
    "plt.plot(x,y)"
   ]
  },
  {
   "cell_type": "code",
   "execution_count": 76,
   "metadata": {
    "id": "oOL2UolJFtHL"
   },
   "outputs": [
    {
     "data": {
      "image/png": "[encoded data removed]",
      "text/plain": [
       "<Figure size 500x500 with 1 Axes>"
      ]
     },
     "metadata": {},
     "output_type": "display_data"
    }
   ],
   "source": [
    "# Testing all activation layers\n",
    "\n",
    "x = np.linspace(-6, 6, 100)\n",
    "units = {\n",
    "    \"ident\": lambda x: x.ident(),\n",
    "    \"sigmoid\": lambda x: x.sigm(),\n",
    "    \"relu\": lambda x: x.relu(),\n",
    "    \"tanh\": lambda x: x.tanh()\n",
    "}\n",
    "\n",
    "plt.figure(figsize=(5, 5))\n",
    "[plt.plot(x, Var_to_nparray(forward(nparray_to_Var(x), [DenseLayer(1, 1, unit, initializer = ConstantInitializer(1.0))]) ), label=unit_name, lw=2) for unit_name, unit in units.items()] # unit(nparray_to_Var(x))), label=unit_name, lw=2) for unit_name, unit in units.items()]\n",
    "plt.legend(loc=2, fontsize=16)\n",
    "plt.title('Our activation functions', fontsize=20)\n",
    "plt.ylim([-2, 5])\n",
    "plt.xlim([-6, 6])\n",
    "plt.show()"
   ]
  },
  {
   "cell_type": "markdown",
   "metadata": {
    "id": "b-jdEl-7FtGs"
   },
   "source": [
    "# Advanced initialization schemes\n",
    "\n",
    "If we are not careful with initialization, the signals we propagate forward ($a^{(l)}$, $l=1,\\ldots,L$) and backward ($\\delta^l$, $l=L,L-1,\\ldots,1$) can blow up or shrink to zero. A statistical analysis of the variance of the signals for different activation functions can be found in these two papers: [Glorot initialization](http://proceedings.mlr.press/v9/glorot10a/glorot10a.pdf) and [He initialization](https://arxiv.org/pdf/1502.01852v1.pdf). \n",
    "\n",
    "The result of the analyses are proposals for how to make the initialization such that the variance of the signals (forward and backward) are kept approxmimatly constant when propagating from layer to layer. The exact expressions depend upon the non-linear activation function used. In Glorot initialization, the aim is to keep both the forward and backward variances constant whereas He only aims at keeping the variance in the forward pass constant.\n",
    "\n",
    "We define $n_{in}$ and $n_{out}$ as the number of input units and output units of a particular layer. \n",
    "\n",
    "The Glorot initialization has the form: \n",
    "\n",
    "$$w_{ij} \\sim N \\bigg( 0, \\, \\frac{2 \\alpha }{n_{in} + n_{out}} \\bigg) \\ . $$\n",
    "\n",
    "where $N(\\mu,\\sigma^2)$ is a Gaussian distribution with mean $\\mu$ and variance $\\sigma^2$ and $\\alpha$ is a parameter that depends upon the activation function used. For $\\tanh$, $\\alpha=1$ and for Rectified Linear Unit (ReLU) activations, $\\alpha=2$. (It is also possible to use a uniform distribution for initialization, see [this blog post](https://mmuratarat.github.io/2019-02-25/xavier-glorot-he-weight-init).) \n",
    "\n",
    "The He initialization is very similar\n",
    "\n",
    "$$w_{ij} \\sim N \\bigg( 0, \\, \\frac{\\alpha}{n_{in}} \\bigg) \\ . $$"
   ]
  },
  {
   "cell_type": "markdown",
   "metadata": {
    "id": "mqeyab9qFtGs"
   },
   "source": [
    "## Exercise i) Glorot and He initialization\n",
    " \n",
    "Using the Initializer class, implement functions that implement Glorot and He \n",
    "\n",
    "Explain briefly how you would test numerically that these initializations have the sought after property. Hint: See plots in Glorot paper.\n",
    "\n",
    "Comment: If you want to be more advanced then try to make a universal initializer taking both the activation function and type (Glorot or He) as argument."
   ]
  },
  {
   "cell_type": "code",
   "execution_count": 77,
   "metadata": {
    "id": "Qyk01CgaFtGt"
   },
   "outputs": [],
   "source": [
    "\n",
    "## Glorot\n",
    "def DenseLayer_Glorot_tanh(n_in: int, n_out: int):\n",
    "  std =  math.sqrt(2/n_in + n_out)# <- replace with proper initialization\n",
    "  return DenseLayer(n_in, n_out, lambda x: x.tanh(), initializer = NormalInitializer(std))\n",
    "\n",
    "## He\n",
    "def DenseLayer_He_relu(n_in: int, n_out: int):\n",
    "  std =  math.sqrt(2/n_in ) # <- replace with proper initialization\n",
    "  return DenseLayer(n_in, n_out, lambda x: x.relu(), initializer = NormalInitializer(std))"
   ]
  },
  {
   "cell_type": "markdown",
   "metadata": {
    "id": "-XyXBD37FtHk"
   },
   "source": [
    "## Exercise j) Forward pass unit test\n",
    "\n",
    "Write a bit of code to make a unit test that the forward pass works. This can be done by defining a simple network with for example all weights equal to one (using the ConstantInitializer method) and identity activation functions. \n",
    "\n",
    "Hints: Use the [assert](https://www.w3schools.com/python/ref_keyword_assert.asp), the nparray_to_Var and the Var_to_nparray commands. "
   ]
  },
  {
   "cell_type": "code",
   "execution_count": 78,
   "metadata": {
    "id": "k0miqRUAFtHl"
   },
   "outputs": [
    {
     "name": "stdout",
     "output_type": "stream",
     "text": [
      "The computed output is: [4. 4. 4.]\n",
      "The expected output is: [4. 4. 4.]\n",
      "Forward pass test passed.\n"
     ]
    }
   ],
   "source": [
    "import numpy as np\n",
    "\n",
    "class SimpleNetwork:\n",
    "    def __init__(self, input_size, hidden_size, output_size):\n",
    "        # Initialize weights and biases with ConstantInitializer\n",
    "        self.W1 = np.array(ConstantInitializer(1.0).init_weights(input_size, hidden_size))\n",
    "        self.b1 = np.array(ConstantInitializer(1.0).init_bias(hidden_size))\n",
    "        self.W2 = np.array(ConstantInitializer(1.0).init_weights(hidden_size, output_size))\n",
    "        self.b2 = np.array(ConstantInitializer(1.0).init_bias(output_size))\n",
    "\n",
    "    from typing import Sequence\n",
    "\n",
    "    def forward(self, single_input: Sequence[Var], weights: Sequence[Sequence[Var]], bias: Sequence[Var]) -> Sequence[Var]:\n",
    "      assert len(weights) == len(single_input), \"weights and single_input must match in first dimension\"\n",
    "\n",
    "      out = []\n",
    "\n",
    "      for j in range(len(bias)):\n",
    "          node = bias[j]\n",
    "\n",
    "          for i in range(len(single_input)):\n",
    "              node += single_input[i] * weights[i][j]\n",
    "\n",
    "          node = self.act_fn(node)\n",
    "\n",
    "          out.append(node)\n",
    "\n",
    "      return out\n",
    "\n",
    "\n",
    "# Define a modified test function to test the forward pass\n",
    "def test_forward_pass():\n",
    "    x = np.array([1.0, 2.0])\n",
    "\n",
    "    network = SimpleNetwork(input_size=2, hidden_size=3, output_size=2)\n",
    "\n",
    "    layer_weights = np.ones((2, 3))\n",
    "    layer_bias = np.ones(3)\n",
    "\n",
    "    out = []\n",
    "\n",
    "    # Forward pass using the layer's forward method with weights and bias as arguments\n",
    "    for j in range(len(layer_bias)):\n",
    "        # Initialize the node value with the bias\n",
    "        node = layer_bias[j]\n",
    "\n",
    "        # Perform the linear transformation for the node\n",
    "        for i in range(len(x)):\n",
    "            node += x[i] * layer_weights[i][j]\n",
    "\n",
    "        # Store the resulting node value in the 'out' list\n",
    "        out.append(node)\n",
    "\n",
    "    # Convert output to a NumPy array\n",
    "    output_np = np.array(out)  # No need for Var_to_nparray in this case\n",
    "\n",
    "    expected_output = np.array([4.0, 4.0, 4.0])\n",
    "\n",
    "    # Check if the actual output matches the expected output\n",
    "    assert np.array_equal(output_np, expected_output), \"Forward pass test failed\"\n",
    "    print(\"The computed output is:\", output_np)\n",
    "    print(\"The expected output is:\", expected_output)\n",
    "\n",
    "# Run the test\n",
    "test_forward_pass()\n",
    "print(\"Forward pass test passed.\")"
   ]
  },
  {
   "cell_type": "markdown",
   "metadata": {
    "id": "faCxhfFnFtHp"
   },
   "source": [
    "# Loss functions\n",
    "\n",
    "We are only missing a loss function to we need to define a loss function and its derivative with respect to the output of the neural network $y$"
   ]
  },
  {
   "cell_type": "code",
   "execution_count": 79,
   "metadata": {
    "id": "I2eDYKvAFtHq"
   },
   "outputs": [],
   "source": [
    "def squared_loss(t, y):\n",
    "  \n",
    "  # add check that sizes agree\n",
    "  \n",
    "  def squared_loss_single(t, y):\n",
    "    Loss = Var(0.0)\n",
    "    for i in range(len(t)): # sum over outputs\n",
    "      Loss += (t[i]-y[i]) ** 2\n",
    "    return Loss\n",
    "\n",
    "  Loss = Var(0.0)\n",
    "  for n in range(len(t)): # sum over training data\n",
    "    Loss += squared_loss_single(t[n],y[n])\n",
    "  return Loss"
   ]
  },
  {
   "cell_type": "markdown",
   "metadata": {
    "id": "SrwSJ2UWFtHu"
   },
   "source": [
    "## Exercise k) Implement cross entropy loss\n",
    "\n",
    "Insert code below to implement cross-entropy loss for general dimensionality of $t$. Use a logits formulation:\n",
    "$$\n",
    "\\rm{Loss} = - \\sum_i t_i \\, log \\, p_i \n",
    "$$\n",
    "with $p$ given by the the softmax function in terms of the logits $h$:\n",
    "$$\n",
    "p_i = \\frac{\\exp(h_i)}{\\sum_{i'} \\exp(h_{i'})} .\n",
    "$$\n",
    "Inserting $p$ in the expression for the loss gives\n",
    "$$\n",
    "\\rm{Loss} = - \\sum_i t_i h_i + \\rm{LogSumExp}(h) \\ ,\n",
    "$$\n",
    "where \n",
    "$$\n",
    "\\rm{LogSumExp}(h) = \\log \\sum_i \\exp h_i \\ .\n",
    "$$\n",
    "This is true for $t$ being a one-hot vector. \n",
    "\n",
    "Call the function to convince yourself it works. \n",
    "\n",
    "In practice you want to implement a [numerically stable](https://leimao.github.io/blog/LogSumExp/) version of LogSumExp. But we will not bother about that here.\n",
    "\n",
    "Help: You can add these methods in the Var class:\n",
    "\n",
    "    def exp(self):\n",
    "        return Var(exp(self.v), lambda: [(self, exp(self.v))])\n",
    "    \n",
    "    def log(self):\n",
    "        return Var(log(self.v), lambda: [(self, self.v ** -1)])"
   ]
  },
  {
   "cell_type": "code",
   "execution_count": 80,
   "metadata": {
    "id": "6nMuxyfzFtHv"
   },
   "outputs": [
    {
     "name": "stdout",
     "output_type": "stream",
     "text": [
      "1.4170300162778333\n"
     ]
    }
   ],
   "source": [
    "def cross_entropy_loss(t, h):\n",
    "    l = 0\n",
    "    for v in range(len(t)):\n",
    "        l -= t[v]*h[v]\n",
    "\n",
    "    sum = 0\n",
    "    for h1 in h:\n",
    "        sum +=math.exp(h1)\n",
    "\n",
    "    l += math.log(sum)\n",
    "    Loss = Var(0.0)\n",
    "\n",
    "    Loss.v = l\n",
    "\n",
    "    # Insert code here\n",
    "    return Loss.v\n",
    "\n",
    "t = np.array([0, 1, 0])\n",
    "h = np.array([2.0, 1.0, 0.1])\n",
    "loss = cross_entropy_loss(t, h)\n",
    "print(loss)"
   ]
  },
  {
   "cell_type": "markdown",
   "metadata": {
    "id": "8fAF5ew4FtHy"
   },
   "source": [
    "# Backward pass\n",
    "\n",
    "Now the magic happens! We get the calculation of the gradients for free. Just do:"
   ]
  },
  {
   "cell_type": "code",
   "execution_count": 81,
   "metadata": {
    "id": "iHyfPPI9Qqwu"
   },
   "outputs": [],
   "source": [
    "NN = [\n",
    "    DenseLayer(1, 5, lambda x: x.relu()),\n",
    "    DenseLayer(5, 1, lambda x: x.ident())\n",
    "]\n",
    "\n",
    "output = forward(x_train, NN)\n",
    "\n",
    "Loss = squared_loss(y_train,output)\n",
    "Loss.backward()"
   ]
  },
  {
   "cell_type": "markdown",
   "metadata": {
    "id": "49biIAYKQ1oG"
   },
   "source": [
    "and the gradients will be calculated:"
   ]
  },
  {
   "cell_type": "code",
   "execution_count": 82,
   "metadata": {
    "id": "_rGt1bq_Q7uk"
   },
   "outputs": [
    {
     "name": "stdout",
     "output_type": "stream",
     "text": [
      "Layer 0 \n",
      " Weights: [[Var(v=-0.0639, grad=-4.6589), Var(v=-0.0175, grad=-1.4500), Var(v=-0.0754, grad=4.0140), Var(v=0.1600, grad=-9.5813), Var(v=-0.0183, grad=5.1425)]] Biases: [Var(v=0.0000, grad=4.2346), Var(v=0.0000, grad=1.3180), Var(v=0.0000, grad=-3.6485), Var(v=0.0000, grad=-8.2329), Var(v=0.0000, grad=-4.6742)]\n",
      "Layer 1 \n",
      " Weights: [[Var(v=0.0486, grad=6.1302)], [Var(v=0.0151, grad=1.6744)], [Var(v=-0.0418, grad=7.2357)], [Var(v=0.0959, grad=-15.9890)], [Var(v=-0.0536, grad=1.7602)]] Biases: [Var(v=0.0000, grad=1.3499)]\n"
     ]
    },
    {
     "data": {
      "text/plain": [
       "[None, None]"
      ]
     },
     "execution_count": 82,
     "metadata": {},
     "output_type": "execute_result"
    }
   ],
   "source": [
    "[print('Layer', i, '\\n', NN[i]) for i in range(len(NN))] "
   ]
  },
  {
   "cell_type": "markdown",
   "metadata": {
    "id": "D7d7qK0uFtH9"
   },
   "source": [
    "# Backward pass unit test\n",
    "\n",
    "Above we used finite differences to test that Nanograd is actually doing what it is supposed to do. We can in principle try the same for the neural network. But we will trust that the test above is enough."
   ]
  },
  {
   "cell_type": "markdown",
   "metadata": {
    "id": "WgBi8GOSFtIN"
   },
   "source": [
    "# Training and validation\n",
    "\n",
    "We are ready to train some neural networks!\n",
    "\n",
    "We initialize again:"
   ]
  },
  {
   "cell_type": "code",
   "execution_count": 83,
   "metadata": {
    "id": "01ePmzBzRtdh"
   },
   "outputs": [],
   "source": [
    "NN = [\n",
    "    DenseLayer(1, 15, lambda x: x.relu()),\n",
    "    DenseLayer(15, 50, lambda x: x.relu()),\n",
    "    DenseLayer(50, 1, lambda x: x.ident())\n",
    "]\n",
    "\n",
    "output = forward(x_train, NN)\n",
    "\n",
    "Loss = squared_loss(y_train,output)\n",
    "Loss.backward()"
   ]
  },
  {
   "cell_type": "markdown",
   "metadata": {
    "id": "10iRPiQ1ISHw"
   },
   "source": [
    "and make an update:\n",
    "\n",
    "We introduce a help function parameters to have a handle in all parameters in the network."
   ]
  },
  {
   "cell_type": "code",
   "execution_count": 84,
   "metadata": {
    "id": "dhAI7eyeznia"
   },
   "outputs": [
    {
     "name": "stdout",
     "output_type": "stream",
     "text": [
      "Network before update:\n",
      "Layer 0 \n",
      " Weights: [[Var(v=-0.0035, grad=11.3797), Var(v=-0.0529, grad=-0.7893), Var(v=0.0597, grad=0.8886), Var(v=-0.1268, grad=1.4332), Var(v=-0.0087, grad=2.2241), Var(v=0.1579, grad=1.2292), Var(v=-0.0777, grad=-4.5010), Var(v=-0.0633, grad=-6.3964), Var(v=0.1250, grad=2.2009), Var(v=0.1084, grad=0.8995), Var(v=0.0167, grad=2.1098), Var(v=0.1054, grad=-9.5246), Var(v=-0.0394, grad=-8.0066), Var(v=0.0328, grad=-3.9770), Var(v=-0.0395, grad=-5.9855)]] Biases: [Var(v=0.0000, grad=-10.3458), Var(v=0.0000, grad=0.7176), Var(v=0.0000, grad=0.7634), Var(v=0.0000, grad=-1.3030), Var(v=0.0000, grad=-2.0220), Var(v=0.0000, grad=1.0560), Var(v=0.0000, grad=4.0920), Var(v=0.0000, grad=5.8152), Var(v=0.0000, grad=1.8907), Var(v=0.0000, grad=0.7728), Var(v=0.0000, grad=1.8125), Var(v=0.0000, grad=-8.1824), Var(v=0.0000, grad=7.2791), Var(v=0.0000, grad=-3.4166), Var(v=0.0000, grad=5.4417)]\n",
      "Layer 1 \n",
      " Weights: [[Var(v=-0.1604, grad=-0.0366), Var(v=-0.0480, grad=-0.0261), Var(v=-0.1597, grad=0.0489), Var(v=0.1750, grad=-0.0067), Var(v=-0.0262, grad=0.0384), Var(v=0.0245, grad=0.0295), Var(v=-0.0127, grad=0.0312), Var(v=0.0151, grad=0.0202), Var(v=-0.0377, grad=0.0000), Var(v=0.0743, grad=0.0508), Var(v=0.0863, grad=0.0000), Var(v=0.0296, grad=0.0000), Var(v=-0.0515, grad=0.0404), Var(v=-0.0448, grad=-0.0151), Var(v=-0.0845, grad=0.0000), Var(v=0.0513, grad=0.0000), Var(v=0.1604, grad=-0.0460), Var(v=0.0986, grad=0.0538), Var(v=0.0156, grad=0.0000), Var(v=0.1333, grad=0.0000), Var(v=0.0557, grad=0.0000), Var(v=-0.1610, grad=0.0753), Var(v=-0.0714, grad=0.0000), Var(v=-0.1317, grad=0.0000), Var(v=-0.1916, grad=0.0000), Var(v=-0.0191, grad=0.0232), Var(v=0.1746, grad=0.0000), Var(v=-0.0390, grad=0.0239), Var(v=0.0791, grad=0.0000), Var(v=0.0279, grad=0.0000), Var(v=-0.1500, grad=0.0000), Var(v=0.0860, grad=0.0000), Var(v=-0.1932, grad=0.0000), Var(v=0.0756, grad=0.0000), Var(v=0.1357, grad=0.0000), Var(v=-0.0923, grad=0.0000), Var(v=0.0716, grad=0.0048), Var(v=-0.1960, grad=0.0266), Var(v=-0.0393, grad=0.0184), Var(v=-0.0814, grad=0.0000), Var(v=0.1121, grad=-0.0184), Var(v=-0.1274, grad=0.0000), Var(v=-0.1673, grad=0.0000), Var(v=-0.1078, grad=0.0000), Var(v=-0.0006, grad=0.0000), Var(v=0.0104, grad=0.0213), Var(v=-0.1106, grad=0.0000), Var(v=0.2959, grad=-0.0584), Var(v=0.0271, grad=0.0000), Var(v=-0.0879, grad=0.0000)], [Var(v=0.0915, grad=-0.5488), Var(v=0.0990, grad=-0.3905), Var(v=0.0119, grad=0.7337), Var(v=0.0299, grad=-0.1011), Var(v=-0.0507, grad=0.5758), Var(v=0.0792, grad=0.4414), Var(v=-0.0446, grad=0.4680), Var(v=-0.0536, grad=0.3030), Var(v=-0.0661, grad=0.0000), Var(v=0.0513, grad=0.7618), Var(v=0.0958, grad=0.0000), Var(v=0.0180, grad=0.0000), Var(v=0.0648, grad=0.6054), Var(v=0.1574, grad=-0.2268), Var(v=0.1950, grad=0.0000), Var(v=-0.0728, grad=0.0000), Var(v=-0.0919, grad=-0.6896), Var(v=0.0577, grad=0.8063), Var(v=-0.2109, grad=0.0000), Var(v=-0.0930, grad=0.0000), Var(v=-0.0853, grad=0.0000), Var(v=-0.0607, grad=1.1285), Var(v=-0.0286, grad=0.0000), Var(v=-0.0545, grad=0.0000), Var(v=0.0114, grad=0.0000), Var(v=0.1040, grad=0.3476), Var(v=-0.0170, grad=0.0000), Var(v=0.1634, grad=0.3590), Var(v=-0.0897, grad=0.0000), Var(v=-0.1005, grad=0.0000), Var(v=0.0004, grad=0.0000), Var(v=-0.0888, grad=0.0000), Var(v=-0.0470, grad=0.0000), Var(v=-0.0864, grad=0.0000), Var(v=0.0351, grad=0.0000), Var(v=-0.0690, grad=0.0000), Var(v=0.2074, grad=0.0722), Var(v=0.0789, grad=0.3989), Var(v=0.0684, grad=0.2757), Var(v=0.1661, grad=0.0000), Var(v=0.1631, grad=-0.2765), Var(v=-0.0787, grad=0.0000), Var(v=-0.0583, grad=0.0000), Var(v=-0.2236, grad=0.0000), Var(v=-0.2238, grad=0.0000), Var(v=0.0547, grad=0.3191), Var(v=0.0087, grad=0.0000), Var(v=0.0688, grad=-0.8756), Var(v=-0.0062, grad=0.0000), Var(v=-0.0090, grad=0.0000)], [Var(v=0.0636, grad=0.6442), Var(v=-0.0395, grad=0.4584), Var(v=-0.1169, grad=-0.8611), Var(v=0.0877, grad=0.1187), Var(v=-0.0050, grad=0.0000), Var(v=0.0842, grad=0.0000), Var(v=0.0909, grad=-0.5493), Var(v=0.2290, grad=-0.3556), Var(v=-0.1890, grad=0.0000), Var(v=0.0522, grad=-0.8941), Var(v=-0.0048, grad=0.0000), Var(v=0.2032, grad=-0.6386), Var(v=-0.1178, grad=0.0000), Var(v=0.1283, grad=0.2662), Var(v=0.1408, grad=0.8353), Var(v=-0.0650, grad=0.0000), Var(v=-0.1444, grad=0.0000), Var(v=0.1254, grad=0.0000), Var(v=-0.1405, grad=0.0000), Var(v=0.1202, grad=0.0000), Var(v=-0.0155, grad=0.5506), Var(v=-0.0854, grad=0.0000), Var(v=-0.0916, grad=0.0000), Var(v=-0.0214, grad=-0.1914), Var(v=0.0852, grad=-0.3423), Var(v=-0.0206, grad=0.0000), Var(v=-0.0928, grad=0.0000), Var(v=-0.0793, grad=0.0000), Var(v=0.0624, grad=1.3364), Var(v=-0.0056, grad=0.0000), Var(v=-0.0014, grad=0.2870), Var(v=0.0367, grad=0.0000), Var(v=0.1302, grad=-0.3320), Var(v=0.1498, grad=0.2356), Var(v=-0.0309, grad=-0.0667), Var(v=-0.0060, grad=0.0000), Var(v=-0.0242, grad=-0.0847), Var(v=0.0207, grad=0.0000), Var(v=0.1392, grad=-0.3236), Var(v=0.0733, grad=0.0000), Var(v=-0.2190, grad=0.0000), Var(v=0.0673, grad=0.7396), Var(v=0.2208, grad=0.0000), Var(v=-0.0060, grad=0.8518), Var(v=0.0364, grad=0.0000), Var(v=0.0792, grad=-0.3746), Var(v=0.0502, grad=0.1135), Var(v=0.0554, grad=1.0277), Var(v=0.0951, grad=-0.0318), Var(v=-0.0663, grad=0.0000)], [Var(v=-0.0320, grad=-1.3155), Var(v=0.0830, grad=-0.9360), Var(v=-0.0465, grad=1.7585), Var(v=0.0613, grad=-0.2424), Var(v=-0.0323, grad=1.3801), Var(v=-0.0792, grad=1.0580), Var(v=0.0014, grad=1.1217), Var(v=-0.0235, grad=0.7261), Var(v=-0.1942, grad=0.0000), Var(v=0.1196, grad=1.8258), Var(v=-0.0815, grad=0.0000), Var(v=-0.0242, grad=0.0000), Var(v=0.0237, grad=1.4511), Var(v=0.1931, grad=-0.5436), Var(v=-0.1246, grad=0.0000), Var(v=0.0056, grad=0.0000), Var(v=0.1590, grad=-1.6528), Var(v=-0.0075, grad=1.9325), Var(v=-0.1279, grad=0.0000), Var(v=-0.0225, grad=0.0000), Var(v=-0.0971, grad=0.0000), Var(v=0.1020, grad=2.7049), Var(v=0.0237, grad=0.0000), Var(v=-0.0456, grad=0.0000), Var(v=-0.0800, grad=0.0000), Var(v=0.0597, grad=0.8331), Var(v=-0.1185, grad=0.0000), Var(v=0.0153, grad=0.8604), Var(v=-0.0109, grad=0.0000), Var(v=-0.0131, grad=0.0000), Var(v=-0.0499, grad=0.0000), Var(v=-0.1651, grad=0.0000), Var(v=-0.0564, grad=0.0000), Var(v=-0.0722, grad=0.0000), Var(v=-0.0777, grad=0.0000), Var(v=-0.0509, grad=0.0000), Var(v=-0.0498, grad=0.1730), Var(v=0.1774, grad=0.9562), Var(v=0.2059, grad=0.6609), Var(v=0.0030, grad=0.0000), Var(v=0.0549, grad=-0.6628), Var(v=-0.2181, grad=0.0000), Var(v=-0.0209, grad=0.0000), Var(v=-0.0515, grad=0.0000), Var(v=-0.0572, grad=0.0000), Var(v=0.0150, grad=0.7649), Var(v=-0.1675, grad=0.0000), Var(v=0.1845, grad=-2.0987), Var(v=-0.1604, grad=0.0000), Var(v=-0.1460, grad=0.0000)], [Var(v=0.0316, grad=-0.0900), Var(v=0.1058, grad=-0.0641), Var(v=-0.0271, grad=0.1204), Var(v=-0.1357, grad=-0.0166), Var(v=0.1100, grad=0.0945), Var(v=-0.0221, grad=0.0724), Var(v=0.0821, grad=0.0768), Var(v=-0.0554, grad=0.0497), Var(v=-0.1031, grad=0.0000), Var(v=-0.1387, grad=0.1250), Var(v=-0.1698, grad=0.0000), Var(v=0.0194, grad=0.0000), Var(v=0.0872, grad=0.0993), Var(v=0.0096, grad=-0.0372), Var(v=-0.0110, grad=0.0000), Var(v=0.1126, grad=0.0000), Var(v=0.0492, grad=-0.1131), Var(v=-0.0221, grad=0.1323), Var(v=-0.0541, grad=0.0000), Var(v=0.0200, grad=0.0000), Var(v=0.1384, grad=0.0000), Var(v=-0.1421, grad=0.1851), Var(v=0.1791, grad=0.0000), Var(v=-0.0767, grad=0.0000), Var(v=-0.0532, grad=0.0000), Var(v=-0.1506, grad=0.0570), Var(v=0.1236, grad=0.0000), Var(v=0.0607, grad=0.0589), Var(v=-0.0165, grad=0.0000), Var(v=0.0115, grad=0.0000), Var(v=-0.1126, grad=0.0000), Var(v=0.0275, grad=0.0000), Var(v=-0.1423, grad=0.0000), Var(v=-0.0608, grad=0.0000), Var(v=-0.0955, grad=0.0000), Var(v=0.0358, grad=0.0000), Var(v=-0.0748, grad=0.0118), Var(v=-0.0224, grad=0.0654), Var(v=0.1604, grad=0.0452), Var(v=0.0646, grad=0.0000), Var(v=-0.1007, grad=-0.0454), Var(v=0.1116, grad=0.0000), Var(v=-0.0276, grad=0.0000), Var(v=0.1300, grad=0.0000), Var(v=-0.0874, grad=0.0000), Var(v=0.0777, grad=0.0524), Var(v=-0.0675, grad=0.0000), Var(v=-0.0994, grad=-0.1436), Var(v=0.0310, grad=0.0000), Var(v=0.0587, grad=0.0000)], [Var(v=-0.0236, grad=1.7037), Var(v=0.1092, grad=1.2122), Var(v=0.0846, grad=-2.2774), Var(v=0.1017, grad=0.3139), Var(v=-0.0219, grad=0.0000), Var(v=0.1168, grad=0.0000), Var(v=0.0015, grad=-1.4526), Var(v=-0.0113, grad=-0.9404), Var(v=-0.1674, grad=0.0000), Var(v=-0.0105, grad=-2.3646), Var(v=-0.1465, grad=0.0000), Var(v=0.0504, grad=-1.6888), Var(v=0.0443, grad=0.0000), Var(v=-0.0600, grad=0.7040), Var(v=0.1784, grad=2.2091), Var(v=-0.2009, grad=0.0000), Var(v=-0.0629, grad=0.0000), Var(v=-0.0848, grad=0.0000), Var(v=-0.0570, grad=0.0000), Var(v=-0.0621, grad=0.0000), Var(v=-0.0823, grad=1.4561), Var(v=0.0226, grad=0.0000), Var(v=-0.0359, grad=0.0000), Var(v=0.0651, grad=-0.5062), Var(v=0.1278, grad=-0.9054), Var(v=-0.0009, grad=0.0000), Var(v=-0.2050, grad=0.0000), Var(v=-0.0063, grad=0.0000), Var(v=-0.0327, grad=3.5343), Var(v=-0.0562, grad=0.0000), Var(v=-0.1554, grad=0.7589), Var(v=-0.0237, grad=0.0000), Var(v=0.1370, grad=-0.8780), Var(v=0.0571, grad=0.6232), Var(v=0.1004, grad=-0.1764), Var(v=-0.1826, grad=0.0000), Var(v=-0.0335, grad=-0.2240), Var(v=-0.2740, grad=0.0000), Var(v=0.1426, grad=-0.8559), Var(v=0.0262, grad=0.0000), Var(v=-0.1371, grad=0.0000), Var(v=0.1215, grad=1.9560), Var(v=-0.0670, grad=0.0000), Var(v=0.2773, grad=2.2527), Var(v=-0.2202, grad=0.0000), Var(v=0.0874, grad=-0.9906), Var(v=0.1188, grad=0.3003), Var(v=-0.0508, grad=2.7179), Var(v=-0.0983, grad=-0.0841), Var(v=-0.0294, grad=0.0000)], [Var(v=0.1340, grad=-0.8056), Var(v=-0.0802, grad=-0.5732), Var(v=0.1764, grad=1.0769), Var(v=-0.1225, grad=-0.1484), Var(v=0.0726, grad=0.8452), Var(v=-0.0098, grad=0.6480), Var(v=-0.0624, grad=0.6869), Var(v=-0.0682, grad=0.4447), Var(v=0.0256, grad=0.0000), Var(v=-0.0835, grad=1.1181), Var(v=-0.1128, grad=0.0000), Var(v=-0.1920, grad=0.0000), Var(v=-0.0700, grad=0.8887), Var(v=-0.0824, grad=-0.3329), Var(v=-0.0456, grad=0.0000), Var(v=-0.0236, grad=0.0000), Var(v=-0.0530, grad=-1.0122), Var(v=-0.1117, grad=1.1835), Var(v=-0.0295, grad=0.0000), Var(v=0.1405, grad=0.0000), Var(v=0.0275, grad=0.0000), Var(v=0.0642, grad=1.6565), Var(v=0.0735, grad=0.0000), Var(v=-0.1182, grad=0.0000), Var(v=-0.0225, grad=0.0000), Var(v=0.0807, grad=0.5102), Var(v=-0.2592, grad=0.0000), Var(v=0.2190, grad=0.5269), Var(v=-0.1769, grad=0.0000), Var(v=-0.0258, grad=0.0000), Var(v=0.0105, grad=0.0000), Var(v=0.0028, grad=0.0000), Var(v=0.0220, grad=0.0000), Var(v=0.0924, grad=0.0000), Var(v=-0.1305, grad=0.0000), Var(v=-0.0733, grad=0.0000), Var(v=0.0946, grad=0.1059), Var(v=-0.0751, grad=0.5856), Var(v=0.0155, grad=0.4047), Var(v=-0.2270, grad=0.0000), Var(v=-0.0327, grad=-0.4059), Var(v=0.1182, grad=0.0000), Var(v=-0.1074, grad=0.0000), Var(v=0.0010, grad=0.0000), Var(v=0.0187, grad=0.0000), Var(v=0.0718, grad=0.4685), Var(v=0.0316, grad=0.0000), Var(v=-0.1138, grad=-1.2852), Var(v=0.0365, grad=0.0000), Var(v=0.0922, grad=0.0000)], [Var(v=0.1056, grad=-0.6564), Var(v=-0.0572, grad=-0.4671), Var(v=0.0876, grad=0.8775), Var(v=0.0198, grad=-0.1210), Var(v=0.0577, grad=0.6887), Var(v=0.0508, grad=0.5280), Var(v=0.1057, grad=0.5597), Var(v=0.1215, grad=0.3623), Var(v=-0.0371, grad=0.0000), Var(v=0.0577, grad=0.9111), Var(v=-0.0337, grad=0.0000), Var(v=-0.0217, grad=0.0000), Var(v=0.0718, grad=0.7241), Var(v=0.0356, grad=-0.2712), Var(v=-0.0630, grad=0.0000), Var(v=-0.1695, grad=0.0000), Var(v=-0.0306, grad=-0.8247), Var(v=0.0037, grad=0.9643), Var(v=0.0492, grad=0.0000), Var(v=-0.1065, grad=0.0000), Var(v=0.0666, grad=0.0000), Var(v=-0.0307, grad=1.3497), Var(v=-0.1291, grad=0.0000), Var(v=0.0471, grad=0.0000), Var(v=-0.0572, grad=0.0000), Var(v=0.1574, grad=0.4157), Var(v=-0.0163, grad=0.0000), Var(v=0.0554, grad=0.4293), Var(v=-0.0436, grad=0.0000), Var(v=0.0602, grad=0.0000), Var(v=-0.0061, grad=0.0000), Var(v=-0.0640, grad=0.0000), Var(v=-0.1513, grad=0.0000), Var(v=0.1308, grad=0.0000), Var(v=0.0009, grad=0.0000), Var(v=-0.0648, grad=0.0000), Var(v=0.1638, grad=0.0863), Var(v=0.1647, grad=0.4771), Var(v=0.0077, grad=0.3298), Var(v=-0.0450, grad=0.0000), Var(v=0.1314, grad=-0.3307), Var(v=-0.1597, grad=0.0000), Var(v=0.0648, grad=0.0000), Var(v=0.0371, grad=0.0000), Var(v=-0.0793, grad=0.0000), Var(v=0.0248, grad=0.3817), Var(v=0.1757, grad=0.0000), Var(v=0.0281, grad=-1.0472), Var(v=0.1550, grad=0.0000), Var(v=-0.0113, grad=0.0000)], [Var(v=-0.0987, grad=1.3487), Var(v=0.0969, grad=0.9596), Var(v=-0.0138, grad=-1.8028), Var(v=0.1702, grad=0.2485), Var(v=0.0663, grad=0.0000), Var(v=-0.2273, grad=0.0000), Var(v=0.0855, grad=-1.1499), Var(v=0.0396, grad=-0.7445), Var(v=0.0453, grad=0.0000), Var(v=0.1122, grad=-1.8718), Var(v=0.0100, grad=0.0000), Var(v=0.1739, grad=-1.3369), Var(v=-0.0537, grad=0.0000), Var(v=-0.0010, grad=0.5573), Var(v=0.0056, grad=1.7488), Var(v=0.0805, grad=0.0000), Var(v=-0.0095, grad=0.0000), Var(v=-0.0635, grad=0.0000), Var(v=0.0231, grad=0.0000), Var(v=-0.2230, grad=0.0000), Var(v=0.1878, grad=1.1527), Var(v=-0.0369, grad=0.0000), Var(v=0.1762, grad=0.0000), Var(v=-0.0094, grad=-0.4007), Var(v=-0.0624, grad=-0.7167), Var(v=-0.0495, grad=0.0000), Var(v=0.2727, grad=0.0000), Var(v=-0.0306, grad=0.0000), Var(v=0.0756, grad=2.7978), Var(v=-0.0159, grad=0.0000), Var(v=0.2428, grad=0.6008), Var(v=0.0038, grad=0.0000), Var(v=-0.0254, grad=-0.6950), Var(v=-0.0125, grad=0.4933), Var(v=0.1060, grad=-0.1396), Var(v=-0.0238, grad=0.0000), Var(v=0.1654, grad=-0.1774), Var(v=-0.1558, grad=0.0000), Var(v=0.1064, grad=-0.6776), Var(v=-0.1437, grad=0.0000), Var(v=0.0473, grad=0.0000), Var(v=-0.1315, grad=1.5484), Var(v=0.0036, grad=0.0000), Var(v=0.0208, grad=1.7833), Var(v=0.0220, grad=0.0000), Var(v=-0.0143, grad=-0.7842), Var(v=0.0573, grad=0.2377), Var(v=0.2064, grad=2.1516), Var(v=0.1675, grad=-0.0665), Var(v=-0.0751, grad=0.0000)], [Var(v=0.1823, grad=1.1694), Var(v=-0.2522, grad=0.8321), Var(v=-0.0186, grad=-1.5633), Var(v=-0.1260, grad=0.2155), Var(v=-0.0533, grad=0.0000), Var(v=0.1470, grad=0.0000), Var(v=-0.1223, grad=-0.9971), Var(v=-0.0777, grad=-0.6455), Var(v=0.1415, grad=0.0000), Var(v=0.0597, grad=-1.6231), Var(v=0.0998, grad=0.0000), Var(v=0.0655, grad=-1.1592), Var(v=0.0728, grad=0.0000), Var(v=0.0838, grad=0.4832), Var(v=-0.0352, grad=1.5164), Var(v=0.0224, grad=0.0000), Var(v=-0.0186, grad=0.0000), Var(v=0.0084, grad=0.0000), Var(v=-0.0619, grad=0.0000), Var(v=-0.0002, grad=0.0000), Var(v=0.0861, grad=0.9995), Var(v=0.0922, grad=0.0000), Var(v=-0.1149, grad=0.0000), Var(v=-0.0042, grad=-0.3474), Var(v=-0.0559, grad=-0.6215), Var(v=-0.0845, grad=0.0000), Var(v=0.0690, grad=0.0000), Var(v=0.0536, grad=0.0000), Var(v=0.1448, grad=2.4260), Var(v=-0.1034, grad=0.0000), Var(v=0.0342, grad=0.5209), Var(v=0.0661, grad=0.0000), Var(v=-0.0032, grad=-0.6026), Var(v=0.0348, grad=0.4277), Var(v=-0.0035, grad=-0.1211), Var(v=0.1561, grad=0.0000), Var(v=0.0235, grad=-0.1538), Var(v=0.1087, grad=0.0000), Var(v=0.0791, grad=-0.5875), Var(v=-0.0364, grad=0.0000), Var(v=-0.0870, grad=0.0000), Var(v=0.0561, grad=1.3427), Var(v=-0.2097, grad=0.0000), Var(v=-0.1807, grad=1.5463), Var(v=0.3436, grad=0.0000), Var(v=0.1443, grad=-0.6800), Var(v=0.0477, grad=0.2061), Var(v=-0.0285, grad=1.8656), Var(v=0.1236, grad=-0.0577), Var(v=0.0115, grad=0.0000)], [Var(v=0.0267, grad=0.1799), Var(v=0.0232, grad=0.1280), Var(v=-0.0260, grad=-0.2405), Var(v=-0.0344, grad=0.0331), Var(v=-0.0130, grad=0.0000), Var(v=0.0967, grad=0.0000), Var(v=-0.0396, grad=-0.1534), Var(v=-0.0200, grad=-0.0993), Var(v=0.0546, grad=0.0000), Var(v=-0.0995, grad=-0.2497), Var(v=-0.0715, grad=0.0000), Var(v=0.1203, grad=-0.1783), Var(v=0.0772, grad=0.0000), Var(v=-0.1439, grad=0.0743), Var(v=0.0111, grad=0.2333), Var(v=0.1014, grad=0.0000), Var(v=-0.0613, grad=0.0000), Var(v=0.0275, grad=0.0000), Var(v=-0.0352, grad=0.0000), Var(v=0.1707, grad=0.0000), Var(v=0.1032, grad=0.1538), Var(v=-0.0202, grad=0.0000), Var(v=-0.1543, grad=0.0000), Var(v=-0.0503, grad=-0.0534), Var(v=0.0291, grad=-0.0956), Var(v=-0.0411, grad=0.0000), Var(v=0.1027, grad=0.0000), Var(v=0.1191, grad=0.0000), Var(v=-0.0944, grad=0.3732), Var(v=-0.1647, grad=0.0000), Var(v=-0.1311, grad=0.0801), Var(v=-0.1158, grad=0.0000), Var(v=-0.1651, grad=-0.0927), Var(v=0.0087, grad=0.0658), Var(v=-0.0817, grad=-0.0186), Var(v=-0.0575, grad=0.0000), Var(v=-0.1177, grad=-0.0237), Var(v=0.0461, grad=0.0000), Var(v=-0.1394, grad=-0.0904), Var(v=0.0215, grad=0.0000), Var(v=0.2218, grad=0.0000), Var(v=0.0681, grad=0.2066), Var(v=0.2357, grad=0.0000), Var(v=-0.1768, grad=0.2379), Var(v=-0.1166, grad=0.0000), Var(v=-0.1916, grad=-0.1046), Var(v=-0.0553, grad=0.0317), Var(v=0.0887, grad=0.2870), Var(v=-0.0432, grad=-0.0089), Var(v=0.1972, grad=0.0000)], [Var(v=0.1711, grad=1.1367), Var(v=0.0007, grad=0.8088), Var(v=0.2328, grad=-1.5195), Var(v=-0.1068, grad=0.2095), Var(v=-0.0894, grad=0.0000), Var(v=-0.1098, grad=0.0000), Var(v=0.0315, grad=-0.9692), Var(v=0.0332, grad=-0.6275), Var(v=-0.1663, grad=0.0000), Var(v=0.0926, grad=-1.5777), Var(v=-0.0977, grad=0.0000), Var(v=0.0529, grad=-1.1268), Var(v=-0.0662, grad=0.0000), Var(v=-0.0368, grad=0.4697), Var(v=0.0856, grad=1.4740), Var(v=0.0470, grad=0.0000), Var(v=-0.1070, grad=0.0000), Var(v=-0.0314, grad=0.0000), Var(v=0.0792, grad=0.0000), Var(v=0.0296, grad=0.0000), Var(v=-0.0208, grad=0.9715), Var(v=-0.1621, grad=0.0000), Var(v=-0.0837, grad=0.0000), Var(v=0.0389, grad=-0.3377), Var(v=0.0737, grad=-0.6041), Var(v=0.1523, grad=0.0000), Var(v=-0.1237, grad=0.0000), Var(v=-0.0986, grad=0.0000), Var(v=-0.0091, grad=2.3581), Var(v=0.0984, grad=0.0000), Var(v=0.0903, grad=0.5064), Var(v=-0.1405, grad=0.0000), Var(v=0.0515, grad=-0.5858), Var(v=-0.0839, grad=0.4158), Var(v=-0.0356, grad=-0.1177), Var(v=-0.0379, grad=0.0000), Var(v=-0.0395, grad=-0.1495), Var(v=0.0237, grad=0.0000), Var(v=-0.1490, grad=-0.5711), Var(v=-0.1343, grad=0.0000), Var(v=0.0163, grad=0.0000), Var(v=-0.0964, grad=1.3051), Var(v=-0.1453, grad=0.0000), Var(v=-0.1919, grad=1.5030), Var(v=-0.1879, grad=0.0000), Var(v=0.1578, grad=-0.6610), Var(v=0.0929, grad=0.2004), Var(v=-0.0868, grad=1.8134), Var(v=-0.1166, grad=-0.0561), Var(v=0.0439, grad=0.0000)], [Var(v=-0.0602, grad=-0.4084), Var(v=0.0428, grad=-0.2906), Var(v=0.0473, grad=0.5459), Var(v=-0.0303, grad=-0.0752), Var(v=0.1393, grad=0.4284), Var(v=0.1531, grad=0.3284), Var(v=-0.0690, grad=0.3482), Var(v=0.1952, grad=0.2254), Var(v=-0.0289, grad=0.0000), Var(v=0.1697, grad=0.5668), Var(v=0.0812, grad=0.0000), Var(v=0.0343, grad=0.0000), Var(v=0.1172, grad=0.4505), Var(v=0.0734, grad=-0.1687), Var(v=0.0464, grad=0.0000), Var(v=-0.0174, grad=0.0000), Var(v=-0.1103, grad=-0.5131), Var(v=0.0592, grad=0.5999), Var(v=-0.0331, grad=0.0000), Var(v=-0.1117, grad=0.0000), Var(v=0.0596, grad=0.0000), Var(v=-0.0210, grad=0.8397), Var(v=-0.0609, grad=0.0000), Var(v=0.0377, grad=0.0000), Var(v=0.0117, grad=0.0000), Var(v=0.0720, grad=0.2586), Var(v=-0.0150, grad=0.0000), Var(v=-0.0138, grad=0.2671), Var(v=-0.0186, grad=0.0000), Var(v=0.0010, grad=0.0000), Var(v=-0.0114, grad=0.0000), Var(v=-0.0305, grad=0.0000), Var(v=-0.1747, grad=0.0000), Var(v=0.0215, grad=0.0000), Var(v=0.0923, grad=0.0000), Var(v=0.1350, grad=0.0000), Var(v=0.0405, grad=0.0537), Var(v=0.2283, grad=0.2968), Var(v=-0.1411, grad=0.2052), Var(v=0.0260, grad=0.0000), Var(v=0.1196, grad=-0.2057), Var(v=0.1427, grad=0.0000), Var(v=-0.0230, grad=0.0000), Var(v=-0.0887, grad=0.0000), Var(v=0.2409, grad=0.0000), Var(v=-0.0689, grad=0.2375), Var(v=-0.0073, grad=0.0000), Var(v=0.1243, grad=-0.6515), Var(v=-0.0242, grad=0.0000), Var(v=0.0783, grad=0.0000)], [Var(v=-0.0243, grad=0.3541), Var(v=0.0170, grad=0.2520), Var(v=0.0198, grad=-0.4733), Var(v=0.0354, grad=0.0652), Var(v=-0.1599, grad=0.0000), Var(v=-0.1560, grad=0.0000), Var(v=0.1701, grad=-0.3019), Var(v=-0.0334, grad=-0.1955), Var(v=0.0045, grad=0.0000), Var(v=0.1434, grad=-0.4915), Var(v=-0.2135, grad=0.0000), Var(v=0.1033, grad=-0.3510), Var(v=-0.0748, grad=0.0000), Var(v=-0.0134, grad=0.1463), Var(v=-0.0003, grad=0.4592), Var(v=-0.0364, grad=0.0000), Var(v=0.1339, grad=0.0000), Var(v=0.0110, grad=0.0000), Var(v=-0.0831, grad=0.0000), Var(v=-0.1309, grad=0.0000), Var(v=0.0726, grad=0.3026), Var(v=-0.1284, grad=0.0000), Var(v=0.1076, grad=0.0000), Var(v=0.1516, grad=-0.1052), Var(v=0.0765, grad=-0.1882), Var(v=0.0180, grad=0.0000), Var(v=0.0268, grad=0.0000), Var(v=0.0579, grad=0.0000), Var(v=0.0244, grad=0.7346), Var(v=-0.1419, grad=0.0000), Var(v=-0.0325, grad=0.1577), Var(v=0.0209, grad=0.0000), Var(v=0.0466, grad=-0.1825), Var(v=0.1258, grad=0.1295), Var(v=-0.0959, grad=-0.0367), Var(v=-0.0804, grad=0.0000), Var(v=0.0324, grad=-0.0466), Var(v=0.1138, grad=0.0000), Var(v=-0.1568, grad=-0.1779), Var(v=-0.2291, grad=0.0000), Var(v=-0.0441, grad=0.0000), Var(v=0.0306, grad=0.4066), Var(v=0.0745, grad=0.0000), Var(v=0.0356, grad=0.4682), Var(v=0.1074, grad=0.0000), Var(v=0.0025, grad=-0.2059), Var(v=0.1218, grad=0.0624), Var(v=-0.0825, grad=0.5649), Var(v=-0.1632, grad=-0.0175), Var(v=0.0090, grad=0.0000)], [Var(v=0.0626, grad=-0.4099), Var(v=0.0035, grad=-0.2917), Var(v=-0.0380, grad=0.5480), Var(v=0.0609, grad=-0.0755), Var(v=0.0058, grad=0.4301), Var(v=-0.0378, grad=0.3297), Var(v=0.1055, grad=0.3495), Var(v=0.1386, grad=0.2263), Var(v=-0.1081, grad=0.0000), Var(v=0.0617, grad=0.5690), Var(v=-0.1497, grad=0.0000), Var(v=-0.0201, grad=0.0000), Var(v=-0.0114, grad=0.4522), Var(v=-0.0030, grad=-0.1694), Var(v=0.0342, grad=0.0000), Var(v=0.0289, grad=0.0000), Var(v=-0.0627, grad=-0.5150), Var(v=0.1657, grad=0.6022), Var(v=0.0347, grad=0.0000), Var(v=-0.0476, grad=0.0000), Var(v=0.0476, grad=0.0000), Var(v=0.0181, grad=0.8429), Var(v=-0.0800, grad=0.0000), Var(v=-0.1403, grad=0.0000), Var(v=-0.0003, grad=0.0000), Var(v=-0.1272, grad=0.2596), Var(v=0.0524, grad=0.0000), Var(v=-0.0741, grad=0.2681), Var(v=-0.0719, grad=0.0000), Var(v=-0.0795, grad=0.0000), Var(v=0.1756, grad=0.0000), Var(v=0.1859, grad=0.0000), Var(v=-0.0350, grad=0.0000), Var(v=-0.1568, grad=0.0000), Var(v=-0.0554, grad=0.0000), Var(v=-0.0607, grad=0.0000), Var(v=0.0453, grad=0.0539), Var(v=0.1212, grad=0.2980), Var(v=-0.0305, grad=0.2060), Var(v=0.0456, grad=0.0000), Var(v=0.0266, grad=-0.2065), Var(v=-0.0653, grad=0.0000), Var(v=-0.0470, grad=0.0000), Var(v=0.0663, grad=0.0000), Var(v=-0.0120, grad=0.0000), Var(v=-0.1349, grad=0.2384), Var(v=0.1129, grad=0.0000), Var(v=-0.1696, grad=-0.6540), Var(v=0.0452, grad=0.0000), Var(v=0.0877, grad=0.0000)]] Biases: [Var(v=0.0000, grad=-0.1595), Var(v=0.0000, grad=-0.1135), Var(v=0.0000, grad=0.2132), Var(v=0.0000, grad=-0.0294), Var(v=0.0000, grad=9.8919), Var(v=0.0000, grad=7.5835), Var(v=0.0000, grad=0.1360), Var(v=0.0000, grad=0.0880), Var(v=0.0000, grad=0.0000), Var(v=0.0000, grad=0.2214), Var(v=0.0000, grad=0.0000), Var(v=0.0000, grad=-9.1885), Var(v=0.0000, grad=10.4011), Var(v=0.0000, grad=-0.0659), Var(v=0.0000, grad=12.0194), Var(v=0.0000, grad=0.0000), Var(v=0.0000, grad=-11.8462), Var(v=0.0000, grad=13.8514), Var(v=0.0000, grad=0.0000), Var(v=0.0000, grad=0.0000), Var(v=0.0000, grad=7.9223), Var(v=0.0000, grad=19.3873), Var(v=0.0000, grad=0.0000), Var(v=0.0000, grad=-2.7540), Var(v=0.0000, grad=-4.9261), Var(v=0.0000, grad=5.9714), Var(v=0.0000, grad=0.0000), Var(v=0.0000, grad=6.1668), Var(v=0.0000, grad=19.2294), Var(v=0.0000, grad=0.0000), Var(v=0.0000, grad=4.1290), Var(v=0.0000, grad=0.0000), Var(v=0.0000, grad=-4.7768), Var(v=0.0000, grad=3.3905), Var(v=0.0000, grad=-0.9597), Var(v=0.0000, grad=0.0000), Var(v=0.0000, grad=0.0210), Var(v=0.0000, grad=6.8533), Var(v=0.0000, grad=0.0801), Var(v=0.0000, grad=0.0000), Var(v=0.0000, grad=-4.7504), Var(v=0.0000, grad=10.6426), Var(v=0.0000, grad=0.0000), Var(v=0.0000, grad=12.2565), Var(v=0.0000, grad=0.0000), Var(v=0.0000, grad=0.0927), Var(v=0.0000, grad=1.6338), Var(v=0.0000, grad=-0.2544), Var(v=0.0000, grad=-0.4574), Var(v=0.0000, grad=0.0000)]\n",
      "Layer 2 \n",
      " Weights: [[Var(v=-0.1068, grad=-0.8235)], [Var(v=-0.0760, grad=0.7556)], [Var(v=0.1427, grad=-1.4506)], [Var(v=-0.0197, grad=-1.6761)], [Var(v=0.1120, grad=0.8829)], [Var(v=0.0859, grad=0.0991)], [Var(v=0.0910, grad=-0.9735)], [Var(v=0.0589, grad=-0.1533)], [Var(v=0.0222, grad=0.0000)], [Var(v=0.1482, grad=-1.2540)], [Var(v=-0.0173, grad=0.0000)], [Var(v=0.1058, grad=-6.0526)], [Var(v=0.1178, grad=0.9990)], [Var(v=-0.0441, grad=3.0060)], [Var(v=-0.1384, grad=-4.3111)], [Var(v=-0.0038, grad=0.0000)], [Var(v=-0.1341, grad=0.3321)], [Var(v=0.1568, grad=0.2622)], [Var(v=0.0470, grad=0.0000)], [Var(v=-0.0606, grad=0.0000)], [Var(v=-0.0912, grad=-2.1019)], [Var(v=0.2195, grad=1.0547)], [Var(v=0.0224, grad=0.0000)], [Var(v=0.0317, grad=-1.5763)], [Var(v=0.0567, grad=-2.2415)], [Var(v=0.0676, grad=2.5011)], [Var(v=0.0155, grad=0.0000)], [Var(v=0.0698, grad=2.7223)], [Var(v=-0.2215, grad=-2.2205)], [Var(v=-0.0377, grad=0.0000)], [Var(v=-0.0476, grad=-1.5856)], [Var(v=-0.0582, grad=0.0000)], [Var(v=0.0550, grad=-3.0414)], [Var(v=-0.0390, grad=-1.5762)], [Var(v=0.0111, grad=-1.8827)], [Var(v=0.0063, grad=0.0000)], [Var(v=0.0140, grad=1.3090)], [Var(v=0.0776, grad=4.2899)], [Var(v=0.0536, grad=-0.4679)], [Var(v=-0.0211, grad=0.0000)], [Var(v=-0.0538, grad=2.5900)], [Var(v=-0.1226, grad=-0.4893)], [Var(v=0.0889, grad=0.0000)], [Var(v=-0.1412, grad=-0.4498)], [Var(v=0.1169, grad=0.0000)], [Var(v=0.0621, grad=-4.1907)], [Var(v=-0.0188, grad=-4.7448)], [Var(v=-0.1703, grad=1.0134)], [Var(v=0.0053, grad=-0.6203)], [Var(v=-0.0332, grad=0.0000)]] Biases: [Var(v=0.0000, grad=1.4941)]\n",
      "\n",
      "Network after update:\n",
      "Layer 0 \n",
      " Weights: [[Var(v=-0.1173, grad=11.3797), Var(v=-0.0450, grad=-0.7893), Var(v=0.0508, grad=0.8886), Var(v=-0.1412, grad=1.4332), Var(v=-0.0309, grad=2.2241), Var(v=0.1456, grad=1.2292), Var(v=-0.0327, grad=-4.5010), Var(v=0.0007, grad=-6.3964), Var(v=0.1030, grad=2.2009), Var(v=0.0994, grad=0.8995), Var(v=-0.0044, grad=2.1098), Var(v=0.2006, grad=-9.5246), Var(v=0.0407, grad=-8.0066), Var(v=0.0726, grad=-3.9770), Var(v=0.0203, grad=-5.9855)]] Biases: [Var(v=0.1035, grad=-10.3458), Var(v=-0.0072, grad=0.7176), Var(v=-0.0076, grad=0.7634), Var(v=0.0130, grad=-1.3030), Var(v=0.0202, grad=-2.0220), Var(v=-0.0106, grad=1.0560), Var(v=-0.0409, grad=4.0920), Var(v=-0.0582, grad=5.8152), Var(v=-0.0189, grad=1.8907), Var(v=-0.0077, grad=0.7728), Var(v=-0.0181, grad=1.8125), Var(v=0.0818, grad=-8.1824), Var(v=-0.0728, grad=7.2791), Var(v=0.0342, grad=-3.4166), Var(v=-0.0544, grad=5.4417)]\n",
      "Layer 1 \n",
      " Weights: [[Var(v=-0.1600, grad=-0.0366), Var(v=-0.0478, grad=-0.0261), Var(v=-0.1602, grad=0.0489), Var(v=0.1751, grad=-0.0067), Var(v=-0.0265, grad=0.0384), Var(v=0.0242, grad=0.0295), Var(v=-0.0130, grad=0.0312), Var(v=0.0149, grad=0.0202), Var(v=-0.0377, grad=0.0000), Var(v=0.0738, grad=0.0508), Var(v=0.0863, grad=0.0000), Var(v=0.0296, grad=0.0000), Var(v=-0.0520, grad=0.0404), Var(v=-0.0446, grad=-0.0151), Var(v=-0.0845, grad=0.0000), Var(v=0.0513, grad=0.0000), Var(v=0.1608, grad=-0.0460), Var(v=0.0981, grad=0.0538), Var(v=0.0156, grad=0.0000), Var(v=0.1333, grad=0.0000), Var(v=0.0557, grad=0.0000), Var(v=-0.1618, grad=0.0753), Var(v=-0.0714, grad=0.0000), Var(v=-0.1317, grad=0.0000), Var(v=-0.1916, grad=0.0000), Var(v=-0.0193, grad=0.0232), Var(v=0.1746, grad=0.0000), Var(v=-0.0393, grad=0.0239), Var(v=0.0791, grad=0.0000), Var(v=0.0279, grad=0.0000), Var(v=-0.1500, grad=0.0000), Var(v=0.0860, grad=0.0000), Var(v=-0.1932, grad=0.0000), Var(v=0.0756, grad=0.0000), Var(v=0.1357, grad=0.0000), Var(v=-0.0923, grad=0.0000), Var(v=0.0715, grad=0.0048), Var(v=-0.1963, grad=0.0266), Var(v=-0.0394, grad=0.0184), Var(v=-0.0814, grad=0.0000), Var(v=0.1123, grad=-0.0184), Var(v=-0.1274, grad=0.0000), Var(v=-0.1673, grad=0.0000), Var(v=-0.1078, grad=0.0000), Var(v=-0.0006, grad=0.0000), Var(v=0.0102, grad=0.0213), Var(v=-0.1106, grad=0.0000), Var(v=0.2965, grad=-0.0584), Var(v=0.0271, grad=0.0000), Var(v=-0.0879, grad=0.0000)], [Var(v=0.0969, grad=-0.5488), Var(v=0.1029, grad=-0.3905), Var(v=0.0046, grad=0.7337), Var(v=0.0309, grad=-0.1011), Var(v=-0.0564, grad=0.5758), Var(v=0.0747, grad=0.4414), Var(v=-0.0493, grad=0.4680), Var(v=-0.0566, grad=0.3030), Var(v=-0.0661, grad=0.0000), Var(v=0.0437, grad=0.7618), Var(v=0.0958, grad=0.0000), Var(v=0.0180, grad=0.0000), Var(v=0.0588, grad=0.6054), Var(v=0.1597, grad=-0.2268), Var(v=0.1950, grad=0.0000), Var(v=-0.0728, grad=0.0000), Var(v=-0.0850, grad=-0.6896), Var(v=0.0496, grad=0.8063), Var(v=-0.2109, grad=0.0000), Var(v=-0.0930, grad=0.0000), Var(v=-0.0853, grad=0.0000), Var(v=-0.0720, grad=1.1285), Var(v=-0.0286, grad=0.0000), Var(v=-0.0545, grad=0.0000), Var(v=0.0114, grad=0.0000), Var(v=0.1006, grad=0.3476), Var(v=-0.0170, grad=0.0000), Var(v=0.1599, grad=0.3590), Var(v=-0.0897, grad=0.0000), Var(v=-0.1005, grad=0.0000), Var(v=0.0004, grad=0.0000), Var(v=-0.0888, grad=0.0000), Var(v=-0.0470, grad=0.0000), Var(v=-0.0864, grad=0.0000), Var(v=0.0351, grad=0.0000), Var(v=-0.0690, grad=0.0000), Var(v=0.2066, grad=0.0722), Var(v=0.0749, grad=0.3989), Var(v=0.0657, grad=0.2757), Var(v=0.1661, grad=0.0000), Var(v=0.1658, grad=-0.2765), Var(v=-0.0787, grad=0.0000), Var(v=-0.0583, grad=0.0000), Var(v=-0.2236, grad=0.0000), Var(v=-0.2238, grad=0.0000), Var(v=0.0515, grad=0.3191), Var(v=0.0087, grad=0.0000), Var(v=0.0776, grad=-0.8756), Var(v=-0.0062, grad=0.0000), Var(v=-0.0090, grad=0.0000)], [Var(v=0.0571, grad=0.6442), Var(v=-0.0441, grad=0.4584), Var(v=-0.1083, grad=-0.8611), Var(v=0.0865, grad=0.1187), Var(v=-0.0050, grad=0.0000), Var(v=0.0842, grad=0.0000), Var(v=0.0964, grad=-0.5493), Var(v=0.2325, grad=-0.3556), Var(v=-0.1890, grad=0.0000), Var(v=0.0612, grad=-0.8941), Var(v=-0.0048, grad=0.0000), Var(v=0.2096, grad=-0.6386), Var(v=-0.1178, grad=0.0000), Var(v=0.1257, grad=0.2662), Var(v=0.1325, grad=0.8353), Var(v=-0.0650, grad=0.0000), Var(v=-0.1444, grad=0.0000), Var(v=0.1254, grad=0.0000), Var(v=-0.1405, grad=0.0000), Var(v=0.1202, grad=0.0000), Var(v=-0.0210, grad=0.5506), Var(v=-0.0854, grad=0.0000), Var(v=-0.0916, grad=0.0000), Var(v=-0.0195, grad=-0.1914), Var(v=0.0887, grad=-0.3423), Var(v=-0.0206, grad=0.0000), Var(v=-0.0928, grad=0.0000), Var(v=-0.0793, grad=0.0000), Var(v=0.0490, grad=1.3364), Var(v=-0.0056, grad=0.0000), Var(v=-0.0043, grad=0.2870), Var(v=0.0367, grad=0.0000), Var(v=0.1335, grad=-0.3320), Var(v=0.1475, grad=0.2356), Var(v=-0.0302, grad=-0.0667), Var(v=-0.0060, grad=0.0000), Var(v=-0.0234, grad=-0.0847), Var(v=0.0207, grad=0.0000), Var(v=0.1425, grad=-0.3236), Var(v=0.0733, grad=0.0000), Var(v=-0.2190, grad=0.0000), Var(v=0.0599, grad=0.7396), Var(v=0.2208, grad=0.0000), Var(v=-0.0145, grad=0.8518), Var(v=0.0364, grad=0.0000), Var(v=0.0829, grad=-0.3746), Var(v=0.0490, grad=0.1135), Var(v=0.0451, grad=1.0277), Var(v=0.0955, grad=-0.0318), Var(v=-0.0663, grad=0.0000)], [Var(v=-0.0188, grad=-1.3155), Var(v=0.0924, grad=-0.9360), Var(v=-0.0641, grad=1.7585), Var(v=0.0637, grad=-0.2424), Var(v=-0.0461, grad=1.3801), Var(v=-0.0898, grad=1.0580), Var(v=-0.0098, grad=1.1217), Var(v=-0.0307, grad=0.7261), Var(v=-0.1942, grad=0.0000), Var(v=0.1014, grad=1.8258), Var(v=-0.0815, grad=0.0000), Var(v=-0.0242, grad=0.0000), Var(v=0.0092, grad=1.4511), Var(v=0.1986, grad=-0.5436), Var(v=-0.1246, grad=0.0000), Var(v=0.0056, grad=0.0000), Var(v=0.1755, grad=-1.6528), Var(v=-0.0268, grad=1.9325), Var(v=-0.1279, grad=0.0000), Var(v=-0.0225, grad=0.0000), Var(v=-0.0971, grad=0.0000), Var(v=0.0750, grad=2.7049), Var(v=0.0237, grad=0.0000), Var(v=-0.0456, grad=0.0000), Var(v=-0.0800, grad=0.0000), Var(v=0.0513, grad=0.8331), Var(v=-0.1185, grad=0.0000), Var(v=0.0067, grad=0.8604), Var(v=-0.0109, grad=0.0000), Var(v=-0.0131, grad=0.0000), Var(v=-0.0499, grad=0.0000), Var(v=-0.1651, grad=0.0000), Var(v=-0.0564, grad=0.0000), Var(v=-0.0722, grad=0.0000), Var(v=-0.0777, grad=0.0000), Var(v=-0.0509, grad=0.0000), Var(v=-0.0516, grad=0.1730), Var(v=0.1678, grad=0.9562), Var(v=0.1993, grad=0.6609), Var(v=0.0030, grad=0.0000), Var(v=0.0616, grad=-0.6628), Var(v=-0.2181, grad=0.0000), Var(v=-0.0209, grad=0.0000), Var(v=-0.0515, grad=0.0000), Var(v=-0.0572, grad=0.0000), Var(v=0.0073, grad=0.7649), Var(v=-0.1675, grad=0.0000), Var(v=0.2055, grad=-2.0987), Var(v=-0.1604, grad=0.0000), Var(v=-0.1460, grad=0.0000)], [Var(v=0.0325, grad=-0.0900), Var(v=0.1064, grad=-0.0641), Var(v=-0.0283, grad=0.1204), Var(v=-0.1355, grad=-0.0166), Var(v=0.1090, grad=0.0945), Var(v=-0.0228, grad=0.0724), Var(v=0.0813, grad=0.0768), Var(v=-0.0559, grad=0.0497), Var(v=-0.1031, grad=0.0000), Var(v=-0.1399, grad=0.1250), Var(v=-0.1698, grad=0.0000), Var(v=0.0194, grad=0.0000), Var(v=0.0862, grad=0.0993), Var(v=0.0100, grad=-0.0372), Var(v=-0.0110, grad=0.0000), Var(v=0.1126, grad=0.0000), Var(v=0.0504, grad=-0.1131), Var(v=-0.0234, grad=0.1323), Var(v=-0.0541, grad=0.0000), Var(v=0.0200, grad=0.0000), Var(v=0.1384, grad=0.0000), Var(v=-0.1440, grad=0.1851), Var(v=0.1791, grad=0.0000), Var(v=-0.0767, grad=0.0000), Var(v=-0.0532, grad=0.0000), Var(v=-0.1512, grad=0.0570), Var(v=0.1236, grad=0.0000), Var(v=0.0601, grad=0.0589), Var(v=-0.0165, grad=0.0000), Var(v=0.0115, grad=0.0000), Var(v=-0.1126, grad=0.0000), Var(v=0.0275, grad=0.0000), Var(v=-0.1423, grad=0.0000), Var(v=-0.0608, grad=0.0000), Var(v=-0.0955, grad=0.0000), Var(v=0.0358, grad=0.0000), Var(v=-0.0749, grad=0.0118), Var(v=-0.0231, grad=0.0654), Var(v=0.1600, grad=0.0452), Var(v=0.0646, grad=0.0000), Var(v=-0.1002, grad=-0.0454), Var(v=0.1116, grad=0.0000), Var(v=-0.0276, grad=0.0000), Var(v=0.1300, grad=0.0000), Var(v=-0.0874, grad=0.0000), Var(v=0.0772, grad=0.0524), Var(v=-0.0675, grad=0.0000), Var(v=-0.0980, grad=-0.1436), Var(v=0.0310, grad=0.0000), Var(v=0.0587, grad=0.0000)], [Var(v=-0.0406, grad=1.7037), Var(v=0.0971, grad=1.2122), Var(v=0.1073, grad=-2.2774), Var(v=0.0986, grad=0.3139), Var(v=-0.0219, grad=0.0000), Var(v=0.1168, grad=0.0000), Var(v=0.0160, grad=-1.4526), Var(v=-0.0019, grad=-0.9404), Var(v=-0.1674, grad=0.0000), Var(v=0.0131, grad=-2.3646), Var(v=-0.1465, grad=0.0000), Var(v=0.0673, grad=-1.6888), Var(v=0.0443, grad=0.0000), Var(v=-0.0670, grad=0.7040), Var(v=0.1563, grad=2.2091), Var(v=-0.2009, grad=0.0000), Var(v=-0.0629, grad=0.0000), Var(v=-0.0848, grad=0.0000), Var(v=-0.0570, grad=0.0000), Var(v=-0.0621, grad=0.0000), Var(v=-0.0969, grad=1.4561), Var(v=0.0226, grad=0.0000), Var(v=-0.0359, grad=0.0000), Var(v=0.0702, grad=-0.5062), Var(v=0.1369, grad=-0.9054), Var(v=-0.0009, grad=0.0000), Var(v=-0.2050, grad=0.0000), Var(v=-0.0063, grad=0.0000), Var(v=-0.0681, grad=3.5343), Var(v=-0.0562, grad=0.0000), Var(v=-0.1630, grad=0.7589), Var(v=-0.0237, grad=0.0000), Var(v=0.1458, grad=-0.8780), Var(v=0.0508, grad=0.6232), Var(v=0.1022, grad=-0.1764), Var(v=-0.1826, grad=0.0000), Var(v=-0.0313, grad=-0.2240), Var(v=-0.2740, grad=0.0000), Var(v=0.1512, grad=-0.8559), Var(v=0.0262, grad=0.0000), Var(v=-0.1371, grad=0.0000), Var(v=0.1020, grad=1.9560), Var(v=-0.0670, grad=0.0000), Var(v=0.2547, grad=2.2527), Var(v=-0.2202, grad=0.0000), Var(v=0.0973, grad=-0.9906), Var(v=0.1158, grad=0.3003), Var(v=-0.0780, grad=2.7179), Var(v=-0.0974, grad=-0.0841), Var(v=-0.0294, grad=0.0000)], [Var(v=0.1421, grad=-0.8056), Var(v=-0.0745, grad=-0.5732), Var(v=0.1656, grad=1.0769), Var(v=-0.1211, grad=-0.1484), Var(v=0.0641, grad=0.8452), Var(v=-0.0163, grad=0.6480), Var(v=-0.0693, grad=0.6869), Var(v=-0.0727, grad=0.4447), Var(v=0.0256, grad=0.0000), Var(v=-0.0947, grad=1.1181), Var(v=-0.1128, grad=0.0000), Var(v=-0.1920, grad=0.0000), Var(v=-0.0789, grad=0.8887), Var(v=-0.0791, grad=-0.3329), Var(v=-0.0456, grad=0.0000), Var(v=-0.0236, grad=0.0000), Var(v=-0.0429, grad=-1.0122), Var(v=-0.1236, grad=1.1835), Var(v=-0.0295, grad=0.0000), Var(v=0.1405, grad=0.0000), Var(v=0.0275, grad=0.0000), Var(v=0.0476, grad=1.6565), Var(v=0.0735, grad=0.0000), Var(v=-0.1182, grad=0.0000), Var(v=-0.0225, grad=0.0000), Var(v=0.0756, grad=0.5102), Var(v=-0.2592, grad=0.0000), Var(v=0.2137, grad=0.5269), Var(v=-0.1769, grad=0.0000), Var(v=-0.0258, grad=0.0000), Var(v=0.0105, grad=0.0000), Var(v=0.0028, grad=0.0000), Var(v=0.0220, grad=0.0000), Var(v=0.0924, grad=0.0000), Var(v=-0.1305, grad=0.0000), Var(v=-0.0733, grad=0.0000), Var(v=0.0935, grad=0.1059), Var(v=-0.0809, grad=0.5856), Var(v=0.0115, grad=0.4047), Var(v=-0.2270, grad=0.0000), Var(v=-0.0286, grad=-0.4059), Var(v=0.1182, grad=0.0000), Var(v=-0.1074, grad=0.0000), Var(v=0.0010, grad=0.0000), Var(v=0.0187, grad=0.0000), Var(v=0.0671, grad=0.4685), Var(v=0.0316, grad=0.0000), Var(v=-0.1009, grad=-1.2852), Var(v=0.0365, grad=0.0000), Var(v=0.0922, grad=0.0000)], [Var(v=0.1122, grad=-0.6564), Var(v=-0.0526, grad=-0.4671), Var(v=0.0788, grad=0.8775), Var(v=0.0210, grad=-0.1210), Var(v=0.0509, grad=0.6887), Var(v=0.0455, grad=0.5280), Var(v=0.1001, grad=0.5597), Var(v=0.1179, grad=0.3623), Var(v=-0.0371, grad=0.0000), Var(v=0.0486, grad=0.9111), Var(v=-0.0337, grad=0.0000), Var(v=-0.0217, grad=0.0000), Var(v=0.0645, grad=0.7241), Var(v=0.0383, grad=-0.2712), Var(v=-0.0630, grad=0.0000), Var(v=-0.1695, grad=0.0000), Var(v=-0.0224, grad=-0.8247), Var(v=-0.0060, grad=0.9643), Var(v=0.0492, grad=0.0000), Var(v=-0.1065, grad=0.0000), Var(v=0.0666, grad=0.0000), Var(v=-0.0442, grad=1.3497), Var(v=-0.1291, grad=0.0000), Var(v=0.0471, grad=0.0000), Var(v=-0.0572, grad=0.0000), Var(v=0.1533, grad=0.4157), Var(v=-0.0163, grad=0.0000), Var(v=0.0511, grad=0.4293), Var(v=-0.0436, grad=0.0000), Var(v=0.0602, grad=0.0000), Var(v=-0.0061, grad=0.0000), Var(v=-0.0640, grad=0.0000), Var(v=-0.1513, grad=0.0000), Var(v=0.1308, grad=0.0000), Var(v=0.0009, grad=0.0000), Var(v=-0.0648, grad=0.0000), Var(v=0.1629, grad=0.0863), Var(v=0.1599, grad=0.4771), Var(v=0.0044, grad=0.3298), Var(v=-0.0450, grad=0.0000), Var(v=0.1347, grad=-0.3307), Var(v=-0.1597, grad=0.0000), Var(v=0.0648, grad=0.0000), Var(v=0.0371, grad=0.0000), Var(v=-0.0793, grad=0.0000), Var(v=0.0210, grad=0.3817), Var(v=0.1757, grad=0.0000), Var(v=0.0386, grad=-1.0472), Var(v=0.1550, grad=0.0000), Var(v=-0.0113, grad=0.0000)], [Var(v=-0.1122, grad=1.3487), Var(v=0.0874, grad=0.9596), Var(v=0.0042, grad=-1.8028), Var(v=0.1677, grad=0.2485), Var(v=0.0663, grad=0.0000), Var(v=-0.2273, grad=0.0000), Var(v=0.0970, grad=-1.1499), Var(v=0.0470, grad=-0.7445), Var(v=0.0453, grad=0.0000), Var(v=0.1309, grad=-1.8718), Var(v=0.0100, grad=0.0000), Var(v=0.1873, grad=-1.3369), Var(v=-0.0537, grad=0.0000), Var(v=-0.0066, grad=0.5573), Var(v=-0.0119, grad=1.7488), Var(v=0.0805, grad=0.0000), Var(v=-0.0095, grad=0.0000), Var(v=-0.0635, grad=0.0000), Var(v=0.0231, grad=0.0000), Var(v=-0.2230, grad=0.0000), Var(v=0.1763, grad=1.1527), Var(v=-0.0369, grad=0.0000), Var(v=0.1762, grad=0.0000), Var(v=-0.0054, grad=-0.4007), Var(v=-0.0553, grad=-0.7167), Var(v=-0.0495, grad=0.0000), Var(v=0.2727, grad=0.0000), Var(v=-0.0306, grad=0.0000), Var(v=0.0476, grad=2.7978), Var(v=-0.0159, grad=0.0000), Var(v=0.2368, grad=0.6008), Var(v=0.0038, grad=0.0000), Var(v=-0.0185, grad=-0.6950), Var(v=-0.0175, grad=0.4933), Var(v=0.1074, grad=-0.1396), Var(v=-0.0238, grad=0.0000), Var(v=0.1672, grad=-0.1774), Var(v=-0.1558, grad=0.0000), Var(v=0.1132, grad=-0.6776), Var(v=-0.1437, grad=0.0000), Var(v=0.0473, grad=0.0000), Var(v=-0.1470, grad=1.5484), Var(v=0.0036, grad=0.0000), Var(v=0.0030, grad=1.7833), Var(v=0.0220, grad=0.0000), Var(v=-0.0065, grad=-0.7842), Var(v=0.0549, grad=0.2377), Var(v=0.1849, grad=2.1516), Var(v=0.1682, grad=-0.0665), Var(v=-0.0751, grad=0.0000)], [Var(v=0.1706, grad=1.1694), Var(v=-0.2605, grad=0.8321), Var(v=-0.0029, grad=-1.5633), Var(v=-0.1281, grad=0.2155), Var(v=-0.0533, grad=0.0000), Var(v=0.1470, grad=0.0000), Var(v=-0.1123, grad=-0.9971), Var(v=-0.0713, grad=-0.6455), Var(v=0.1415, grad=0.0000), Var(v=0.0759, grad=-1.6231), Var(v=0.0998, grad=0.0000), Var(v=0.0770, grad=-1.1592), Var(v=0.0728, grad=0.0000), Var(v=0.0789, grad=0.4832), Var(v=-0.0503, grad=1.5164), Var(v=0.0224, grad=0.0000), Var(v=-0.0186, grad=0.0000), Var(v=0.0084, grad=0.0000), Var(v=-0.0619, grad=0.0000), Var(v=-0.0002, grad=0.0000), Var(v=0.0761, grad=0.9995), Var(v=0.0922, grad=0.0000), Var(v=-0.1149, grad=0.0000), Var(v=-0.0008, grad=-0.3474), Var(v=-0.0497, grad=-0.6215), Var(v=-0.0845, grad=0.0000), Var(v=0.0690, grad=0.0000), Var(v=0.0536, grad=0.0000), Var(v=0.1205, grad=2.4260), Var(v=-0.1034, grad=0.0000), Var(v=0.0290, grad=0.5209), Var(v=0.0661, grad=0.0000), Var(v=0.0029, grad=-0.6026), Var(v=0.0305, grad=0.4277), Var(v=-0.0022, grad=-0.1211), Var(v=0.1561, grad=0.0000), Var(v=0.0250, grad=-0.1538), Var(v=0.1087, grad=0.0000), Var(v=0.0850, grad=-0.5875), Var(v=-0.0364, grad=0.0000), Var(v=-0.0870, grad=0.0000), Var(v=0.0427, grad=1.3427), Var(v=-0.2097, grad=0.0000), Var(v=-0.1962, grad=1.5463), Var(v=0.3436, grad=0.0000), Var(v=0.1511, grad=-0.6800), Var(v=0.0456, grad=0.2061), Var(v=-0.0472, grad=1.8656), Var(v=0.1242, grad=-0.0577), Var(v=0.0115, grad=0.0000)], [Var(v=0.0250, grad=0.1799), Var(v=0.0219, grad=0.1280), Var(v=-0.0236, grad=-0.2405), Var(v=-0.0347, grad=0.0331), Var(v=-0.0130, grad=0.0000), Var(v=0.0967, grad=0.0000), Var(v=-0.0380, grad=-0.1534), Var(v=-0.0190, grad=-0.0993), Var(v=0.0546, grad=0.0000), Var(v=-0.0970, grad=-0.2497), Var(v=-0.0715, grad=0.0000), Var(v=0.1221, grad=-0.1783), Var(v=0.0772, grad=0.0000), Var(v=-0.1447, grad=0.0743), Var(v=0.0087, grad=0.2333), Var(v=0.1014, grad=0.0000), Var(v=-0.0613, grad=0.0000), Var(v=0.0275, grad=0.0000), Var(v=-0.0352, grad=0.0000), Var(v=0.1707, grad=0.0000), Var(v=0.1017, grad=0.1538), Var(v=-0.0202, grad=0.0000), Var(v=-0.1543, grad=0.0000), Var(v=-0.0498, grad=-0.0534), Var(v=0.0300, grad=-0.0956), Var(v=-0.0411, grad=0.0000), Var(v=0.1027, grad=0.0000), Var(v=0.1191, grad=0.0000), Var(v=-0.0981, grad=0.3732), Var(v=-0.1647, grad=0.0000), Var(v=-0.1319, grad=0.0801), Var(v=-0.1158, grad=0.0000), Var(v=-0.1642, grad=-0.0927), Var(v=0.0081, grad=0.0658), Var(v=-0.0815, grad=-0.0186), Var(v=-0.0575, grad=0.0000), Var(v=-0.1174, grad=-0.0237), Var(v=0.0461, grad=0.0000), Var(v=-0.1385, grad=-0.0904), Var(v=0.0215, grad=0.0000), Var(v=0.2218, grad=0.0000), Var(v=0.0660, grad=0.2066), Var(v=0.2357, grad=0.0000), Var(v=-0.1792, grad=0.2379), Var(v=-0.1166, grad=0.0000), Var(v=-0.1905, grad=-0.1046), Var(v=-0.0557, grad=0.0317), Var(v=0.0858, grad=0.2870), Var(v=-0.0431, grad=-0.0089), Var(v=0.1972, grad=0.0000)], [Var(v=0.1597, grad=1.1367), Var(v=-0.0074, grad=0.8088), Var(v=0.2480, grad=-1.5195), Var(v=-0.1088, grad=0.2095), Var(v=-0.0894, grad=0.0000), Var(v=-0.1098, grad=0.0000), Var(v=0.0412, grad=-0.9692), Var(v=0.0395, grad=-0.6275), Var(v=-0.1663, grad=0.0000), Var(v=0.1084, grad=-1.5777), Var(v=-0.0977, grad=0.0000), Var(v=0.0641, grad=-1.1268), Var(v=-0.0662, grad=0.0000), Var(v=-0.0415, grad=0.4697), Var(v=0.0708, grad=1.4740), Var(v=0.0470, grad=0.0000), Var(v=-0.1070, grad=0.0000), Var(v=-0.0314, grad=0.0000), Var(v=0.0792, grad=0.0000), Var(v=0.0296, grad=0.0000), Var(v=-0.0305, grad=0.9715), Var(v=-0.1621, grad=0.0000), Var(v=-0.0837, grad=0.0000), Var(v=0.0422, grad=-0.3377), Var(v=0.0798, grad=-0.6041), Var(v=0.1523, grad=0.0000), Var(v=-0.1237, grad=0.0000), Var(v=-0.0986, grad=0.0000), Var(v=-0.0327, grad=2.3581), Var(v=0.0984, grad=0.0000), Var(v=0.0852, grad=0.5064), Var(v=-0.1405, grad=0.0000), Var(v=0.0574, grad=-0.5858), Var(v=-0.0880, grad=0.4158), Var(v=-0.0344, grad=-0.1177), Var(v=-0.0379, grad=0.0000), Var(v=-0.0380, grad=-0.1495), Var(v=0.0237, grad=0.0000), Var(v=-0.1433, grad=-0.5711), Var(v=-0.1343, grad=0.0000), Var(v=0.0163, grad=0.0000), Var(v=-0.1095, grad=1.3051), Var(v=-0.1453, grad=0.0000), Var(v=-0.2069, grad=1.5030), Var(v=-0.1879, grad=0.0000), Var(v=0.1644, grad=-0.6610), Var(v=0.0909, grad=0.2004), Var(v=-0.1049, grad=1.8134), Var(v=-0.1160, grad=-0.0561), Var(v=0.0439, grad=0.0000)], [Var(v=-0.0561, grad=-0.4084), Var(v=0.0457, grad=-0.2906), Var(v=0.0419, grad=0.5459), Var(v=-0.0295, grad=-0.0752), Var(v=0.1350, grad=0.4284), Var(v=0.1498, grad=0.3284), Var(v=-0.0724, grad=0.3482), Var(v=0.1930, grad=0.2254), Var(v=-0.0289, grad=0.0000), Var(v=0.1641, grad=0.5668), Var(v=0.0812, grad=0.0000), Var(v=0.0343, grad=0.0000), Var(v=0.1127, grad=0.4505), Var(v=0.0751, grad=-0.1687), Var(v=0.0464, grad=0.0000), Var(v=-0.0174, grad=0.0000), Var(v=-0.1051, grad=-0.5131), Var(v=0.0532, grad=0.5999), Var(v=-0.0331, grad=0.0000), Var(v=-0.1117, grad=0.0000), Var(v=0.0596, grad=0.0000), Var(v=-0.0294, grad=0.8397), Var(v=-0.0609, grad=0.0000), Var(v=0.0377, grad=0.0000), Var(v=0.0117, grad=0.0000), Var(v=0.0694, grad=0.2586), Var(v=-0.0150, grad=0.0000), Var(v=-0.0165, grad=0.2671), Var(v=-0.0186, grad=0.0000), Var(v=0.0010, grad=0.0000), Var(v=-0.0114, grad=0.0000), Var(v=-0.0305, grad=0.0000), Var(v=-0.1747, grad=0.0000), Var(v=0.0215, grad=0.0000), Var(v=0.0923, grad=0.0000), Var(v=0.1350, grad=0.0000), Var(v=0.0399, grad=0.0537), Var(v=0.2253, grad=0.2968), Var(v=-0.1432, grad=0.2052), Var(v=0.0260, grad=0.0000), Var(v=0.1217, grad=-0.2057), Var(v=0.1427, grad=0.0000), Var(v=-0.0230, grad=0.0000), Var(v=-0.0887, grad=0.0000), Var(v=0.2409, grad=0.0000), Var(v=-0.0713, grad=0.2375), Var(v=-0.0073, grad=0.0000), Var(v=0.1308, grad=-0.6515), Var(v=-0.0242, grad=0.0000), Var(v=0.0783, grad=0.0000)], [Var(v=-0.0279, grad=0.3541), Var(v=0.0145, grad=0.2520), Var(v=0.0245, grad=-0.4733), Var(v=0.0348, grad=0.0652), Var(v=-0.1599, grad=0.0000), Var(v=-0.1560, grad=0.0000), Var(v=0.1731, grad=-0.3019), Var(v=-0.0314, grad=-0.1955), Var(v=0.0045, grad=0.0000), Var(v=0.1483, grad=-0.4915), Var(v=-0.2135, grad=0.0000), Var(v=0.1068, grad=-0.3510), Var(v=-0.0748, grad=0.0000), Var(v=-0.0149, grad=0.1463), Var(v=-0.0049, grad=0.4592), Var(v=-0.0364, grad=0.0000), Var(v=0.1339, grad=0.0000), Var(v=0.0110, grad=0.0000), Var(v=-0.0831, grad=0.0000), Var(v=-0.1309, grad=0.0000), Var(v=0.0696, grad=0.3026), Var(v=-0.1284, grad=0.0000), Var(v=0.1076, grad=0.0000), Var(v=0.1526, grad=-0.1052), Var(v=0.0784, grad=-0.1882), Var(v=0.0180, grad=0.0000), Var(v=0.0268, grad=0.0000), Var(v=0.0579, grad=0.0000), Var(v=0.0170, grad=0.7346), Var(v=-0.1419, grad=0.0000), Var(v=-0.0341, grad=0.1577), Var(v=0.0209, grad=0.0000), Var(v=0.0484, grad=-0.1825), Var(v=0.1245, grad=0.1295), Var(v=-0.0955, grad=-0.0367), Var(v=-0.0804, grad=0.0000), Var(v=0.0329, grad=-0.0466), Var(v=0.1138, grad=0.0000), Var(v=-0.1550, grad=-0.1779), Var(v=-0.2291, grad=0.0000), Var(v=-0.0441, grad=0.0000), Var(v=0.0266, grad=0.4066), Var(v=0.0745, grad=0.0000), Var(v=0.0309, grad=0.4682), Var(v=0.1074, grad=0.0000), Var(v=0.0046, grad=-0.2059), Var(v=0.1212, grad=0.0624), Var(v=-0.0882, grad=0.5649), Var(v=-0.1630, grad=-0.0175), Var(v=0.0090, grad=0.0000)], [Var(v=0.0667, grad=-0.4099), Var(v=0.0064, grad=-0.2917), Var(v=-0.0435, grad=0.5480), Var(v=0.0617, grad=-0.0755), Var(v=0.0015, grad=0.4301), Var(v=-0.0411, grad=0.3297), Var(v=0.1020, grad=0.3495), Var(v=0.1364, grad=0.2263), Var(v=-0.1081, grad=0.0000), Var(v=0.0560, grad=0.5690), Var(v=-0.1497, grad=0.0000), Var(v=-0.0201, grad=0.0000), Var(v=-0.0159, grad=0.4522), Var(v=-0.0013, grad=-0.1694), Var(v=0.0342, grad=0.0000), Var(v=0.0289, grad=0.0000), Var(v=-0.0576, grad=-0.5150), Var(v=0.1597, grad=0.6022), Var(v=0.0347, grad=0.0000), Var(v=-0.0476, grad=0.0000), Var(v=0.0476, grad=0.0000), Var(v=0.0096, grad=0.8429), Var(v=-0.0800, grad=0.0000), Var(v=-0.1403, grad=0.0000), Var(v=-0.0003, grad=0.0000), Var(v=-0.1298, grad=0.2596), Var(v=0.0524, grad=0.0000), Var(v=-0.0768, grad=0.2681), Var(v=-0.0719, grad=0.0000), Var(v=-0.0795, grad=0.0000), Var(v=0.1756, grad=0.0000), Var(v=0.1859, grad=0.0000), Var(v=-0.0350, grad=0.0000), Var(v=-0.1568, grad=0.0000), Var(v=-0.0554, grad=0.0000), Var(v=-0.0607, grad=0.0000), Var(v=0.0447, grad=0.0539), Var(v=0.1182, grad=0.2980), Var(v=-0.0325, grad=0.2060), Var(v=0.0456, grad=0.0000), Var(v=0.0287, grad=-0.2065), Var(v=-0.0653, grad=0.0000), Var(v=-0.0470, grad=0.0000), Var(v=0.0663, grad=0.0000), Var(v=-0.0120, grad=0.0000), Var(v=-0.1373, grad=0.2384), Var(v=0.1129, grad=0.0000), Var(v=-0.1630, grad=-0.6540), Var(v=0.0452, grad=0.0000), Var(v=0.0877, grad=0.0000)]] Biases: [Var(v=0.0016, grad=-0.1595), Var(v=0.0011, grad=-0.1135), Var(v=-0.0021, grad=0.2132), Var(v=0.0003, grad=-0.0294), Var(v=-0.0989, grad=9.8919), Var(v=-0.0758, grad=7.5835), Var(v=-0.0014, grad=0.1360), Var(v=-0.0009, grad=0.0880), Var(v=0.0000, grad=0.0000), Var(v=-0.0022, grad=0.2214), Var(v=0.0000, grad=0.0000), Var(v=0.0919, grad=-9.1885), Var(v=-0.1040, grad=10.4011), Var(v=0.0007, grad=-0.0659), Var(v=-0.1202, grad=12.0194), Var(v=0.0000, grad=0.0000), Var(v=0.1185, grad=-11.8462), Var(v=-0.1385, grad=13.8514), Var(v=0.0000, grad=0.0000), Var(v=0.0000, grad=0.0000), Var(v=-0.0792, grad=7.9223), Var(v=-0.1939, grad=19.3873), Var(v=0.0000, grad=0.0000), Var(v=0.0275, grad=-2.7540), Var(v=0.0493, grad=-4.9261), Var(v=-0.0597, grad=5.9714), Var(v=0.0000, grad=0.0000), Var(v=-0.0617, grad=6.1668), Var(v=-0.1923, grad=19.2294), Var(v=0.0000, grad=0.0000), Var(v=-0.0413, grad=4.1290), Var(v=0.0000, grad=0.0000), Var(v=0.0478, grad=-4.7768), Var(v=-0.0339, grad=3.3905), Var(v=0.0096, grad=-0.9597), Var(v=0.0000, grad=0.0000), Var(v=-0.0002, grad=0.0210), Var(v=-0.0685, grad=6.8533), Var(v=-0.0008, grad=0.0801), Var(v=0.0000, grad=0.0000), Var(v=0.0475, grad=-4.7504), Var(v=-0.1064, grad=10.6426), Var(v=0.0000, grad=0.0000), Var(v=-0.1226, grad=12.2565), Var(v=0.0000, grad=0.0000), Var(v=-0.0009, grad=0.0927), Var(v=-0.0163, grad=1.6338), Var(v=0.0025, grad=-0.2544), Var(v=0.0046, grad=-0.4574), Var(v=0.0000, grad=0.0000)]\n",
      "Layer 2 \n",
      " Weights: [[Var(v=-0.0985, grad=-0.8235)], [Var(v=-0.0835, grad=0.7556)], [Var(v=0.1572, grad=-1.4506)], [Var(v=-0.0029, grad=-1.6761)], [Var(v=0.1032, grad=0.8829)], [Var(v=0.0849, grad=0.0991)], [Var(v=0.1008, grad=-0.9735)], [Var(v=0.0605, grad=-0.1533)], [Var(v=0.0222, grad=0.0000)], [Var(v=0.1607, grad=-1.2540)], [Var(v=-0.0173, grad=0.0000)], [Var(v=0.1663, grad=-6.0526)], [Var(v=0.1078, grad=0.9990)], [Var(v=-0.0742, grad=3.0060)], [Var(v=-0.0953, grad=-4.3111)], [Var(v=-0.0038, grad=0.0000)], [Var(v=-0.1374, grad=0.3321)], [Var(v=0.1542, grad=0.2622)], [Var(v=0.0470, grad=0.0000)], [Var(v=-0.0606, grad=0.0000)], [Var(v=-0.0702, grad=-2.1019)], [Var(v=0.2090, grad=1.0547)], [Var(v=0.0224, grad=0.0000)], [Var(v=0.0475, grad=-1.5763)], [Var(v=0.0791, grad=-2.2415)], [Var(v=0.0426, grad=2.5011)], [Var(v=0.0155, grad=0.0000)], [Var(v=0.0426, grad=2.7223)], [Var(v=-0.1993, grad=-2.2205)], [Var(v=-0.0377, grad=0.0000)], [Var(v=-0.0317, grad=-1.5856)], [Var(v=-0.0582, grad=0.0000)], [Var(v=0.0854, grad=-3.0414)], [Var(v=-0.0233, grad=-1.5762)], [Var(v=0.0299, grad=-1.8827)], [Var(v=0.0063, grad=0.0000)], [Var(v=0.0009, grad=1.3090)], [Var(v=0.0347, grad=4.2899)], [Var(v=0.0583, grad=-0.4679)], [Var(v=-0.0211, grad=0.0000)], [Var(v=-0.0797, grad=2.5900)], [Var(v=-0.1177, grad=-0.4893)], [Var(v=0.0889, grad=0.0000)], [Var(v=-0.1367, grad=-0.4498)], [Var(v=0.1169, grad=0.0000)], [Var(v=0.1040, grad=-4.1907)], [Var(v=0.0286, grad=-4.7448)], [Var(v=-0.1804, grad=1.0134)], [Var(v=0.0115, grad=-0.6203)], [Var(v=-0.0332, grad=0.0000)]] Biases: [Var(v=-0.0149, grad=1.4941)]\n",
      "\n",
      "Network after zeroing gradients:\n",
      "Layer 0 \n",
      " Weights: [[Var(v=-0.1173, grad=0.0000), Var(v=-0.0450, grad=0.0000), Var(v=0.0508, grad=0.0000), Var(v=-0.1412, grad=0.0000), Var(v=-0.0309, grad=0.0000), Var(v=0.1456, grad=0.0000), Var(v=-0.0327, grad=0.0000), Var(v=0.0007, grad=0.0000), Var(v=0.1030, grad=0.0000), Var(v=0.0994, grad=0.0000), Var(v=-0.0044, grad=0.0000), Var(v=0.2006, grad=0.0000), Var(v=0.0407, grad=0.0000), Var(v=0.0726, grad=0.0000), Var(v=0.0203, grad=0.0000)]] Biases: [Var(v=0.1035, grad=0.0000), Var(v=-0.0072, grad=0.0000), Var(v=-0.0076, grad=0.0000), Var(v=0.0130, grad=0.0000), Var(v=0.0202, grad=0.0000), Var(v=-0.0106, grad=0.0000), Var(v=-0.0409, grad=0.0000), Var(v=-0.0582, grad=0.0000), Var(v=-0.0189, grad=0.0000), Var(v=-0.0077, grad=0.0000), Var(v=-0.0181, grad=0.0000), Var(v=0.0818, grad=0.0000), Var(v=-0.0728, grad=0.0000), Var(v=0.0342, grad=0.0000), Var(v=-0.0544, grad=0.0000)]\n",
      "Layer 1 \n",
      " Weights: [[Var(v=-0.1600, grad=0.0000), Var(v=-0.0478, grad=0.0000), Var(v=-0.1602, grad=0.0000), Var(v=0.1751, grad=0.0000), Var(v=-0.0265, grad=0.0000), Var(v=0.0242, grad=0.0000), Var(v=-0.0130, grad=0.0000), Var(v=0.0149, grad=0.0000), Var(v=-0.0377, grad=0.0000), Var(v=0.0738, grad=0.0000), Var(v=0.0863, grad=0.0000), Var(v=0.0296, grad=0.0000), Var(v=-0.0520, grad=0.0000), Var(v=-0.0446, grad=0.0000), Var(v=-0.0845, grad=0.0000), Var(v=0.0513, grad=0.0000), Var(v=0.1608, grad=0.0000), Var(v=0.0981, grad=0.0000), Var(v=0.0156, grad=0.0000), Var(v=0.1333, grad=0.0000), Var(v=0.0557, grad=0.0000), Var(v=-0.1618, grad=0.0000), Var(v=-0.0714, grad=0.0000), Var(v=-0.1317, grad=0.0000), Var(v=-0.1916, grad=0.0000), Var(v=-0.0193, grad=0.0000), Var(v=0.1746, grad=0.0000), Var(v=-0.0393, grad=0.0000), Var(v=0.0791, grad=0.0000), Var(v=0.0279, grad=0.0000), Var(v=-0.1500, grad=0.0000), Var(v=0.0860, grad=0.0000), Var(v=-0.1932, grad=0.0000), Var(v=0.0756, grad=0.0000), Var(v=0.1357, grad=0.0000), Var(v=-0.0923, grad=0.0000), Var(v=0.0715, grad=0.0000), Var(v=-0.1963, grad=0.0000), Var(v=-0.0394, grad=0.0000), Var(v=-0.0814, grad=0.0000), Var(v=0.1123, grad=0.0000), Var(v=-0.1274, grad=0.0000), Var(v=-0.1673, grad=0.0000), Var(v=-0.1078, grad=0.0000), Var(v=-0.0006, grad=0.0000), Var(v=0.0102, grad=0.0000), Var(v=-0.1106, grad=0.0000), Var(v=0.2965, grad=0.0000), Var(v=0.0271, grad=0.0000), Var(v=-0.0879, grad=0.0000)], [Var(v=0.0969, grad=0.0000), Var(v=0.1029, grad=0.0000), Var(v=0.0046, grad=0.0000), Var(v=0.0309, grad=0.0000), Var(v=-0.0564, grad=0.0000), Var(v=0.0747, grad=0.0000), Var(v=-0.0493, grad=0.0000), Var(v=-0.0566, grad=0.0000), Var(v=-0.0661, grad=0.0000), Var(v=0.0437, grad=0.0000), Var(v=0.0958, grad=0.0000), Var(v=0.0180, grad=0.0000), Var(v=0.0588, grad=0.0000), Var(v=0.1597, grad=0.0000), Var(v=0.1950, grad=0.0000), Var(v=-0.0728, grad=0.0000), Var(v=-0.0850, grad=0.0000), Var(v=0.0496, grad=0.0000), Var(v=-0.2109, grad=0.0000), Var(v=-0.0930, grad=0.0000), Var(v=-0.0853, grad=0.0000), Var(v=-0.0720, grad=0.0000), Var(v=-0.0286, grad=0.0000), Var(v=-0.0545, grad=0.0000), Var(v=0.0114, grad=0.0000), Var(v=0.1006, grad=0.0000), Var(v=-0.0170, grad=0.0000), Var(v=0.1599, grad=0.0000), Var(v=-0.0897, grad=0.0000), Var(v=-0.1005, grad=0.0000), Var(v=0.0004, grad=0.0000), Var(v=-0.0888, grad=0.0000), Var(v=-0.0470, grad=0.0000), Var(v=-0.0864, grad=0.0000), Var(v=0.0351, grad=0.0000), Var(v=-0.0690, grad=0.0000), Var(v=0.2066, grad=0.0000), Var(v=0.0749, grad=0.0000), Var(v=0.0657, grad=0.0000), Var(v=0.1661, grad=0.0000), Var(v=0.1658, grad=0.0000), Var(v=-0.0787, grad=0.0000), Var(v=-0.0583, grad=0.0000), Var(v=-0.2236, grad=0.0000), Var(v=-0.2238, grad=0.0000), Var(v=0.0515, grad=0.0000), Var(v=0.0087, grad=0.0000), Var(v=0.0776, grad=0.0000), Var(v=-0.0062, grad=0.0000), Var(v=-0.0090, grad=0.0000)], [Var(v=0.0571, grad=0.0000), Var(v=-0.0441, grad=0.0000), Var(v=-0.1083, grad=0.0000), Var(v=0.0865, grad=0.0000), Var(v=-0.0050, grad=0.0000), Var(v=0.0842, grad=0.0000), Var(v=0.0964, grad=0.0000), Var(v=0.2325, grad=0.0000), Var(v=-0.1890, grad=0.0000), Var(v=0.0612, grad=0.0000), Var(v=-0.0048, grad=0.0000), Var(v=0.2096, grad=0.0000), Var(v=-0.1178, grad=0.0000), Var(v=0.1257, grad=0.0000), Var(v=0.1325, grad=0.0000), Var(v=-0.0650, grad=0.0000), Var(v=-0.1444, grad=0.0000), Var(v=0.1254, grad=0.0000), Var(v=-0.1405, grad=0.0000), Var(v=0.1202, grad=0.0000), Var(v=-0.0210, grad=0.0000), Var(v=-0.0854, grad=0.0000), Var(v=-0.0916, grad=0.0000), Var(v=-0.0195, grad=0.0000), Var(v=0.0887, grad=0.0000), Var(v=-0.0206, grad=0.0000), Var(v=-0.0928, grad=0.0000), Var(v=-0.0793, grad=0.0000), Var(v=0.0490, grad=0.0000), Var(v=-0.0056, grad=0.0000), Var(v=-0.0043, grad=0.0000), Var(v=0.0367, grad=0.0000), Var(v=0.1335, grad=0.0000), Var(v=0.1475, grad=0.0000), Var(v=-0.0302, grad=0.0000), Var(v=-0.0060, grad=0.0000), Var(v=-0.0234, grad=0.0000), Var(v=0.0207, grad=0.0000), Var(v=0.1425, grad=0.0000), Var(v=0.0733, grad=0.0000), Var(v=-0.2190, grad=0.0000), Var(v=0.0599, grad=0.0000), Var(v=0.2208, grad=0.0000), Var(v=-0.0145, grad=0.0000), Var(v=0.0364, grad=0.0000), Var(v=0.0829, grad=0.0000), Var(v=0.0490, grad=0.0000), Var(v=0.0451, grad=0.0000), Var(v=0.0955, grad=0.0000), Var(v=-0.0663, grad=0.0000)], [Var(v=-0.0188, grad=0.0000), Var(v=0.0924, grad=0.0000), Var(v=-0.0641, grad=0.0000), Var(v=0.0637, grad=0.0000), Var(v=-0.0461, grad=0.0000), Var(v=-0.0898, grad=0.0000), Var(v=-0.0098, grad=0.0000), Var(v=-0.0307, grad=0.0000), Var(v=-0.1942, grad=0.0000), Var(v=0.1014, grad=0.0000), Var(v=-0.0815, grad=0.0000), Var(v=-0.0242, grad=0.0000), Var(v=0.0092, grad=0.0000), Var(v=0.1986, grad=0.0000), Var(v=-0.1246, grad=0.0000), Var(v=0.0056, grad=0.0000), Var(v=0.1755, grad=0.0000), Var(v=-0.0268, grad=0.0000), Var(v=-0.1279, grad=0.0000), Var(v=-0.0225, grad=0.0000), Var(v=-0.0971, grad=0.0000), Var(v=0.0750, grad=0.0000), Var(v=0.0237, grad=0.0000), Var(v=-0.0456, grad=0.0000), Var(v=-0.0800, grad=0.0000), Var(v=0.0513, grad=0.0000), Var(v=-0.1185, grad=0.0000), Var(v=0.0067, grad=0.0000), Var(v=-0.0109, grad=0.0000), Var(v=-0.0131, grad=0.0000), Var(v=-0.0499, grad=0.0000), Var(v=-0.1651, grad=0.0000), Var(v=-0.0564, grad=0.0000), Var(v=-0.0722, grad=0.0000), Var(v=-0.0777, grad=0.0000), Var(v=-0.0509, grad=0.0000), Var(v=-0.0516, grad=0.0000), Var(v=0.1678, grad=0.0000), Var(v=0.1993, grad=0.0000), Var(v=0.0030, grad=0.0000), Var(v=0.0616, grad=0.0000), Var(v=-0.2181, grad=0.0000), Var(v=-0.0209, grad=0.0000), Var(v=-0.0515, grad=0.0000), Var(v=-0.0572, grad=0.0000), Var(v=0.0073, grad=0.0000), Var(v=-0.1675, grad=0.0000), Var(v=0.2055, grad=0.0000), Var(v=-0.1604, grad=0.0000), Var(v=-0.1460, grad=0.0000)], [Var(v=0.0325, grad=0.0000), Var(v=0.1064, grad=0.0000), Var(v=-0.0283, grad=0.0000), Var(v=-0.1355, grad=0.0000), Var(v=0.1090, grad=0.0000), Var(v=-0.0228, grad=0.0000), Var(v=0.0813, grad=0.0000), Var(v=-0.0559, grad=0.0000), Var(v=-0.1031, grad=0.0000), Var(v=-0.1399, grad=0.0000), Var(v=-0.1698, grad=0.0000), Var(v=0.0194, grad=0.0000), Var(v=0.0862, grad=0.0000), Var(v=0.0100, grad=0.0000), Var(v=-0.0110, grad=0.0000), Var(v=0.1126, grad=0.0000), Var(v=0.0504, grad=0.0000), Var(v=-0.0234, grad=0.0000), Var(v=-0.0541, grad=0.0000), Var(v=0.0200, grad=0.0000), Var(v=0.1384, grad=0.0000), Var(v=-0.1440, grad=0.0000), Var(v=0.1791, grad=0.0000), Var(v=-0.0767, grad=0.0000), Var(v=-0.0532, grad=0.0000), Var(v=-0.1512, grad=0.0000), Var(v=0.1236, grad=0.0000), Var(v=0.0601, grad=0.0000), Var(v=-0.0165, grad=0.0000), Var(v=0.0115, grad=0.0000), Var(v=-0.1126, grad=0.0000), Var(v=0.0275, grad=0.0000), Var(v=-0.1423, grad=0.0000), Var(v=-0.0608, grad=0.0000), Var(v=-0.0955, grad=0.0000), Var(v=0.0358, grad=0.0000), Var(v=-0.0749, grad=0.0000), Var(v=-0.0231, grad=0.0000), Var(v=0.1600, grad=0.0000), Var(v=0.0646, grad=0.0000), Var(v=-0.1002, grad=0.0000), Var(v=0.1116, grad=0.0000), Var(v=-0.0276, grad=0.0000), Var(v=0.1300, grad=0.0000), Var(v=-0.0874, grad=0.0000), Var(v=0.0772, grad=0.0000), Var(v=-0.0675, grad=0.0000), Var(v=-0.0980, grad=0.0000), Var(v=0.0310, grad=0.0000), Var(v=0.0587, grad=0.0000)], [Var(v=-0.0406, grad=0.0000), Var(v=0.0971, grad=0.0000), Var(v=0.1073, grad=0.0000), Var(v=0.0986, grad=0.0000), Var(v=-0.0219, grad=0.0000), Var(v=0.1168, grad=0.0000), Var(v=0.0160, grad=0.0000), Var(v=-0.0019, grad=0.0000), Var(v=-0.1674, grad=0.0000), Var(v=0.0131, grad=0.0000), Var(v=-0.1465, grad=0.0000), Var(v=0.0673, grad=0.0000), Var(v=0.0443, grad=0.0000), Var(v=-0.0670, grad=0.0000), Var(v=0.1563, grad=0.0000), Var(v=-0.2009, grad=0.0000), Var(v=-0.0629, grad=0.0000), Var(v=-0.0848, grad=0.0000), Var(v=-0.0570, grad=0.0000), Var(v=-0.0621, grad=0.0000), Var(v=-0.0969, grad=0.0000), Var(v=0.0226, grad=0.0000), Var(v=-0.0359, grad=0.0000), Var(v=0.0702, grad=0.0000), Var(v=0.1369, grad=0.0000), Var(v=-0.0009, grad=0.0000), Var(v=-0.2050, grad=0.0000), Var(v=-0.0063, grad=0.0000), Var(v=-0.0681, grad=0.0000), Var(v=-0.0562, grad=0.0000), Var(v=-0.1630, grad=0.0000), Var(v=-0.0237, grad=0.0000), Var(v=0.1458, grad=0.0000), Var(v=0.0508, grad=0.0000), Var(v=0.1022, grad=0.0000), Var(v=-0.1826, grad=0.0000), Var(v=-0.0313, grad=0.0000), Var(v=-0.2740, grad=0.0000), Var(v=0.1512, grad=0.0000), Var(v=0.0262, grad=0.0000), Var(v=-0.1371, grad=0.0000), Var(v=0.1020, grad=0.0000), Var(v=-0.0670, grad=0.0000), Var(v=0.2547, grad=0.0000), Var(v=-0.2202, grad=0.0000), Var(v=0.0973, grad=0.0000), Var(v=0.1158, grad=0.0000), Var(v=-0.0780, grad=0.0000), Var(v=-0.0974, grad=0.0000), Var(v=-0.0294, grad=0.0000)], [Var(v=0.1421, grad=0.0000), Var(v=-0.0745, grad=0.0000), Var(v=0.1656, grad=0.0000), Var(v=-0.1211, grad=0.0000), Var(v=0.0641, grad=0.0000), Var(v=-0.0163, grad=0.0000), Var(v=-0.0693, grad=0.0000), Var(v=-0.0727, grad=0.0000), Var(v=0.0256, grad=0.0000), Var(v=-0.0947, grad=0.0000), Var(v=-0.1128, grad=0.0000), Var(v=-0.1920, grad=0.0000), Var(v=-0.0789, grad=0.0000), Var(v=-0.0791, grad=0.0000), Var(v=-0.0456, grad=0.0000), Var(v=-0.0236, grad=0.0000), Var(v=-0.0429, grad=0.0000), Var(v=-0.1236, grad=0.0000), Var(v=-0.0295, grad=0.0000), Var(v=0.1405, grad=0.0000), Var(v=0.0275, grad=0.0000), Var(v=0.0476, grad=0.0000), Var(v=0.0735, grad=0.0000), Var(v=-0.1182, grad=0.0000), Var(v=-0.0225, grad=0.0000), Var(v=0.0756, grad=0.0000), Var(v=-0.2592, grad=0.0000), Var(v=0.2137, grad=0.0000), Var(v=-0.1769, grad=0.0000), Var(v=-0.0258, grad=0.0000), Var(v=0.0105, grad=0.0000), Var(v=0.0028, grad=0.0000), Var(v=0.0220, grad=0.0000), Var(v=0.0924, grad=0.0000), Var(v=-0.1305, grad=0.0000), Var(v=-0.0733, grad=0.0000), Var(v=0.0935, grad=0.0000), Var(v=-0.0809, grad=0.0000), Var(v=0.0115, grad=0.0000), Var(v=-0.2270, grad=0.0000), Var(v=-0.0286, grad=0.0000), Var(v=0.1182, grad=0.0000), Var(v=-0.1074, grad=0.0000), Var(v=0.0010, grad=0.0000), Var(v=0.0187, grad=0.0000), Var(v=0.0671, grad=0.0000), Var(v=0.0316, grad=0.0000), Var(v=-0.1009, grad=0.0000), Var(v=0.0365, grad=0.0000), Var(v=0.0922, grad=0.0000)], [Var(v=0.1122, grad=0.0000), Var(v=-0.0526, grad=0.0000), Var(v=0.0788, grad=0.0000), Var(v=0.0210, grad=0.0000), Var(v=0.0509, grad=0.0000), Var(v=0.0455, grad=0.0000), Var(v=0.1001, grad=0.0000), Var(v=0.1179, grad=0.0000), Var(v=-0.0371, grad=0.0000), Var(v=0.0486, grad=0.0000), Var(v=-0.0337, grad=0.0000), Var(v=-0.0217, grad=0.0000), Var(v=0.0645, grad=0.0000), Var(v=0.0383, grad=0.0000), Var(v=-0.0630, grad=0.0000), Var(v=-0.1695, grad=0.0000), Var(v=-0.0224, grad=0.0000), Var(v=-0.0060, grad=0.0000), Var(v=0.0492, grad=0.0000), Var(v=-0.1065, grad=0.0000), Var(v=0.0666, grad=0.0000), Var(v=-0.0442, grad=0.0000), Var(v=-0.1291, grad=0.0000), Var(v=0.0471, grad=0.0000), Var(v=-0.0572, grad=0.0000), Var(v=0.1533, grad=0.0000), Var(v=-0.0163, grad=0.0000), Var(v=0.0511, grad=0.0000), Var(v=-0.0436, grad=0.0000), Var(v=0.0602, grad=0.0000), Var(v=-0.0061, grad=0.0000), Var(v=-0.0640, grad=0.0000), Var(v=-0.1513, grad=0.0000), Var(v=0.1308, grad=0.0000), Var(v=0.0009, grad=0.0000), Var(v=-0.0648, grad=0.0000), Var(v=0.1629, grad=0.0000), Var(v=0.1599, grad=0.0000), Var(v=0.0044, grad=0.0000), Var(v=-0.0450, grad=0.0000), Var(v=0.1347, grad=0.0000), Var(v=-0.1597, grad=0.0000), Var(v=0.0648, grad=0.0000), Var(v=0.0371, grad=0.0000), Var(v=-0.0793, grad=0.0000), Var(v=0.0210, grad=0.0000), Var(v=0.1757, grad=0.0000), Var(v=0.0386, grad=0.0000), Var(v=0.1550, grad=0.0000), Var(v=-0.0113, grad=0.0000)], [Var(v=-0.1122, grad=0.0000), Var(v=0.0874, grad=0.0000), Var(v=0.0042, grad=0.0000), Var(v=0.1677, grad=0.0000), Var(v=0.0663, grad=0.0000), Var(v=-0.2273, grad=0.0000), Var(v=0.0970, grad=0.0000), Var(v=0.0470, grad=0.0000), Var(v=0.0453, grad=0.0000), Var(v=0.1309, grad=0.0000), Var(v=0.0100, grad=0.0000), Var(v=0.1873, grad=0.0000), Var(v=-0.0537, grad=0.0000), Var(v=-0.0066, grad=0.0000), Var(v=-0.0119, grad=0.0000), Var(v=0.0805, grad=0.0000), Var(v=-0.0095, grad=0.0000), Var(v=-0.0635, grad=0.0000), Var(v=0.0231, grad=0.0000), Var(v=-0.2230, grad=0.0000), Var(v=0.1763, grad=0.0000), Var(v=-0.0369, grad=0.0000), Var(v=0.1762, grad=0.0000), Var(v=-0.0054, grad=0.0000), Var(v=-0.0553, grad=0.0000), Var(v=-0.0495, grad=0.0000), Var(v=0.2727, grad=0.0000), Var(v=-0.0306, grad=0.0000), Var(v=0.0476, grad=0.0000), Var(v=-0.0159, grad=0.0000), Var(v=0.2368, grad=0.0000), Var(v=0.0038, grad=0.0000), Var(v=-0.0185, grad=0.0000), Var(v=-0.0175, grad=0.0000), Var(v=0.1074, grad=0.0000), Var(v=-0.0238, grad=0.0000), Var(v=0.1672, grad=0.0000), Var(v=-0.1558, grad=0.0000), Var(v=0.1132, grad=0.0000), Var(v=-0.1437, grad=0.0000), Var(v=0.0473, grad=0.0000), Var(v=-0.1470, grad=0.0000), Var(v=0.0036, grad=0.0000), Var(v=0.0030, grad=0.0000), Var(v=0.0220, grad=0.0000), Var(v=-0.0065, grad=0.0000), Var(v=0.0549, grad=0.0000), Var(v=0.1849, grad=0.0000), Var(v=0.1682, grad=0.0000), Var(v=-0.0751, grad=0.0000)], [Var(v=0.1706, grad=0.0000), Var(v=-0.2605, grad=0.0000), Var(v=-0.0029, grad=0.0000), Var(v=-0.1281, grad=0.0000), Var(v=-0.0533, grad=0.0000), Var(v=0.1470, grad=0.0000), Var(v=-0.1123, grad=0.0000), Var(v=-0.0713, grad=0.0000), Var(v=0.1415, grad=0.0000), Var(v=0.0759, grad=0.0000), Var(v=0.0998, grad=0.0000), Var(v=0.0770, grad=0.0000), Var(v=0.0728, grad=0.0000), Var(v=0.0789, grad=0.0000), Var(v=-0.0503, grad=0.0000), Var(v=0.0224, grad=0.0000), Var(v=-0.0186, grad=0.0000), Var(v=0.0084, grad=0.0000), Var(v=-0.0619, grad=0.0000), Var(v=-0.0002, grad=0.0000), Var(v=0.0761, grad=0.0000), Var(v=0.0922, grad=0.0000), Var(v=-0.1149, grad=0.0000), Var(v=-0.0008, grad=0.0000), Var(v=-0.0497, grad=0.0000), Var(v=-0.0845, grad=0.0000), Var(v=0.0690, grad=0.0000), Var(v=0.0536, grad=0.0000), Var(v=0.1205, grad=0.0000), Var(v=-0.1034, grad=0.0000), Var(v=0.0290, grad=0.0000), Var(v=0.0661, grad=0.0000), Var(v=0.0029, grad=0.0000), Var(v=0.0305, grad=0.0000), Var(v=-0.0022, grad=0.0000), Var(v=0.1561, grad=0.0000), Var(v=0.0250, grad=0.0000), Var(v=0.1087, grad=0.0000), Var(v=0.0850, grad=0.0000), Var(v=-0.0364, grad=0.0000), Var(v=-0.0870, grad=0.0000), Var(v=0.0427, grad=0.0000), Var(v=-0.2097, grad=0.0000), Var(v=-0.1962, grad=0.0000), Var(v=0.3436, grad=0.0000), Var(v=0.1511, grad=0.0000), Var(v=0.0456, grad=0.0000), Var(v=-0.0472, grad=0.0000), Var(v=0.1242, grad=0.0000), Var(v=0.0115, grad=0.0000)], [Var(v=0.0250, grad=0.0000), Var(v=0.0219, grad=0.0000), Var(v=-0.0236, grad=0.0000), Var(v=-0.0347, grad=0.0000), Var(v=-0.0130, grad=0.0000), Var(v=0.0967, grad=0.0000), Var(v=-0.0380, grad=0.0000), Var(v=-0.0190, grad=0.0000), Var(v=0.0546, grad=0.0000), Var(v=-0.0970, grad=0.0000), Var(v=-0.0715, grad=0.0000), Var(v=0.1221, grad=0.0000), Var(v=0.0772, grad=0.0000), Var(v=-0.1447, grad=0.0000), Var(v=0.0087, grad=0.0000), Var(v=0.1014, grad=0.0000), Var(v=-0.0613, grad=0.0000), Var(v=0.0275, grad=0.0000), Var(v=-0.0352, grad=0.0000), Var(v=0.1707, grad=0.0000), Var(v=0.1017, grad=0.0000), Var(v=-0.0202, grad=0.0000), Var(v=-0.1543, grad=0.0000), Var(v=-0.0498, grad=0.0000), Var(v=0.0300, grad=0.0000), Var(v=-0.0411, grad=0.0000), Var(v=0.1027, grad=0.0000), Var(v=0.1191, grad=0.0000), Var(v=-0.0981, grad=0.0000), Var(v=-0.1647, grad=0.0000), Var(v=-0.1319, grad=0.0000), Var(v=-0.1158, grad=0.0000), Var(v=-0.1642, grad=0.0000), Var(v=0.0081, grad=0.0000), Var(v=-0.0815, grad=0.0000), Var(v=-0.0575, grad=0.0000), Var(v=-0.1174, grad=0.0000), Var(v=0.0461, grad=0.0000), Var(v=-0.1385, grad=0.0000), Var(v=0.0215, grad=0.0000), Var(v=0.2218, grad=0.0000), Var(v=0.0660, grad=0.0000), Var(v=0.2357, grad=0.0000), Var(v=-0.1792, grad=0.0000), Var(v=-0.1166, grad=0.0000), Var(v=-0.1905, grad=0.0000), Var(v=-0.0557, grad=0.0000), Var(v=0.0858, grad=0.0000), Var(v=-0.0431, grad=0.0000), Var(v=0.1972, grad=0.0000)], [Var(v=0.1597, grad=0.0000), Var(v=-0.0074, grad=0.0000), Var(v=0.2480, grad=0.0000), Var(v=-0.1088, grad=0.0000), Var(v=-0.0894, grad=0.0000), Var(v=-0.1098, grad=0.0000), Var(v=0.0412, grad=0.0000), Var(v=0.0395, grad=0.0000), Var(v=-0.1663, grad=0.0000), Var(v=0.1084, grad=0.0000), Var(v=-0.0977, grad=0.0000), Var(v=0.0641, grad=0.0000), Var(v=-0.0662, grad=0.0000), Var(v=-0.0415, grad=0.0000), Var(v=0.0708, grad=0.0000), Var(v=0.0470, grad=0.0000), Var(v=-0.1070, grad=0.0000), Var(v=-0.0314, grad=0.0000), Var(v=0.0792, grad=0.0000), Var(v=0.0296, grad=0.0000), Var(v=-0.0305, grad=0.0000), Var(v=-0.1621, grad=0.0000), Var(v=-0.0837, grad=0.0000), Var(v=0.0422, grad=0.0000), Var(v=0.0798, grad=0.0000), Var(v=0.1523, grad=0.0000), Var(v=-0.1237, grad=0.0000), Var(v=-0.0986, grad=0.0000), Var(v=-0.0327, grad=0.0000), Var(v=0.0984, grad=0.0000), Var(v=0.0852, grad=0.0000), Var(v=-0.1405, grad=0.0000), Var(v=0.0574, grad=0.0000), Var(v=-0.0880, grad=0.0000), Var(v=-0.0344, grad=0.0000), Var(v=-0.0379, grad=0.0000), Var(v=-0.0380, grad=0.0000), Var(v=0.0237, grad=0.0000), Var(v=-0.1433, grad=0.0000), Var(v=-0.1343, grad=0.0000), Var(v=0.0163, grad=0.0000), Var(v=-0.1095, grad=0.0000), Var(v=-0.1453, grad=0.0000), Var(v=-0.2069, grad=0.0000), Var(v=-0.1879, grad=0.0000), Var(v=0.1644, grad=0.0000), Var(v=0.0909, grad=0.0000), Var(v=-0.1049, grad=0.0000), Var(v=-0.1160, grad=0.0000), Var(v=0.0439, grad=0.0000)], [Var(v=-0.0561, grad=0.0000), Var(v=0.0457, grad=0.0000), Var(v=0.0419, grad=0.0000), Var(v=-0.0295, grad=0.0000), Var(v=0.1350, grad=0.0000), Var(v=0.1498, grad=0.0000), Var(v=-0.0724, grad=0.0000), Var(v=0.1930, grad=0.0000), Var(v=-0.0289, grad=0.0000), Var(v=0.1641, grad=0.0000), Var(v=0.0812, grad=0.0000), Var(v=0.0343, grad=0.0000), Var(v=0.1127, grad=0.0000), Var(v=0.0751, grad=0.0000), Var(v=0.0464, grad=0.0000), Var(v=-0.0174, grad=0.0000), Var(v=-0.1051, grad=0.0000), Var(v=0.0532, grad=0.0000), Var(v=-0.0331, grad=0.0000), Var(v=-0.1117, grad=0.0000), Var(v=0.0596, grad=0.0000), Var(v=-0.0294, grad=0.0000), Var(v=-0.0609, grad=0.0000), Var(v=0.0377, grad=0.0000), Var(v=0.0117, grad=0.0000), Var(v=0.0694, grad=0.0000), Var(v=-0.0150, grad=0.0000), Var(v=-0.0165, grad=0.0000), Var(v=-0.0186, grad=0.0000), Var(v=0.0010, grad=0.0000), Var(v=-0.0114, grad=0.0000), Var(v=-0.0305, grad=0.0000), Var(v=-0.1747, grad=0.0000), Var(v=0.0215, grad=0.0000), Var(v=0.0923, grad=0.0000), Var(v=0.1350, grad=0.0000), Var(v=0.0399, grad=0.0000), Var(v=0.2253, grad=0.0000), Var(v=-0.1432, grad=0.0000), Var(v=0.0260, grad=0.0000), Var(v=0.1217, grad=0.0000), Var(v=0.1427, grad=0.0000), Var(v=-0.0230, grad=0.0000), Var(v=-0.0887, grad=0.0000), Var(v=0.2409, grad=0.0000), Var(v=-0.0713, grad=0.0000), Var(v=-0.0073, grad=0.0000), Var(v=0.1308, grad=0.0000), Var(v=-0.0242, grad=0.0000), Var(v=0.0783, grad=0.0000)], [Var(v=-0.0279, grad=0.0000), Var(v=0.0145, grad=0.0000), Var(v=0.0245, grad=0.0000), Var(v=0.0348, grad=0.0000), Var(v=-0.1599, grad=0.0000), Var(v=-0.1560, grad=0.0000), Var(v=0.1731, grad=0.0000), Var(v=-0.0314, grad=0.0000), Var(v=0.0045, grad=0.0000), Var(v=0.1483, grad=0.0000), Var(v=-0.2135, grad=0.0000), Var(v=0.1068, grad=0.0000), Var(v=-0.0748, grad=0.0000), Var(v=-0.0149, grad=0.0000), Var(v=-0.0049, grad=0.0000), Var(v=-0.0364, grad=0.0000), Var(v=0.1339, grad=0.0000), Var(v=0.0110, grad=0.0000), Var(v=-0.0831, grad=0.0000), Var(v=-0.1309, grad=0.0000), Var(v=0.0696, grad=0.0000), Var(v=-0.1284, grad=0.0000), Var(v=0.1076, grad=0.0000), Var(v=0.1526, grad=0.0000), Var(v=0.0784, grad=0.0000), Var(v=0.0180, grad=0.0000), Var(v=0.0268, grad=0.0000), Var(v=0.0579, grad=0.0000), Var(v=0.0170, grad=0.0000), Var(v=-0.1419, grad=0.0000), Var(v=-0.0341, grad=0.0000), Var(v=0.0209, grad=0.0000), Var(v=0.0484, grad=0.0000), Var(v=0.1245, grad=0.0000), Var(v=-0.0955, grad=0.0000), Var(v=-0.0804, grad=0.0000), Var(v=0.0329, grad=0.0000), Var(v=0.1138, grad=0.0000), Var(v=-0.1550, grad=0.0000), Var(v=-0.2291, grad=0.0000), Var(v=-0.0441, grad=0.0000), Var(v=0.0266, grad=0.0000), Var(v=0.0745, grad=0.0000), Var(v=0.0309, grad=0.0000), Var(v=0.1074, grad=0.0000), Var(v=0.0046, grad=0.0000), Var(v=0.1212, grad=0.0000), Var(v=-0.0882, grad=0.0000), Var(v=-0.1630, grad=0.0000), Var(v=0.0090, grad=0.0000)], [Var(v=0.0667, grad=0.0000), Var(v=0.0064, grad=0.0000), Var(v=-0.0435, grad=0.0000), Var(v=0.0617, grad=0.0000), Var(v=0.0015, grad=0.0000), Var(v=-0.0411, grad=0.0000), Var(v=0.1020, grad=0.0000), Var(v=0.1364, grad=0.0000), Var(v=-0.1081, grad=0.0000), Var(v=0.0560, grad=0.0000), Var(v=-0.1497, grad=0.0000), Var(v=-0.0201, grad=0.0000), Var(v=-0.0159, grad=0.0000), Var(v=-0.0013, grad=0.0000), Var(v=0.0342, grad=0.0000), Var(v=0.0289, grad=0.0000), Var(v=-0.0576, grad=0.0000), Var(v=0.1597, grad=0.0000), Var(v=0.0347, grad=0.0000), Var(v=-0.0476, grad=0.0000), Var(v=0.0476, grad=0.0000), Var(v=0.0096, grad=0.0000), Var(v=-0.0800, grad=0.0000), Var(v=-0.1403, grad=0.0000), Var(v=-0.0003, grad=0.0000), Var(v=-0.1298, grad=0.0000), Var(v=0.0524, grad=0.0000), Var(v=-0.0768, grad=0.0000), Var(v=-0.0719, grad=0.0000), Var(v=-0.0795, grad=0.0000), Var(v=0.1756, grad=0.0000), Var(v=0.1859, grad=0.0000), Var(v=-0.0350, grad=0.0000), Var(v=-0.1568, grad=0.0000), Var(v=-0.0554, grad=0.0000), Var(v=-0.0607, grad=0.0000), Var(v=0.0447, grad=0.0000), Var(v=0.1182, grad=0.0000), Var(v=-0.0325, grad=0.0000), Var(v=0.0456, grad=0.0000), Var(v=0.0287, grad=0.0000), Var(v=-0.0653, grad=0.0000), Var(v=-0.0470, grad=0.0000), Var(v=0.0663, grad=0.0000), Var(v=-0.0120, grad=0.0000), Var(v=-0.1373, grad=0.0000), Var(v=0.1129, grad=0.0000), Var(v=-0.1630, grad=0.0000), Var(v=0.0452, grad=0.0000), Var(v=0.0877, grad=0.0000)]] Biases: [Var(v=0.0016, grad=0.0000), Var(v=0.0011, grad=0.0000), Var(v=-0.0021, grad=0.0000), Var(v=0.0003, grad=0.0000), Var(v=-0.0989, grad=0.0000), Var(v=-0.0758, grad=0.0000), Var(v=-0.0014, grad=0.0000), Var(v=-0.0009, grad=0.0000), Var(v=0.0000, grad=0.0000), Var(v=-0.0022, grad=0.0000), Var(v=0.0000, grad=0.0000), Var(v=0.0919, grad=0.0000), Var(v=-0.1040, grad=0.0000), Var(v=0.0007, grad=0.0000), Var(v=-0.1202, grad=0.0000), Var(v=0.0000, grad=0.0000), Var(v=0.1185, grad=0.0000), Var(v=-0.1385, grad=0.0000), Var(v=0.0000, grad=0.0000), Var(v=0.0000, grad=0.0000), Var(v=-0.0792, grad=0.0000), Var(v=-0.1939, grad=0.0000), Var(v=0.0000, grad=0.0000), Var(v=0.0275, grad=0.0000), Var(v=0.0493, grad=0.0000), Var(v=-0.0597, grad=0.0000), Var(v=0.0000, grad=0.0000), Var(v=-0.0617, grad=0.0000), Var(v=-0.1923, grad=0.0000), Var(v=0.0000, grad=0.0000), Var(v=-0.0413, grad=0.0000), Var(v=0.0000, grad=0.0000), Var(v=0.0478, grad=0.0000), Var(v=-0.0339, grad=0.0000), Var(v=0.0096, grad=0.0000), Var(v=0.0000, grad=0.0000), Var(v=-0.0002, grad=0.0000), Var(v=-0.0685, grad=0.0000), Var(v=-0.0008, grad=0.0000), Var(v=0.0000, grad=0.0000), Var(v=0.0475, grad=0.0000), Var(v=-0.1064, grad=0.0000), Var(v=0.0000, grad=0.0000), Var(v=-0.1226, grad=0.0000), Var(v=0.0000, grad=0.0000), Var(v=-0.0009, grad=0.0000), Var(v=-0.0163, grad=0.0000), Var(v=0.0025, grad=0.0000), Var(v=0.0046, grad=0.0000), Var(v=0.0000, grad=0.0000)]\n",
      "Layer 2 \n",
      " Weights: [[Var(v=-0.0985, grad=0.0000)], [Var(v=-0.0835, grad=0.0000)], [Var(v=0.1572, grad=0.0000)], [Var(v=-0.0029, grad=0.0000)], [Var(v=0.1032, grad=0.0000)], [Var(v=0.0849, grad=0.0000)], [Var(v=0.1008, grad=0.0000)], [Var(v=0.0605, grad=0.0000)], [Var(v=0.0222, grad=0.0000)], [Var(v=0.1607, grad=0.0000)], [Var(v=-0.0173, grad=0.0000)], [Var(v=0.1663, grad=0.0000)], [Var(v=0.1078, grad=0.0000)], [Var(v=-0.0742, grad=0.0000)], [Var(v=-0.0953, grad=0.0000)], [Var(v=-0.0038, grad=0.0000)], [Var(v=-0.1374, grad=0.0000)], [Var(v=0.1542, grad=0.0000)], [Var(v=0.0470, grad=0.0000)], [Var(v=-0.0606, grad=0.0000)], [Var(v=-0.0702, grad=0.0000)], [Var(v=0.2090, grad=0.0000)], [Var(v=0.0224, grad=0.0000)], [Var(v=0.0475, grad=0.0000)], [Var(v=0.0791, grad=0.0000)], [Var(v=0.0426, grad=0.0000)], [Var(v=0.0155, grad=0.0000)], [Var(v=0.0426, grad=0.0000)], [Var(v=-0.1993, grad=0.0000)], [Var(v=-0.0377, grad=0.0000)], [Var(v=-0.0317, grad=0.0000)], [Var(v=-0.0582, grad=0.0000)], [Var(v=0.0854, grad=0.0000)], [Var(v=-0.0233, grad=0.0000)], [Var(v=0.0299, grad=0.0000)], [Var(v=0.0063, grad=0.0000)], [Var(v=0.0009, grad=0.0000)], [Var(v=0.0347, grad=0.0000)], [Var(v=0.0583, grad=0.0000)], [Var(v=-0.0211, grad=0.0000)], [Var(v=-0.0797, grad=0.0000)], [Var(v=-0.1177, grad=0.0000)], [Var(v=0.0889, grad=0.0000)], [Var(v=-0.1367, grad=0.0000)], [Var(v=0.1169, grad=0.0000)], [Var(v=0.1040, grad=0.0000)], [Var(v=0.0286, grad=0.0000)], [Var(v=-0.1804, grad=0.0000)], [Var(v=0.0115, grad=0.0000)], [Var(v=-0.0332, grad=0.0000)]] Biases: [Var(v=-0.0149, grad=0.0000)]\n"
     ]
    },
    {
     "data": {
      "text/plain": [
       "[None, None, None]"
      ]
     },
     "execution_count": 84,
     "metadata": {},
     "output_type": "execute_result"
    }
   ],
   "source": [
    "print('Network before update:')\n",
    "[print('Layer', i, '\\n', NN[i]) for i in range(len(NN))] \n",
    "\n",
    "def parameters(network):\n",
    "  params = []\n",
    "  for layer in range(len(network)):\n",
    "    params += network[layer].parameters()\n",
    "  return params\n",
    "\n",
    "def update_parameters(params, learning_rate=0.01):\n",
    "  for p in params:\n",
    "    p.v -= learning_rate*p.grad\n",
    "\n",
    "def zero_gradients(params):\n",
    "  for p in params:\n",
    "    p.grad = 0.0\n",
    "\n",
    "update_parameters(parameters(NN))\n",
    "\n",
    "print('\\nNetwork after update:')\n",
    "[print('Layer', i, '\\n', NN[i]) for i in range(len(NN))] \n",
    "\n",
    "zero_gradients(parameters(NN))\n",
    "\n",
    "print('\\nNetwork after zeroing gradients:')\n",
    "[print('Layer', i, '\\n', NN[i]) for i in range(len(NN))] "
   ]
  },
  {
   "cell_type": "code",
   "execution_count": 85,
   "metadata": {
    "id": "woWYpdw6FtIO"
   },
   "outputs": [],
   "source": [
    "# Initialize an arbitrary neural network\n",
    "NN = [\n",
    "    DenseLayer(1, 8, lambda x: x.relu()),\n",
    "    DenseLayer(8, 1, lambda x: x.ident())\n",
    "]\n",
    "\n",
    "# Recommended hyper-parameters for 3-D: \n",
    "#NN = [\n",
    "#    DenseLayer(3, 16, lambda x: x.relu()),\n",
    "#    DenseLayer(16, 1, lambda x: x.ident())\n",
    "#]\n",
    "\n",
    "\n",
    "### Notice that, when we switch from tanh to relu activation, we decrease the learning rate. This is due the stability of the gradients \n",
    "## of the activation functions."
   ]
  },
  {
   "cell_type": "code",
   "execution_count": 86,
   "metadata": {
    "id": "mdqaqYBVFtIR"
   },
   "outputs": [],
   "source": [
    "# Initialize training hyperparameters\n",
    "EPOCHS = 200\n",
    "LEARN_R = 2e-3 "
   ]
  },
  {
   "cell_type": "code",
   "execution_count": 87,
   "metadata": {
    "colab": {
     "base_uri": "https://localhost:8080/"
    },
    "id": "5kfg76GMFtIW",
    "outputId": "e30cf68a-31f2-42b4-cc5e-860c297c0f04",
    "scrolled": true
   },
   "outputs": [
    {
     "name": "stdout",
     "output_type": "stream",
     "text": [
      "   0 ( 0.00%) Train loss: 109.258 \t Validation loss: 101.980\n",
      "  10 ( 5.00%) Train loss: 26.182 \t Validation loss: 18.967\n",
      "  20 (10.00%) Train loss: 15.476 \t Validation loss: 11.463\n",
      "  30 (15.00%) Train loss: 14.819 \t Validation loss: 10.926\n",
      "  40 (20.00%) Train loss: 14.428 \t Validation loss: 10.730\n",
      "  50 (25.00%) Train loss: 14.077 \t Validation loss: 10.582\n",
      "  60 (30.00%) Train loss: 13.669 \t Validation loss: 10.409\n",
      "  70 (35.00%) Train loss: 13.263 \t Validation loss: 10.160\n",
      "  80 (40.00%) Train loss: 12.747 \t Validation loss: 9.876\n",
      "  90 (45.00%) Train loss: 12.353 \t Validation loss: 9.623\n",
      " 100 (50.00%) Train loss: 12.113 \t Validation loss: 9.398\n",
      " 110 (55.00%) Train loss: 11.997 \t Validation loss: 9.272\n",
      " 120 (60.00%) Train loss: 11.926 \t Validation loss: 9.184\n",
      " 130 (65.00%) Train loss: 11.880 \t Validation loss: 9.108\n",
      " 140 (70.00%) Train loss: 11.846 \t Validation loss: 9.046\n",
      " 150 (75.00%) Train loss: 11.806 \t Validation loss: 8.979\n",
      " 160 (80.00%) Train loss: 11.762 \t Validation loss: 8.948\n",
      " 170 (85.00%) Train loss: 11.711 \t Validation loss: 8.921\n",
      " 180 (90.00%) Train loss: 11.665 \t Validation loss: 8.896\n",
      " 190 (95.00%) Train loss: 11.625 \t Validation loss: 8.877\n"
     ]
    }
   ],
   "source": [
    "train_loss = []\n",
    "val_loss = []\n",
    "\n",
    "for e in range(EPOCHS):\n",
    "     \n",
    "    # Forward pass and loss computation\n",
    "    Loss = squared_loss(y_train, forward(x_train, NN))\n",
    "\n",
    "    # Backward pass\n",
    "    Loss.backward()\n",
    "    \n",
    "    # gradient descent update\n",
    "    update_parameters(parameters(NN), LEARN_R)\n",
    "    zero_gradients(parameters(NN))\n",
    "    \n",
    "    # Training loss\n",
    "    train_loss.append(Loss.v)\n",
    "    \n",
    "    # Validation\n",
    "    Loss_validation = squared_loss(y_validation, forward(x_validation, NN))\n",
    "    val_loss.append(Loss_validation.v)\n",
    "    \n",
    "    if e%10==0:\n",
    "        print(\"{:4d}\".format(e),\n",
    "              \"({:5.2f}%)\".format(e/EPOCHS*100), \n",
    "              \"Train loss: {:4.3f} \\t Validation loss: {:4.3f}\".format(train_loss[-1], val_loss[-1]))\n",
    "        \n"
   ]
  },
  {
   "cell_type": "code",
   "execution_count": 88,
   "metadata": {
    "colab": {
     "base_uri": "https://localhost:8080/",
     "height": 265
    },
    "id": "VetyRWFwFtIY",
    "outputId": "344e490d-6d7d-455a-fa6f-88dd11eb957e"
   },
   "outputs": [
    {
     "data": {
      "image/png": "[encoded data removed]",
      "text/plain": [
       "<Figure size 640x480 with 1 Axes>"
      ]
     },
     "metadata": {},
     "output_type": "display_data"
    }
   ],
   "source": [
    "plt.plot(range(len(train_loss)), train_loss);\n",
    "plt.plot(range(len(val_loss)), val_loss);"
   ]
  },
  {
   "cell_type": "markdown",
   "metadata": {
    "id": "8OgmIrM9FtIb"
   },
   "source": [
    "# Testing\n",
    "\n",
    "We have kept the calculation of the test error separate in order to emphasize that you should not use the test set in optimization."
   ]
  },
  {
   "cell_type": "code",
   "execution_count": 89,
   "metadata": {
    "id": "HmNi7S-vFtIc"
   },
   "outputs": [],
   "source": [
    "output_test = forward(x_test, NN)"
   ]
  },
  {
   "cell_type": "code",
   "execution_count": 90,
   "metadata": {
    "colab": {
     "base_uri": "https://localhost:8080/",
     "height": 316
    },
    "id": "7mmJOTSEFtIf",
    "outputId": "e3264095-cefe-4aee-893d-bf152438e332"
   },
   "outputs": [
    {
     "name": "stdout",
     "output_type": "stream",
     "text": [
      "Test loss:  9.623\n"
     ]
    },
    {
     "data": {
      "image/png": "[encoded data removed]",
      "text/plain": [
       "<Figure size 640x480 with 1 Axes>"
      ]
     },
     "metadata": {},
     "output_type": "display_data"
    }
   ],
   "source": [
    "y_test_np = Var_to_nparray(y_test)\n",
    "plt.scatter(y_test_np, Var_to_nparray(output_test));\n",
    "plt.plot([np.min(y_test_np), np.max(y_test_np)], [np.min(y_test_np), np.max(y_test_np)], color='k');\n",
    "plt.xlabel(\"y\");\n",
    "plt.ylabel(\"$\\hat{y}$\");\n",
    "plt.title(\"Model prediction vs real in the test set, the close to the line the better\")\n",
    "plt.grid(True);\n",
    "plt.axis('equal');\n",
    "plt.tight_layout();\n",
    "\n",
    "Loss_test = squared_loss(y_test, forward(x_test, NN))\n",
    "\n",
    "print(\"Test loss:  {:4.3f}\".format(Loss_test.v))"
   ]
  },
  {
   "cell_type": "code",
   "execution_count": 91,
   "metadata": {
    "colab": {
     "base_uri": "https://localhost:8080/",
     "height": 279
    },
    "id": "ODi0WlmQFtIh",
    "outputId": "d1ab874f-0717-4987-87bf-1f0c7c8e7148"
   },
   "outputs": [
    {
     "data": {
      "image/png": "[encoded data removed]",
      "text/plain": [
       "<Figure size 640x480 with 1 Axes>"
      ]
     },
     "metadata": {},
     "output_type": "display_data"
    }
   ],
   "source": [
    "x_test_np = Var_to_nparray(x_test)\n",
    "x_train_np = Var_to_nparray(x_train)\n",
    "y_train_np = Var_to_nparray(y_train)\n",
    "if D1:\n",
    "    plt.scatter(x_train_np, y_train_np, label=\"train data\");\n",
    "    plt.scatter(x_test_np, Var_to_nparray(output_test), label=\"test prediction\");\n",
    "    plt.scatter(x_test_np, y_test_np, label=\"test data\");\n",
    "    plt.legend();\n",
    "    plt.xlabel(\"x\");\n",
    "    plt.ylabel(\"y\");\n",
    "else:\n",
    "    plt.scatter(x_train_np[:,1], y_train, label=\"train data\");\n",
    "    plt.scatter(x_test_np[:,1], Var_to_nparray(output_test), label=\"test data prediction\");\n",
    "    plt.scatter(x_test_np[:,1], y_test_np, label=\"test data\");\n",
    "    plt.legend();\n",
    "    plt.xlabel(\"x\");\n",
    "    plt.ylabel(\"y\");"
   ]
  },
  {
   "cell_type": "markdown",
   "metadata": {
    "id": "zTBAmjsAFtIk"
   },
   "source": [
    "## Exercise l) Show overfitting, underfitting and just right fitting\n",
    "\n",
    "Vary the architecture and other things to show clear signs of overfitting (=training loss significantly lower than test loss) and underfitting (=not fitting enoung to training data so that test performance is also hurt).\n",
    "\n",
    "See also if you can get a good compromise which leads to a low validation loss. \n",
    "\n",
    "For this problem do you see any big difference between validation and test loss? The answer here will probably be no. Discuss cases where it is important to keep the two separate.\n",
    "\n",
    "_Insert written answer here._\n"
   ]
  },
  {
   "cell_type": "code",
   "execution_count": 96,
   "metadata": {
    "id": "tQZCn2dxFtIl"
   },
   "outputs": [
    {
     "name": "stdout",
     "output_type": "stream",
     "text": [
      "   0 ( 0.00%) Train loss: 105.078 \t Validation loss: 107.376\n",
      "  10 ( 2.00%) Train loss: 100.893 \t Validation loss: 102.788\n",
      "  20 ( 4.00%) Train loss: 64.806 \t Validation loss: 57.632\n",
      "  30 ( 6.00%) Train loss: 20.124 \t Validation loss: 32.270\n",
      "  40 ( 8.00%) Train loss: 17.013 \t Validation loss: 13.858\n",
      "  50 (10.00%) Train loss: 15.965 \t Validation loss: 12.525\n",
      "  60 (12.00%) Train loss: 14.976 \t Validation loss: 11.495\n",
      "  70 (14.00%) Train loss: 14.077 \t Validation loss: 10.638\n",
      "  80 (16.00%) Train loss: 13.241 \t Validation loss: 9.907\n",
      "  90 (18.00%) Train loss: 12.632 \t Validation loss: 9.403\n",
      " 100 (20.00%) Train loss: 12.221 \t Validation loss: 9.141\n",
      " 110 (22.00%) Train loss: 12.019 \t Validation loss: 9.040\n",
      " 120 (24.00%) Train loss: 11.917 \t Validation loss: 8.997\n",
      " 130 (26.00%) Train loss: 11.862 \t Validation loss: 8.984\n",
      " 140 (28.00%) Train loss: 11.824 \t Validation loss: 8.974\n",
      " 150 (30.00%) Train loss: 11.795 \t Validation loss: 8.965\n",
      " 160 (32.00%) Train loss: 11.736 \t Validation loss: 8.939\n",
      " 170 (34.00%) Train loss: 11.593 \t Validation loss: 8.909\n",
      " 180 (36.00%) Train loss: 11.433 \t Validation loss: 8.873\n"
     ]
    },
    {
     "ename": "KeyboardInterrupt",
     "evalue": "",
     "output_type": "error",
     "traceback": [
      "\u001b[0;31m---------------------------------------------------------------------------\u001b[0m",
      "\u001b[0;31mKeyboardInterrupt\u001b[0m                         Traceback (most recent call last)",
      "Cell \u001b[0;32mIn[96], line 23\u001b[0m\n\u001b[1;32m     20\u001b[0m Loss \u001b[38;5;241m=\u001b[39m squared_loss(y_train, forward(x_train, NN1))\n\u001b[1;32m     22\u001b[0m \u001b[38;5;66;03m# Backward pass\u001b[39;00m\n\u001b[0;32m---> 23\u001b[0m \u001b[43mLoss\u001b[49m\u001b[38;5;241;43m.\u001b[39;49m\u001b[43mbackward\u001b[49m\u001b[43m(\u001b[49m\u001b[43m)\u001b[49m\n\u001b[1;32m     25\u001b[0m \u001b[38;5;66;03m# gradient descent update\u001b[39;00m\n\u001b[1;32m     26\u001b[0m update_parameters(parameters(NN1), LEARN_R)\n",
      "Cell \u001b[0;32mIn[56], line 22\u001b[0m, in \u001b[0;36mVar.backward\u001b[0;34m(self)\u001b[0m\n\u001b[1;32m     21\u001b[0m \u001b[38;5;28;01mdef\u001b[39;00m \u001b[38;5;21mbackward\u001b[39m(\u001b[38;5;28mself\u001b[39m):\n\u001b[0;32m---> 22\u001b[0m     \u001b[38;5;28;43mself\u001b[39;49m\u001b[38;5;241;43m.\u001b[39;49m\u001b[43mbackprop\u001b[49m\u001b[43m(\u001b[49m\u001b[38;5;241;43m1.0\u001b[39;49m\u001b[43m)\u001b[49m\n",
      "Cell \u001b[0;32mIn[56], line 19\u001b[0m, in \u001b[0;36mVar.backprop\u001b[0;34m(self, bp)\u001b[0m\n\u001b[1;32m     17\u001b[0m \u001b[38;5;28mself\u001b[39m\u001b[38;5;241m.\u001b[39mgrad \u001b[38;5;241m+\u001b[39m\u001b[38;5;241m=\u001b[39m bp\n\u001b[1;32m     18\u001b[0m \u001b[38;5;28;01mfor\u001b[39;00m \u001b[38;5;28minput\u001b[39m, grad \u001b[38;5;129;01min\u001b[39;00m \u001b[38;5;28mself\u001b[39m\u001b[38;5;241m.\u001b[39mgrad_fn():\n\u001b[0;32m---> 19\u001b[0m     \u001b[38;5;28;43minput\u001b[39;49m\u001b[38;5;241;43m.\u001b[39;49m\u001b[43mbackprop\u001b[49m\u001b[43m(\u001b[49m\u001b[43mgrad\u001b[49m\u001b[43m \u001b[49m\u001b[38;5;241;43m*\u001b[39;49m\u001b[43m \u001b[49m\u001b[43mbp\u001b[49m\u001b[43m)\u001b[49m\n",
      "Cell \u001b[0;32mIn[56], line 19\u001b[0m, in \u001b[0;36mVar.backprop\u001b[0;34m(self, bp)\u001b[0m\n\u001b[1;32m     17\u001b[0m \u001b[38;5;28mself\u001b[39m\u001b[38;5;241m.\u001b[39mgrad \u001b[38;5;241m+\u001b[39m\u001b[38;5;241m=\u001b[39m bp\n\u001b[1;32m     18\u001b[0m \u001b[38;5;28;01mfor\u001b[39;00m \u001b[38;5;28minput\u001b[39m, grad \u001b[38;5;129;01min\u001b[39;00m \u001b[38;5;28mself\u001b[39m\u001b[38;5;241m.\u001b[39mgrad_fn():\n\u001b[0;32m---> 19\u001b[0m     \u001b[38;5;28;43minput\u001b[39;49m\u001b[38;5;241;43m.\u001b[39;49m\u001b[43mbackprop\u001b[49m\u001b[43m(\u001b[49m\u001b[43mgrad\u001b[49m\u001b[43m \u001b[49m\u001b[38;5;241;43m*\u001b[39;49m\u001b[43m \u001b[49m\u001b[43mbp\u001b[49m\u001b[43m)\u001b[49m\n",
      "    \u001b[0;31m[... skipping similar frames: Var.backprop at line 19 (72 times)]\u001b[0m\n",
      "Cell \u001b[0;32mIn[56], line 19\u001b[0m, in \u001b[0;36mVar.backprop\u001b[0;34m(self, bp)\u001b[0m\n\u001b[1;32m     17\u001b[0m \u001b[38;5;28mself\u001b[39m\u001b[38;5;241m.\u001b[39mgrad \u001b[38;5;241m+\u001b[39m\u001b[38;5;241m=\u001b[39m bp\n\u001b[1;32m     18\u001b[0m \u001b[38;5;28;01mfor\u001b[39;00m \u001b[38;5;28minput\u001b[39m, grad \u001b[38;5;129;01min\u001b[39;00m \u001b[38;5;28mself\u001b[39m\u001b[38;5;241m.\u001b[39mgrad_fn():\n\u001b[0;32m---> 19\u001b[0m     \u001b[38;5;28;43minput\u001b[39;49m\u001b[38;5;241;43m.\u001b[39;49m\u001b[43mbackprop\u001b[49m\u001b[43m(\u001b[49m\u001b[43mgrad\u001b[49m\u001b[43m \u001b[49m\u001b[38;5;241;43m*\u001b[39;49m\u001b[43m \u001b[49m\u001b[43mbp\u001b[49m\u001b[43m)\u001b[49m\n",
      "Cell \u001b[0;32mIn[56], line 18\u001b[0m, in \u001b[0;36mVar.backprop\u001b[0;34m(self, bp)\u001b[0m\n\u001b[1;32m     16\u001b[0m \u001b[38;5;28;01mdef\u001b[39;00m \u001b[38;5;21mbackprop\u001b[39m(\u001b[38;5;28mself\u001b[39m, bp):\n\u001b[1;32m     17\u001b[0m     \u001b[38;5;28mself\u001b[39m\u001b[38;5;241m.\u001b[39mgrad \u001b[38;5;241m+\u001b[39m\u001b[38;5;241m=\u001b[39m bp\n\u001b[0;32m---> 18\u001b[0m     \u001b[38;5;28;01mfor\u001b[39;00m \u001b[38;5;28minput\u001b[39m, grad \u001b[38;5;129;01min\u001b[39;00m \u001b[38;5;28;43mself\u001b[39;49m\u001b[38;5;241;43m.\u001b[39;49m\u001b[43mgrad_fn\u001b[49m\u001b[43m(\u001b[49m\u001b[43m)\u001b[49m:\n\u001b[1;32m     19\u001b[0m         \u001b[38;5;28minput\u001b[39m\u001b[38;5;241m.\u001b[39mbackprop(grad \u001b[38;5;241m*\u001b[39m bp)\n",
      "Cell \u001b[0;32mIn[56], line 10\u001b[0m, in \u001b[0;36mVar.<lambda>\u001b[0;34m()\u001b[0m\n\u001b[1;32m      5\u001b[0m \u001b[38;5;28;01mclass\u001b[39;00m \u001b[38;5;21;01mVar\u001b[39;00m:\n\u001b[1;32m      6\u001b[0m \u001b[38;5;250m    \u001b[39m\u001b[38;5;124;03m\"\"\"\u001b[39;00m\n\u001b[1;32m      7\u001b[0m \u001b[38;5;124;03m    A variable which holds a float and enables gradient computations.\u001b[39;00m\n\u001b[1;32m      8\u001b[0m \u001b[38;5;124;03m    \"\"\"\u001b[39;00m\n\u001b[0;32m---> 10\u001b[0m     \u001b[38;5;28;01mdef\u001b[39;00m \u001b[38;5;21m__init__\u001b[39m(\u001b[38;5;28mself\u001b[39m, val: \u001b[38;5;28mfloat\u001b[39m, grad_fn\u001b[38;5;241m=\u001b[39m\u001b[38;5;28;01mlambda\u001b[39;00m: []):\n\u001b[1;32m     11\u001b[0m         \u001b[38;5;28;01massert\u001b[39;00m \u001b[38;5;28mtype\u001b[39m(val) \u001b[38;5;241m==\u001b[39m \u001b[38;5;28mfloat\u001b[39m\n\u001b[1;32m     12\u001b[0m         \u001b[38;5;28mself\u001b[39m\u001b[38;5;241m.\u001b[39mv \u001b[38;5;241m=\u001b[39m val\n",
      "\u001b[0;31mKeyboardInterrupt\u001b[0m: "
     ]
    }
   ],
   "source": [
    "# Insert your code for getting overfitting, underfitting and just right fitting\n",
    "# Overfitting (four layer NN with 500 epochs)\n",
    "NN1 = [\n",
    "    DenseLayer(1, 15, lambda x: x.relu()),\n",
    "    DenseLayer(15, 30, lambda x: x.relu()),\n",
    "    DenseLayer(30, 15, lambda x: x.relu()),\n",
    "    DenseLayer(15, 1, lambda x: x.ident())\n",
    "]\n",
    "\n",
    "# Initialize training hyperparameters\n",
    "EPOCHS = 500\n",
    "LEARN_R = 2e-3\n",
    "\n",
    "train_loss = []\n",
    "val_loss = []\n",
    "\n",
    "for e in range(EPOCHS):\n",
    "\n",
    "    # Forward pass and loss computation\n",
    "    Loss = squared_loss(y_train, forward(x_train, NN1))\n",
    "\n",
    "    # Backward pass\n",
    "    Loss.backward()\n",
    "\n",
    "    # gradient descent update\n",
    "    update_parameters(parameters(NN1), LEARN_R)\n",
    "    zero_gradients(parameters(NN1))\n",
    "\n",
    "    # Training loss\n",
    "    train_loss.append(Loss.v)\n",
    "\n",
    "    # Validation\n",
    "    Loss_validation = squared_loss(y_validation, forward(x_validation, NN1))\n",
    "    val_loss.append(Loss_validation.v)\n",
    "\n",
    "    if e%10==0:\n",
    "        print(\"{:4d}\".format(e),\n",
    "              \"({:5.2f}%)\".format(e/EPOCHS*100),\n",
    "              \"Train loss: {:4.3f} \\t Validation loss: {:4.3f}\".format(train_loss[-1], val_loss[-1]))"
   ]
  },
  {
   "cell_type": "code",
   "execution_count": 98,
   "metadata": {},
   "outputs": [
    {
     "data": {
      "text/plain": [
       "[<matplotlib.lines.Line2D at 0x7f648dba12a0>]"
      ]
     },
     "execution_count": 98,
     "metadata": {},
     "output_type": "execute_result"
    },
    {
     "data": {
      "image/png": "[encoded data removed]",
      "text/plain": [
       "<Figure size 640x480 with 1 Axes>"
      ]
     },
     "metadata": {},
     "output_type": "display_data"
    }
   ],
   "source": [
    "plt.plot(range(len(train_loss)), train_loss)\n",
    "plt.plot(range(len(val_loss)), val_loss)"
   ]
  },
  {
   "cell_type": "code",
   "execution_count": 100,
   "metadata": {},
   "outputs": [
    {
     "name": "stdout",
     "output_type": "stream",
     "text": [
      "   0 ( 0.00%) Train loss: 104.441 \t Validation loss: 105.497\n",
      "   1 (10.00%) Train loss: 102.232 \t Validation loss: 103.306\n",
      "   2 (20.00%) Train loss: 99.714 \t Validation loss: 100.337\n",
      "   3 (30.00%) Train loss: 96.374 \t Validation loss: 96.192\n",
      "   4 (40.00%) Train loss: 91.757 \t Validation loss: 90.501\n",
      "   5 (50.00%) Train loss: 85.486 \t Validation loss: 83.037\n",
      "   6 (60.00%) Train loss: 77.405 \t Validation loss: 73.945\n",
      "   7 (70.00%) Train loss: 67.828 \t Validation loss: 63.826\n",
      "   8 (80.00%) Train loss: 57.577 \t Validation loss: 53.574\n",
      "   9 (90.00%) Train loss: 47.741 \t Validation loss: 44.033\n"
     ]
    }
   ],
   "source": [
    "# Underfitting (two layer NN with 100 epochs)\n",
    "NN2 = [\n",
    "    DenseLayer(1, 5, lambda x: x.relu()),\n",
    "    DenseLayer(5, 1, lambda x: x.ident())\n",
    "]\n",
    "\n",
    "# Initialize training hyperparameters\n",
    "EPOCHS = 10\n",
    "LEARN_R = 2e-3\n",
    "\n",
    "train_loss = []\n",
    "val_loss = []\n",
    "\n",
    "for e in range(EPOCHS):\n",
    "\n",
    "    # Forward pass and loss computation\n",
    "    Loss = squared_loss(y_train, forward(x_train, NN2))\n",
    "\n",
    "    # Backward pass\n",
    "    Loss.backward()\n",
    "\n",
    "    # gradient descent update\n",
    "    update_parameters(parameters(NN2), LEARN_R)\n",
    "    zero_gradients(parameters(NN2))\n",
    "\n",
    "    # Training loss\n",
    "    train_loss.append(Loss.v)\n",
    "\n",
    "    # Validation\n",
    "    Loss_validation = squared_loss(y_validation, forward(x_validation, NN2))\n",
    "    val_loss.append(Loss_validation.v)\n",
    "\n",
    "\n",
    "    print(\"{:4d}\".format(e),\n",
    "              \"({:5.2f}%)\".format(e/EPOCHS*100),\n",
    "              \"Train loss: {:4.3f} \\t Validation loss: {:4.3f}\".format(train_loss[-1], val_loss[-1]))"
   ]
  },
  {
   "cell_type": "code",
   "execution_count": 101,
   "metadata": {},
   "outputs": [
    {
     "data": {
      "text/plain": [
       "[<matplotlib.lines.Line2D at 0x7f649d0c3b80>]"
      ]
     },
     "execution_count": 101,
     "metadata": {},
     "output_type": "execute_result"
    },
    {
     "data": {
      "image/png": "[encoded data removed]",
      "text/plain": [
       "<Figure size 640x480 with 1 Axes>"
      ]
     },
     "metadata": {},
     "output_type": "display_data"
    }
   ],
   "source": [
    "plt.plot(range(len(train_loss)), train_loss)\n",
    "plt.plot(range(len(val_loss)), val_loss)"
   ]
  },
  {
   "cell_type": "code",
   "execution_count": 103,
   "metadata": {},
   "outputs": [
    {
     "name": "stdout",
     "output_type": "stream",
     "text": [
      "   0 ( 0.00%) Train loss: 105.503 \t Validation loss: 107.799\n",
      "  10 ( 5.00%) Train loss: 101.644 \t Validation loss: 103.920\n",
      "  20 (10.00%) Train loss: 63.385 \t Validation loss: 59.698\n",
      "  30 (15.00%) Train loss: 20.185 \t Validation loss: 19.291\n",
      "  40 (20.00%) Train loss: 16.454 \t Validation loss: 14.933\n",
      "  50 (25.00%) Train loss: 33.078 \t Validation loss: 46.570\n",
      "  60 (30.00%) Train loss: 26.418 \t Validation loss: 31.043\n",
      "  70 (35.00%) Train loss: 26.688 \t Validation loss: 32.520\n",
      "  80 (40.00%) Train loss: 26.604 \t Validation loss: 31.122\n",
      "  90 (45.00%) Train loss: 26.867 \t Validation loss: 31.834\n",
      " 100 (50.00%) Train loss: 26.708 \t Validation loss: 31.183\n",
      " 110 (55.00%) Train loss: 26.560 \t Validation loss: 30.848\n",
      " 120 (60.00%) Train loss: 26.295 \t Validation loss: 30.355\n",
      " 130 (65.00%) Train loss: 25.995 \t Validation loss: 29.800\n",
      " 140 (70.00%) Train loss: 25.763 \t Validation loss: 29.313\n",
      " 150 (75.00%) Train loss: 25.395 \t Validation loss: 28.698\n",
      " 160 (80.00%) Train loss: 25.130 \t Validation loss: 28.286\n",
      " 170 (85.00%) Train loss: 24.921 \t Validation loss: 27.969\n",
      " 180 (90.00%) Train loss: 24.509 \t Validation loss: 27.380\n",
      " 190 (95.00%) Train loss: 24.380 \t Validation loss: 27.265\n"
     ]
    }
   ],
   "source": [
    "# Good balance (three layer NN with 200 epochs)\n",
    "NN3 = [\n",
    "    DenseLayer(1, 15, lambda x: x.relu()),\n",
    "    DenseLayer(15, 5, lambda x: x.relu()),\n",
    "    DenseLayer(5, 1, lambda x: x.ident())\n",
    "]\n",
    "\n",
    "# Initialize training hyperparameters\n",
    "EPOCHS = 200\n",
    "LEARN_R = 2e-3\n",
    "\n",
    "train_loss = []\n",
    "val_loss = []\n",
    "\n",
    "for e in range(EPOCHS):\n",
    "\n",
    "    # Forward pass and loss computation\n",
    "    Loss = squared_loss(y_train, forward(x_train, NN3))\n",
    "\n",
    "    # Backward pass\n",
    "    Loss.backward()\n",
    "\n",
    "    # gradient descent update\n",
    "    update_parameters(parameters(NN3), LEARN_R)\n",
    "    zero_gradients(parameters(NN3))\n",
    "\n",
    "    # Training loss\n",
    "    train_loss.append(Loss.v)\n",
    "\n",
    "    # Validation\n",
    "    Loss_validation = squared_loss(y_validation, forward(x_validation, NN3))\n",
    "    val_loss.append(Loss_validation.v)\n",
    "\n",
    "    if e%10==0:\n",
    "        print(\"{:4d}\".format(e),\n",
    "              \"({:5.2f}%)\".format(e/EPOCHS*100),\n",
    "              \"Train loss: {:4.3f} \\t Validation loss: {:4.3f}\".format(train_loss[-1], val_loss[-1]))"
   ]
  },
  {
   "cell_type": "code",
   "execution_count": 104,
   "metadata": {},
   "outputs": [
    {
     "data": {
      "text/plain": [
       "[<matplotlib.lines.Line2D at 0x7f6481f9cc40>]"
      ]
     },
     "execution_count": 104,
     "metadata": {},
     "output_type": "execute_result"
    },
    {
     "data": {
      "image/png": "[encoded data removed]",
      "text/plain": [
       "<Figure size 640x480 with 1 Axes>"
      ]
     },
     "metadata": {},
     "output_type": "display_data"
    }
   ],
   "source": [
    "plt.plot(range(len(train_loss)), train_loss)\n",
    "plt.plot(range(len(val_loss)), val_loss)"
   ]
  },
  {
   "cell_type": "markdown",
   "metadata": {
    "id": "fYPZP-eTFtIo"
   },
   "source": [
    "# Next steps - classification\n",
    "\n",
    "It is straight forward to extend what we have done to classification. \n",
    "\n",
    "For numerical stability it is better to make softmax and cross-entropy as one function so we write the cross entropy loss as a function of the logits we talked about last week. \n",
    "\n",
    "Next week we will see how to perform classification in PyTorch."
   ]
  },
  {
   "cell_type": "markdown",
   "metadata": {
    "id": "qsVPul3QFtIo"
   },
   "source": [
    "## Exercise m) optional - Implement backpropagation for classification\n",
    "\n",
    "Should be possible with very few lines of code. :-)"
   ]
  },
  {
   "cell_type": "code",
   "execution_count": 93,
   "metadata": {
    "id": "oC8QrI2tFtIp"
   },
   "outputs": [],
   "source": [
    "# Just add code."
   ]
  },
  {
   "cell_type": "markdown",
   "metadata": {
    "id": "APqhJv3tta1O"
   },
   "source": [
    "## Exercise n) optional - Introduce a NeuralNetwork class\n",
    "\n",
    "The functions we applied on the neural network (parameters, update_parameters and zero_gradients) can more naturally be included as methods in a NeuralNetwork class. Make such a class and modify the code to use it. "
   ]
  },
  {
   "cell_type": "code",
   "execution_count": 94,
   "metadata": {
    "id": "Dqfnor1ouMLq"
   },
   "outputs": [],
   "source": [
    "# just add some code"
   ]
  }
 ],
 "metadata": {
  "anaconda-cloud": {},
  "colab": {
   "collapsed_sections": [
    "U4057_ljNvWB",
    "p_8n_SKnIW2F",
    "oLrGJytZFtGm",
    "jpIZPBpNI0pO",
    "_79HOAXrFtHK",
    "mqeyab9qFtGs",
    "-XyXBD37FtHk",
    "SrwSJ2UWFtHu",
    "zTBAmjsAFtIk",
    "qsVPul3QFtIo",
    "APqhJv3tta1O"
   ],
   "name": "2.1-EXE-FNN-AutoDif-Nanograd.ipynb",
   "provenance": []
  },
  "kernelspec": {
   "display_name": "Python 3",
   "language": "python",
   "name": "python3"
  },
  "language_info": {
   "codemirror_mode": {
    "name": "ipython",
    "version": 3
   },
   "file_extension": ".py",
   "mimetype": "text/x-python",
   "name": "python",
   "nbconvert_exporter": "python",
   "pygments_lexer": "ipython3",
   "version": "3.10.14"
  }
 },
 "nbformat": 4,
 "nbformat_minor": 1
}
